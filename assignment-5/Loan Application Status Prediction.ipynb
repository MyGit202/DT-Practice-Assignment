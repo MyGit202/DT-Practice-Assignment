{
 "cells": [
  {
   "cell_type": "code",
   "execution_count": 1,
   "id": "2a9277d3",
   "metadata": {},
   "outputs": [],
   "source": [
    "# import some require libraries\n",
    "import pandas as pd\n",
    "import numpy as np\n",
    "import seaborn as sns\n",
    "import matplotlib.pyplot as plt"
   ]
  },
  {
   "cell_type": "code",
   "execution_count": 2,
   "id": "342f468b",
   "metadata": {},
   "outputs": [
    {
     "data": {
      "text/html": [
       "<div>\n",
       "<style scoped>\n",
       "    .dataframe tbody tr th:only-of-type {\n",
       "        vertical-align: middle;\n",
       "    }\n",
       "\n",
       "    .dataframe tbody tr th {\n",
       "        vertical-align: top;\n",
       "    }\n",
       "\n",
       "    .dataframe thead th {\n",
       "        text-align: right;\n",
       "    }\n",
       "</style>\n",
       "<table border=\"1\" class=\"dataframe\">\n",
       "  <thead>\n",
       "    <tr style=\"text-align: right;\">\n",
       "      <th></th>\n",
       "      <th>Loan_ID</th>\n",
       "      <th>Gender</th>\n",
       "      <th>Married</th>\n",
       "      <th>Dependents</th>\n",
       "      <th>Education</th>\n",
       "      <th>Self_Employed</th>\n",
       "      <th>ApplicantIncome</th>\n",
       "      <th>CoapplicantIncome</th>\n",
       "      <th>LoanAmount</th>\n",
       "      <th>Loan_Amount_Term</th>\n",
       "      <th>Credit_History</th>\n",
       "      <th>Property_Area</th>\n",
       "      <th>Loan_Status</th>\n",
       "    </tr>\n",
       "  </thead>\n",
       "  <tbody>\n",
       "    <tr>\n",
       "      <th>0</th>\n",
       "      <td>LP001002</td>\n",
       "      <td>Male</td>\n",
       "      <td>No</td>\n",
       "      <td>0</td>\n",
       "      <td>Graduate</td>\n",
       "      <td>No</td>\n",
       "      <td>5849</td>\n",
       "      <td>0.0</td>\n",
       "      <td>NaN</td>\n",
       "      <td>360.0</td>\n",
       "      <td>1.0</td>\n",
       "      <td>Urban</td>\n",
       "      <td>Y</td>\n",
       "    </tr>\n",
       "    <tr>\n",
       "      <th>1</th>\n",
       "      <td>LP001003</td>\n",
       "      <td>Male</td>\n",
       "      <td>Yes</td>\n",
       "      <td>1</td>\n",
       "      <td>Graduate</td>\n",
       "      <td>No</td>\n",
       "      <td>4583</td>\n",
       "      <td>1508.0</td>\n",
       "      <td>128.0</td>\n",
       "      <td>360.0</td>\n",
       "      <td>1.0</td>\n",
       "      <td>Rural</td>\n",
       "      <td>N</td>\n",
       "    </tr>\n",
       "    <tr>\n",
       "      <th>2</th>\n",
       "      <td>LP001005</td>\n",
       "      <td>Male</td>\n",
       "      <td>Yes</td>\n",
       "      <td>0</td>\n",
       "      <td>Graduate</td>\n",
       "      <td>Yes</td>\n",
       "      <td>3000</td>\n",
       "      <td>0.0</td>\n",
       "      <td>66.0</td>\n",
       "      <td>360.0</td>\n",
       "      <td>1.0</td>\n",
       "      <td>Urban</td>\n",
       "      <td>Y</td>\n",
       "    </tr>\n",
       "    <tr>\n",
       "      <th>3</th>\n",
       "      <td>LP001006</td>\n",
       "      <td>Male</td>\n",
       "      <td>Yes</td>\n",
       "      <td>0</td>\n",
       "      <td>Not Graduate</td>\n",
       "      <td>No</td>\n",
       "      <td>2583</td>\n",
       "      <td>2358.0</td>\n",
       "      <td>120.0</td>\n",
       "      <td>360.0</td>\n",
       "      <td>1.0</td>\n",
       "      <td>Urban</td>\n",
       "      <td>Y</td>\n",
       "    </tr>\n",
       "    <tr>\n",
       "      <th>4</th>\n",
       "      <td>LP001008</td>\n",
       "      <td>Male</td>\n",
       "      <td>No</td>\n",
       "      <td>0</td>\n",
       "      <td>Graduate</td>\n",
       "      <td>No</td>\n",
       "      <td>6000</td>\n",
       "      <td>0.0</td>\n",
       "      <td>141.0</td>\n",
       "      <td>360.0</td>\n",
       "      <td>1.0</td>\n",
       "      <td>Urban</td>\n",
       "      <td>Y</td>\n",
       "    </tr>\n",
       "    <tr>\n",
       "      <th>...</th>\n",
       "      <td>...</td>\n",
       "      <td>...</td>\n",
       "      <td>...</td>\n",
       "      <td>...</td>\n",
       "      <td>...</td>\n",
       "      <td>...</td>\n",
       "      <td>...</td>\n",
       "      <td>...</td>\n",
       "      <td>...</td>\n",
       "      <td>...</td>\n",
       "      <td>...</td>\n",
       "      <td>...</td>\n",
       "      <td>...</td>\n",
       "    </tr>\n",
       "    <tr>\n",
       "      <th>609</th>\n",
       "      <td>LP002978</td>\n",
       "      <td>Female</td>\n",
       "      <td>No</td>\n",
       "      <td>0</td>\n",
       "      <td>Graduate</td>\n",
       "      <td>No</td>\n",
       "      <td>2900</td>\n",
       "      <td>0.0</td>\n",
       "      <td>71.0</td>\n",
       "      <td>360.0</td>\n",
       "      <td>1.0</td>\n",
       "      <td>Rural</td>\n",
       "      <td>Y</td>\n",
       "    </tr>\n",
       "    <tr>\n",
       "      <th>610</th>\n",
       "      <td>LP002979</td>\n",
       "      <td>Male</td>\n",
       "      <td>Yes</td>\n",
       "      <td>3+</td>\n",
       "      <td>Graduate</td>\n",
       "      <td>No</td>\n",
       "      <td>4106</td>\n",
       "      <td>0.0</td>\n",
       "      <td>40.0</td>\n",
       "      <td>180.0</td>\n",
       "      <td>1.0</td>\n",
       "      <td>Rural</td>\n",
       "      <td>Y</td>\n",
       "    </tr>\n",
       "    <tr>\n",
       "      <th>611</th>\n",
       "      <td>LP002983</td>\n",
       "      <td>Male</td>\n",
       "      <td>Yes</td>\n",
       "      <td>1</td>\n",
       "      <td>Graduate</td>\n",
       "      <td>No</td>\n",
       "      <td>8072</td>\n",
       "      <td>240.0</td>\n",
       "      <td>253.0</td>\n",
       "      <td>360.0</td>\n",
       "      <td>1.0</td>\n",
       "      <td>Urban</td>\n",
       "      <td>Y</td>\n",
       "    </tr>\n",
       "    <tr>\n",
       "      <th>612</th>\n",
       "      <td>LP002984</td>\n",
       "      <td>Male</td>\n",
       "      <td>Yes</td>\n",
       "      <td>2</td>\n",
       "      <td>Graduate</td>\n",
       "      <td>No</td>\n",
       "      <td>7583</td>\n",
       "      <td>0.0</td>\n",
       "      <td>187.0</td>\n",
       "      <td>360.0</td>\n",
       "      <td>1.0</td>\n",
       "      <td>Urban</td>\n",
       "      <td>Y</td>\n",
       "    </tr>\n",
       "    <tr>\n",
       "      <th>613</th>\n",
       "      <td>LP002990</td>\n",
       "      <td>Female</td>\n",
       "      <td>No</td>\n",
       "      <td>0</td>\n",
       "      <td>Graduate</td>\n",
       "      <td>Yes</td>\n",
       "      <td>4583</td>\n",
       "      <td>0.0</td>\n",
       "      <td>133.0</td>\n",
       "      <td>360.0</td>\n",
       "      <td>0.0</td>\n",
       "      <td>Semiurban</td>\n",
       "      <td>N</td>\n",
       "    </tr>\n",
       "  </tbody>\n",
       "</table>\n",
       "<p>614 rows × 13 columns</p>\n",
       "</div>"
      ],
      "text/plain": [
       "      Loan_ID  Gender Married Dependents     Education Self_Employed  \\\n",
       "0    LP001002    Male      No          0      Graduate            No   \n",
       "1    LP001003    Male     Yes          1      Graduate            No   \n",
       "2    LP001005    Male     Yes          0      Graduate           Yes   \n",
       "3    LP001006    Male     Yes          0  Not Graduate            No   \n",
       "4    LP001008    Male      No          0      Graduate            No   \n",
       "..        ...     ...     ...        ...           ...           ...   \n",
       "609  LP002978  Female      No          0      Graduate            No   \n",
       "610  LP002979    Male     Yes         3+      Graduate            No   \n",
       "611  LP002983    Male     Yes          1      Graduate            No   \n",
       "612  LP002984    Male     Yes          2      Graduate            No   \n",
       "613  LP002990  Female      No          0      Graduate           Yes   \n",
       "\n",
       "     ApplicantIncome  CoapplicantIncome  LoanAmount  Loan_Amount_Term  \\\n",
       "0               5849                0.0         NaN             360.0   \n",
       "1               4583             1508.0       128.0             360.0   \n",
       "2               3000                0.0        66.0             360.0   \n",
       "3               2583             2358.0       120.0             360.0   \n",
       "4               6000                0.0       141.0             360.0   \n",
       "..               ...                ...         ...               ...   \n",
       "609             2900                0.0        71.0             360.0   \n",
       "610             4106                0.0        40.0             180.0   \n",
       "611             8072              240.0       253.0             360.0   \n",
       "612             7583                0.0       187.0             360.0   \n",
       "613             4583                0.0       133.0             360.0   \n",
       "\n",
       "     Credit_History Property_Area Loan_Status  \n",
       "0               1.0         Urban           Y  \n",
       "1               1.0         Rural           N  \n",
       "2               1.0         Urban           Y  \n",
       "3               1.0         Urban           Y  \n",
       "4               1.0         Urban           Y  \n",
       "..              ...           ...         ...  \n",
       "609             1.0         Rural           Y  \n",
       "610             1.0         Rural           Y  \n",
       "611             1.0         Urban           Y  \n",
       "612             1.0         Urban           Y  \n",
       "613             0.0     Semiurban           N  \n",
       "\n",
       "[614 rows x 13 columns]"
      ]
     },
     "execution_count": 2,
     "metadata": {},
     "output_type": "execute_result"
    }
   ],
   "source": [
    "df = pd.read_csv(\"Loan Application Status Prediction.csv\")\n",
    "df"
   ]
  },
  {
   "cell_type": "code",
   "execution_count": 3,
   "id": "b763ceb6",
   "metadata": {},
   "outputs": [
    {
     "name": "stdout",
     "output_type": "stream",
     "text": [
      "<class 'pandas.core.frame.DataFrame'>\n",
      "RangeIndex: 614 entries, 0 to 613\n",
      "Data columns (total 13 columns):\n",
      " #   Column             Non-Null Count  Dtype  \n",
      "---  ------             --------------  -----  \n",
      " 0   Loan_ID            614 non-null    object \n",
      " 1   Gender             601 non-null    object \n",
      " 2   Married            611 non-null    object \n",
      " 3   Dependents         599 non-null    object \n",
      " 4   Education          614 non-null    object \n",
      " 5   Self_Employed      582 non-null    object \n",
      " 6   ApplicantIncome    614 non-null    int64  \n",
      " 7   CoapplicantIncome  614 non-null    float64\n",
      " 8   LoanAmount         592 non-null    float64\n",
      " 9   Loan_Amount_Term   600 non-null    float64\n",
      " 10  Credit_History     564 non-null    float64\n",
      " 11  Property_Area      614 non-null    object \n",
      " 12  Loan_Status        614 non-null    object \n",
      "dtypes: float64(4), int64(1), object(8)\n",
      "memory usage: 62.5+ KB\n"
     ]
    }
   ],
   "source": [
    "df.info()"
   ]
  },
  {
   "cell_type": "raw",
   "id": "b7e6a628",
   "metadata": {},
   "source": [
    "Here we can see that in our data some null values is present in the columns of Gender,married,Dependents,self_Employed,LoanAmount,Loan_Amount_Term,Credit_History."
   ]
  },
  {
   "cell_type": "code",
   "execution_count": 4,
   "id": "8c0c668a",
   "metadata": {},
   "outputs": [
    {
     "data": {
      "text/html": [
       "<div>\n",
       "<style scoped>\n",
       "    .dataframe tbody tr th:only-of-type {\n",
       "        vertical-align: middle;\n",
       "    }\n",
       "\n",
       "    .dataframe tbody tr th {\n",
       "        vertical-align: top;\n",
       "    }\n",
       "\n",
       "    .dataframe thead th {\n",
       "        text-align: right;\n",
       "    }\n",
       "</style>\n",
       "<table border=\"1\" class=\"dataframe\">\n",
       "  <thead>\n",
       "    <tr style=\"text-align: right;\">\n",
       "      <th></th>\n",
       "      <th>Loan_ID</th>\n",
       "      <th>Gender</th>\n",
       "      <th>Married</th>\n",
       "      <th>Dependents</th>\n",
       "      <th>Education</th>\n",
       "      <th>Self_Employed</th>\n",
       "      <th>ApplicantIncome</th>\n",
       "      <th>CoapplicantIncome</th>\n",
       "      <th>LoanAmount</th>\n",
       "      <th>Loan_Amount_Term</th>\n",
       "      <th>Credit_History</th>\n",
       "      <th>Property_Area</th>\n",
       "      <th>Loan_Status</th>\n",
       "    </tr>\n",
       "  </thead>\n",
       "  <tbody>\n",
       "    <tr>\n",
       "      <th>0</th>\n",
       "      <td>False</td>\n",
       "      <td>False</td>\n",
       "      <td>False</td>\n",
       "      <td>False</td>\n",
       "      <td>False</td>\n",
       "      <td>False</td>\n",
       "      <td>False</td>\n",
       "      <td>False</td>\n",
       "      <td>True</td>\n",
       "      <td>False</td>\n",
       "      <td>False</td>\n",
       "      <td>False</td>\n",
       "      <td>False</td>\n",
       "    </tr>\n",
       "    <tr>\n",
       "      <th>1</th>\n",
       "      <td>False</td>\n",
       "      <td>False</td>\n",
       "      <td>False</td>\n",
       "      <td>False</td>\n",
       "      <td>False</td>\n",
       "      <td>False</td>\n",
       "      <td>False</td>\n",
       "      <td>False</td>\n",
       "      <td>False</td>\n",
       "      <td>False</td>\n",
       "      <td>False</td>\n",
       "      <td>False</td>\n",
       "      <td>False</td>\n",
       "    </tr>\n",
       "    <tr>\n",
       "      <th>2</th>\n",
       "      <td>False</td>\n",
       "      <td>False</td>\n",
       "      <td>False</td>\n",
       "      <td>False</td>\n",
       "      <td>False</td>\n",
       "      <td>False</td>\n",
       "      <td>False</td>\n",
       "      <td>False</td>\n",
       "      <td>False</td>\n",
       "      <td>False</td>\n",
       "      <td>False</td>\n",
       "      <td>False</td>\n",
       "      <td>False</td>\n",
       "    </tr>\n",
       "    <tr>\n",
       "      <th>3</th>\n",
       "      <td>False</td>\n",
       "      <td>False</td>\n",
       "      <td>False</td>\n",
       "      <td>False</td>\n",
       "      <td>False</td>\n",
       "      <td>False</td>\n",
       "      <td>False</td>\n",
       "      <td>False</td>\n",
       "      <td>False</td>\n",
       "      <td>False</td>\n",
       "      <td>False</td>\n",
       "      <td>False</td>\n",
       "      <td>False</td>\n",
       "    </tr>\n",
       "    <tr>\n",
       "      <th>4</th>\n",
       "      <td>False</td>\n",
       "      <td>False</td>\n",
       "      <td>False</td>\n",
       "      <td>False</td>\n",
       "      <td>False</td>\n",
       "      <td>False</td>\n",
       "      <td>False</td>\n",
       "      <td>False</td>\n",
       "      <td>False</td>\n",
       "      <td>False</td>\n",
       "      <td>False</td>\n",
       "      <td>False</td>\n",
       "      <td>False</td>\n",
       "    </tr>\n",
       "    <tr>\n",
       "      <th>...</th>\n",
       "      <td>...</td>\n",
       "      <td>...</td>\n",
       "      <td>...</td>\n",
       "      <td>...</td>\n",
       "      <td>...</td>\n",
       "      <td>...</td>\n",
       "      <td>...</td>\n",
       "      <td>...</td>\n",
       "      <td>...</td>\n",
       "      <td>...</td>\n",
       "      <td>...</td>\n",
       "      <td>...</td>\n",
       "      <td>...</td>\n",
       "    </tr>\n",
       "    <tr>\n",
       "      <th>609</th>\n",
       "      <td>False</td>\n",
       "      <td>False</td>\n",
       "      <td>False</td>\n",
       "      <td>False</td>\n",
       "      <td>False</td>\n",
       "      <td>False</td>\n",
       "      <td>False</td>\n",
       "      <td>False</td>\n",
       "      <td>False</td>\n",
       "      <td>False</td>\n",
       "      <td>False</td>\n",
       "      <td>False</td>\n",
       "      <td>False</td>\n",
       "    </tr>\n",
       "    <tr>\n",
       "      <th>610</th>\n",
       "      <td>False</td>\n",
       "      <td>False</td>\n",
       "      <td>False</td>\n",
       "      <td>False</td>\n",
       "      <td>False</td>\n",
       "      <td>False</td>\n",
       "      <td>False</td>\n",
       "      <td>False</td>\n",
       "      <td>False</td>\n",
       "      <td>False</td>\n",
       "      <td>False</td>\n",
       "      <td>False</td>\n",
       "      <td>False</td>\n",
       "    </tr>\n",
       "    <tr>\n",
       "      <th>611</th>\n",
       "      <td>False</td>\n",
       "      <td>False</td>\n",
       "      <td>False</td>\n",
       "      <td>False</td>\n",
       "      <td>False</td>\n",
       "      <td>False</td>\n",
       "      <td>False</td>\n",
       "      <td>False</td>\n",
       "      <td>False</td>\n",
       "      <td>False</td>\n",
       "      <td>False</td>\n",
       "      <td>False</td>\n",
       "      <td>False</td>\n",
       "    </tr>\n",
       "    <tr>\n",
       "      <th>612</th>\n",
       "      <td>False</td>\n",
       "      <td>False</td>\n",
       "      <td>False</td>\n",
       "      <td>False</td>\n",
       "      <td>False</td>\n",
       "      <td>False</td>\n",
       "      <td>False</td>\n",
       "      <td>False</td>\n",
       "      <td>False</td>\n",
       "      <td>False</td>\n",
       "      <td>False</td>\n",
       "      <td>False</td>\n",
       "      <td>False</td>\n",
       "    </tr>\n",
       "    <tr>\n",
       "      <th>613</th>\n",
       "      <td>False</td>\n",
       "      <td>False</td>\n",
       "      <td>False</td>\n",
       "      <td>False</td>\n",
       "      <td>False</td>\n",
       "      <td>False</td>\n",
       "      <td>False</td>\n",
       "      <td>False</td>\n",
       "      <td>False</td>\n",
       "      <td>False</td>\n",
       "      <td>False</td>\n",
       "      <td>False</td>\n",
       "      <td>False</td>\n",
       "    </tr>\n",
       "  </tbody>\n",
       "</table>\n",
       "<p>614 rows × 13 columns</p>\n",
       "</div>"
      ],
      "text/plain": [
       "     Loan_ID  Gender  Married  Dependents  Education  Self_Employed  \\\n",
       "0      False   False    False       False      False          False   \n",
       "1      False   False    False       False      False          False   \n",
       "2      False   False    False       False      False          False   \n",
       "3      False   False    False       False      False          False   \n",
       "4      False   False    False       False      False          False   \n",
       "..       ...     ...      ...         ...        ...            ...   \n",
       "609    False   False    False       False      False          False   \n",
       "610    False   False    False       False      False          False   \n",
       "611    False   False    False       False      False          False   \n",
       "612    False   False    False       False      False          False   \n",
       "613    False   False    False       False      False          False   \n",
       "\n",
       "     ApplicantIncome  CoapplicantIncome  LoanAmount  Loan_Amount_Term  \\\n",
       "0              False              False        True             False   \n",
       "1              False              False       False             False   \n",
       "2              False              False       False             False   \n",
       "3              False              False       False             False   \n",
       "4              False              False       False             False   \n",
       "..               ...                ...         ...               ...   \n",
       "609            False              False       False             False   \n",
       "610            False              False       False             False   \n",
       "611            False              False       False             False   \n",
       "612            False              False       False             False   \n",
       "613            False              False       False             False   \n",
       "\n",
       "     Credit_History  Property_Area  Loan_Status  \n",
       "0             False          False        False  \n",
       "1             False          False        False  \n",
       "2             False          False        False  \n",
       "3             False          False        False  \n",
       "4             False          False        False  \n",
       "..              ...            ...          ...  \n",
       "609           False          False        False  \n",
       "610           False          False        False  \n",
       "611           False          False        False  \n",
       "612           False          False        False  \n",
       "613           False          False        False  \n",
       "\n",
       "[614 rows x 13 columns]"
      ]
     },
     "execution_count": 4,
     "metadata": {},
     "output_type": "execute_result"
    }
   ],
   "source": [
    "# checking the null values in our data columns wise\n",
    "df.isnull()"
   ]
  },
  {
   "cell_type": "raw",
   "id": "0e4669a4",
   "metadata": {},
   "source": [
    "Here we found so many Null values in our data details are above."
   ]
  },
  {
   "cell_type": "code",
   "execution_count": 5,
   "id": "7cf903a0",
   "metadata": {},
   "outputs": [
    {
     "data": {
      "text/plain": [
       "Loan_ID               object\n",
       "Gender                object\n",
       "Married               object\n",
       "Dependents            object\n",
       "Education             object\n",
       "Self_Employed         object\n",
       "ApplicantIncome        int64\n",
       "CoapplicantIncome    float64\n",
       "LoanAmount           float64\n",
       "Loan_Amount_Term     float64\n",
       "Credit_History       float64\n",
       "Property_Area         object\n",
       "Loan_Status           object\n",
       "dtype: object"
      ]
     },
     "execution_count": 5,
     "metadata": {},
     "output_type": "execute_result"
    }
   ],
   "source": [
    "df.dtypes"
   ]
  },
  {
   "cell_type": "code",
   "execution_count": 6,
   "id": "f1b39e6f",
   "metadata": {},
   "outputs": [
    {
     "data": {
      "text/plain": [
       "array([ nan, 128.,  66., 120., 141., 267.,  95., 158., 168., 349.,  70.,\n",
       "       109., 200., 114.,  17., 125., 100.,  76., 133., 115., 104., 315.,\n",
       "       116., 112., 151., 191., 122., 110.,  35., 201.,  74., 106., 320.,\n",
       "       144., 184.,  80.,  47.,  75., 134.,  96.,  88.,  44., 286.,  97.,\n",
       "       135., 180.,  99., 165., 258., 126., 312., 136., 172.,  81., 187.,\n",
       "       113., 176., 130., 111., 167., 265.,  50., 210., 175., 131., 188.,\n",
       "        25., 137., 160., 225., 216.,  94., 139., 152., 118., 185., 154.,\n",
       "        85., 259., 194.,  93., 370., 182., 650., 102., 290.,  84., 242.,\n",
       "       129.,  30., 244., 600., 255.,  98., 275., 121.,  63., 700.,  87.,\n",
       "       101., 495.,  67.,  73., 260., 108.,  58.,  48., 164., 170.,  83.,\n",
       "        90., 166., 124.,  55.,  59., 127., 214., 240.,  72.,  60., 138.,\n",
       "        42., 280., 140., 155., 123., 279., 192., 304., 330., 150., 207.,\n",
       "       436.,  78.,  54.,  89., 143., 105., 132., 480.,  56., 159., 300.,\n",
       "       376., 117.,  71., 490., 173.,  46., 228., 308., 236., 570., 380.,\n",
       "       296., 156., 103.,  45.,  65.,  53., 360.,  62., 218., 178., 239.,\n",
       "       405., 148., 190., 149., 153., 162., 230.,  86., 234., 246., 500.,\n",
       "       186., 119., 107., 209., 208., 243.,  40., 250., 311., 400., 161.,\n",
       "       196., 324., 157., 145., 181.,  26., 211.,   9., 205.,  36.,  61.,\n",
       "       146., 292., 142., 350., 496., 253.])"
      ]
     },
     "execution_count": 6,
     "metadata": {},
     "output_type": "execute_result"
    }
   ],
   "source": [
    "# we are checking null values by single columns wise of all the columns.\n",
    "df['LoanAmount'].unique()"
   ]
  },
  {
   "cell_type": "code",
   "execution_count": 7,
   "id": "b9a5e093",
   "metadata": {},
   "outputs": [
    {
     "data": {
      "text/html": [
       "<div>\n",
       "<style scoped>\n",
       "    .dataframe tbody tr th:only-of-type {\n",
       "        vertical-align: middle;\n",
       "    }\n",
       "\n",
       "    .dataframe tbody tr th {\n",
       "        vertical-align: top;\n",
       "    }\n",
       "\n",
       "    .dataframe thead th {\n",
       "        text-align: right;\n",
       "    }\n",
       "</style>\n",
       "<table border=\"1\" class=\"dataframe\">\n",
       "  <thead>\n",
       "    <tr style=\"text-align: right;\">\n",
       "      <th></th>\n",
       "      <th>Loan_ID</th>\n",
       "      <th>Gender</th>\n",
       "      <th>Married</th>\n",
       "      <th>Dependents</th>\n",
       "      <th>Education</th>\n",
       "      <th>Self_Employed</th>\n",
       "      <th>ApplicantIncome</th>\n",
       "      <th>CoapplicantIncome</th>\n",
       "      <th>LoanAmount</th>\n",
       "      <th>Loan_Amount_Term</th>\n",
       "      <th>Credit_History</th>\n",
       "      <th>Property_Area</th>\n",
       "      <th>Loan_Status</th>\n",
       "    </tr>\n",
       "  </thead>\n",
       "  <tbody>\n",
       "    <tr>\n",
       "      <th>0</th>\n",
       "      <td>LP001002</td>\n",
       "      <td>Male</td>\n",
       "      <td>No</td>\n",
       "      <td>0</td>\n",
       "      <td>Graduate</td>\n",
       "      <td>No</td>\n",
       "      <td>5849</td>\n",
       "      <td>0.0</td>\n",
       "      <td>NaN</td>\n",
       "      <td>360.0</td>\n",
       "      <td>1.0</td>\n",
       "      <td>Urban</td>\n",
       "      <td>Y</td>\n",
       "    </tr>\n",
       "    <tr>\n",
       "      <th>1</th>\n",
       "      <td>LP001003</td>\n",
       "      <td>Male</td>\n",
       "      <td>Yes</td>\n",
       "      <td>1</td>\n",
       "      <td>Graduate</td>\n",
       "      <td>No</td>\n",
       "      <td>4583</td>\n",
       "      <td>1508.0</td>\n",
       "      <td>128.0</td>\n",
       "      <td>360.0</td>\n",
       "      <td>1.0</td>\n",
       "      <td>Rural</td>\n",
       "      <td>N</td>\n",
       "    </tr>\n",
       "    <tr>\n",
       "      <th>2</th>\n",
       "      <td>LP001005</td>\n",
       "      <td>Male</td>\n",
       "      <td>Yes</td>\n",
       "      <td>0</td>\n",
       "      <td>Graduate</td>\n",
       "      <td>Yes</td>\n",
       "      <td>3000</td>\n",
       "      <td>0.0</td>\n",
       "      <td>66.0</td>\n",
       "      <td>360.0</td>\n",
       "      <td>1.0</td>\n",
       "      <td>Urban</td>\n",
       "      <td>Y</td>\n",
       "    </tr>\n",
       "    <tr>\n",
       "      <th>3</th>\n",
       "      <td>LP001006</td>\n",
       "      <td>Male</td>\n",
       "      <td>Yes</td>\n",
       "      <td>0</td>\n",
       "      <td>Not Graduate</td>\n",
       "      <td>No</td>\n",
       "      <td>2583</td>\n",
       "      <td>2358.0</td>\n",
       "      <td>120.0</td>\n",
       "      <td>360.0</td>\n",
       "      <td>1.0</td>\n",
       "      <td>Urban</td>\n",
       "      <td>Y</td>\n",
       "    </tr>\n",
       "    <tr>\n",
       "      <th>4</th>\n",
       "      <td>LP001008</td>\n",
       "      <td>Male</td>\n",
       "      <td>No</td>\n",
       "      <td>0</td>\n",
       "      <td>Graduate</td>\n",
       "      <td>No</td>\n",
       "      <td>6000</td>\n",
       "      <td>0.0</td>\n",
       "      <td>141.0</td>\n",
       "      <td>360.0</td>\n",
       "      <td>1.0</td>\n",
       "      <td>Urban</td>\n",
       "      <td>Y</td>\n",
       "    </tr>\n",
       "    <tr>\n",
       "      <th>...</th>\n",
       "      <td>...</td>\n",
       "      <td>...</td>\n",
       "      <td>...</td>\n",
       "      <td>...</td>\n",
       "      <td>...</td>\n",
       "      <td>...</td>\n",
       "      <td>...</td>\n",
       "      <td>...</td>\n",
       "      <td>...</td>\n",
       "      <td>...</td>\n",
       "      <td>...</td>\n",
       "      <td>...</td>\n",
       "      <td>...</td>\n",
       "    </tr>\n",
       "    <tr>\n",
       "      <th>609</th>\n",
       "      <td>LP002978</td>\n",
       "      <td>Female</td>\n",
       "      <td>No</td>\n",
       "      <td>0</td>\n",
       "      <td>Graduate</td>\n",
       "      <td>No</td>\n",
       "      <td>2900</td>\n",
       "      <td>0.0</td>\n",
       "      <td>71.0</td>\n",
       "      <td>360.0</td>\n",
       "      <td>1.0</td>\n",
       "      <td>Rural</td>\n",
       "      <td>Y</td>\n",
       "    </tr>\n",
       "    <tr>\n",
       "      <th>610</th>\n",
       "      <td>LP002979</td>\n",
       "      <td>Male</td>\n",
       "      <td>Yes</td>\n",
       "      <td>3+</td>\n",
       "      <td>Graduate</td>\n",
       "      <td>No</td>\n",
       "      <td>4106</td>\n",
       "      <td>0.0</td>\n",
       "      <td>40.0</td>\n",
       "      <td>180.0</td>\n",
       "      <td>1.0</td>\n",
       "      <td>Rural</td>\n",
       "      <td>Y</td>\n",
       "    </tr>\n",
       "    <tr>\n",
       "      <th>611</th>\n",
       "      <td>LP002983</td>\n",
       "      <td>Male</td>\n",
       "      <td>Yes</td>\n",
       "      <td>1</td>\n",
       "      <td>Graduate</td>\n",
       "      <td>No</td>\n",
       "      <td>8072</td>\n",
       "      <td>240.0</td>\n",
       "      <td>253.0</td>\n",
       "      <td>360.0</td>\n",
       "      <td>1.0</td>\n",
       "      <td>Urban</td>\n",
       "      <td>Y</td>\n",
       "    </tr>\n",
       "    <tr>\n",
       "      <th>612</th>\n",
       "      <td>LP002984</td>\n",
       "      <td>Male</td>\n",
       "      <td>Yes</td>\n",
       "      <td>2</td>\n",
       "      <td>Graduate</td>\n",
       "      <td>No</td>\n",
       "      <td>7583</td>\n",
       "      <td>0.0</td>\n",
       "      <td>187.0</td>\n",
       "      <td>360.0</td>\n",
       "      <td>1.0</td>\n",
       "      <td>Urban</td>\n",
       "      <td>Y</td>\n",
       "    </tr>\n",
       "    <tr>\n",
       "      <th>613</th>\n",
       "      <td>LP002990</td>\n",
       "      <td>Female</td>\n",
       "      <td>No</td>\n",
       "      <td>0</td>\n",
       "      <td>Graduate</td>\n",
       "      <td>Yes</td>\n",
       "      <td>4583</td>\n",
       "      <td>0.0</td>\n",
       "      <td>133.0</td>\n",
       "      <td>360.0</td>\n",
       "      <td>0.0</td>\n",
       "      <td>Semiurban</td>\n",
       "      <td>N</td>\n",
       "    </tr>\n",
       "  </tbody>\n",
       "</table>\n",
       "<p>614 rows × 13 columns</p>\n",
       "</div>"
      ],
      "text/plain": [
       "      Loan_ID  Gender Married Dependents     Education Self_Employed  \\\n",
       "0    LP001002    Male      No          0      Graduate            No   \n",
       "1    LP001003    Male     Yes          1      Graduate            No   \n",
       "2    LP001005    Male     Yes          0      Graduate           Yes   \n",
       "3    LP001006    Male     Yes          0  Not Graduate            No   \n",
       "4    LP001008    Male      No          0      Graduate            No   \n",
       "..        ...     ...     ...        ...           ...           ...   \n",
       "609  LP002978  Female      No          0      Graduate            No   \n",
       "610  LP002979    Male     Yes         3+      Graduate            No   \n",
       "611  LP002983    Male     Yes          1      Graduate            No   \n",
       "612  LP002984    Male     Yes          2      Graduate            No   \n",
       "613  LP002990  Female      No          0      Graduate           Yes   \n",
       "\n",
       "     ApplicantIncome  CoapplicantIncome  LoanAmount  Loan_Amount_Term  \\\n",
       "0               5849                0.0         NaN             360.0   \n",
       "1               4583             1508.0       128.0             360.0   \n",
       "2               3000                0.0        66.0             360.0   \n",
       "3               2583             2358.0       120.0             360.0   \n",
       "4               6000                0.0       141.0             360.0   \n",
       "..               ...                ...         ...               ...   \n",
       "609             2900                0.0        71.0             360.0   \n",
       "610             4106                0.0        40.0             180.0   \n",
       "611             8072              240.0       253.0             360.0   \n",
       "612             7583                0.0       187.0             360.0   \n",
       "613             4583                0.0       133.0             360.0   \n",
       "\n",
       "     Credit_History Property_Area Loan_Status  \n",
       "0               1.0         Urban           Y  \n",
       "1               1.0         Rural           N  \n",
       "2               1.0         Urban           Y  \n",
       "3               1.0         Urban           Y  \n",
       "4               1.0         Urban           Y  \n",
       "..              ...           ...         ...  \n",
       "609             1.0         Rural           Y  \n",
       "610             1.0         Rural           Y  \n",
       "611             1.0         Urban           Y  \n",
       "612             1.0         Urban           Y  \n",
       "613             0.0     Semiurban           N  \n",
       "\n",
       "[614 rows x 13 columns]"
      ]
     },
     "execution_count": 7,
     "metadata": {},
     "output_type": "execute_result"
    }
   ],
   "source": [
    "# There are some columns presented with NaN values in \"str\" or \"char\" format so firstly we are fill NaN values.\n",
    "#from sklearn.preprocessing import Imputer\n",
    "\n",
    "from sklearn.impute import SimpleImputer\n",
    "imp=SimpleImputer(missing_values=np.nan,strategy=\"most_frequent\")\n",
    "df['Gender']=imp.fit_transform(df['Gender'].values.reshape(-1,1))\n",
    "df     # most_frequent using for object/string data)"
   ]
  },
  {
   "cell_type": "code",
   "execution_count": 8,
   "id": "0bbe1607",
   "metadata": {},
   "outputs": [
    {
     "data": {
      "text/plain": [
       "array(['Male', 'Female'], dtype=object)"
      ]
     },
     "execution_count": 8,
     "metadata": {},
     "output_type": "execute_result"
    }
   ],
   "source": [
    "# filled all the nan value of frequent data.\n",
    "df['Gender'].unique()"
   ]
  },
  {
   "cell_type": "code",
   "execution_count": 9,
   "id": "4cef789e",
   "metadata": {},
   "outputs": [
    {
     "data": {
      "text/html": [
       "<div>\n",
       "<style scoped>\n",
       "    .dataframe tbody tr th:only-of-type {\n",
       "        vertical-align: middle;\n",
       "    }\n",
       "\n",
       "    .dataframe tbody tr th {\n",
       "        vertical-align: top;\n",
       "    }\n",
       "\n",
       "    .dataframe thead th {\n",
       "        text-align: right;\n",
       "    }\n",
       "</style>\n",
       "<table border=\"1\" class=\"dataframe\">\n",
       "  <thead>\n",
       "    <tr style=\"text-align: right;\">\n",
       "      <th></th>\n",
       "      <th>Loan_ID</th>\n",
       "      <th>Gender</th>\n",
       "      <th>Married</th>\n",
       "      <th>Dependents</th>\n",
       "      <th>Education</th>\n",
       "      <th>Self_Employed</th>\n",
       "      <th>ApplicantIncome</th>\n",
       "      <th>CoapplicantIncome</th>\n",
       "      <th>LoanAmount</th>\n",
       "      <th>Loan_Amount_Term</th>\n",
       "      <th>Credit_History</th>\n",
       "      <th>Property_Area</th>\n",
       "      <th>Loan_Status</th>\n",
       "    </tr>\n",
       "  </thead>\n",
       "  <tbody>\n",
       "    <tr>\n",
       "      <th>0</th>\n",
       "      <td>LP001002</td>\n",
       "      <td>Male</td>\n",
       "      <td>No</td>\n",
       "      <td>0</td>\n",
       "      <td>Graduate</td>\n",
       "      <td>No</td>\n",
       "      <td>5849</td>\n",
       "      <td>0.0</td>\n",
       "      <td>120.0</td>\n",
       "      <td>360.0</td>\n",
       "      <td>1.0</td>\n",
       "      <td>Urban</td>\n",
       "      <td>Y</td>\n",
       "    </tr>\n",
       "    <tr>\n",
       "      <th>1</th>\n",
       "      <td>LP001003</td>\n",
       "      <td>Male</td>\n",
       "      <td>Yes</td>\n",
       "      <td>1</td>\n",
       "      <td>Graduate</td>\n",
       "      <td>No</td>\n",
       "      <td>4583</td>\n",
       "      <td>1508.0</td>\n",
       "      <td>128.0</td>\n",
       "      <td>360.0</td>\n",
       "      <td>1.0</td>\n",
       "      <td>Rural</td>\n",
       "      <td>N</td>\n",
       "    </tr>\n",
       "    <tr>\n",
       "      <th>2</th>\n",
       "      <td>LP001005</td>\n",
       "      <td>Male</td>\n",
       "      <td>Yes</td>\n",
       "      <td>0</td>\n",
       "      <td>Graduate</td>\n",
       "      <td>Yes</td>\n",
       "      <td>3000</td>\n",
       "      <td>0.0</td>\n",
       "      <td>66.0</td>\n",
       "      <td>360.0</td>\n",
       "      <td>1.0</td>\n",
       "      <td>Urban</td>\n",
       "      <td>Y</td>\n",
       "    </tr>\n",
       "    <tr>\n",
       "      <th>3</th>\n",
       "      <td>LP001006</td>\n",
       "      <td>Male</td>\n",
       "      <td>Yes</td>\n",
       "      <td>0</td>\n",
       "      <td>Not Graduate</td>\n",
       "      <td>No</td>\n",
       "      <td>2583</td>\n",
       "      <td>2358.0</td>\n",
       "      <td>120.0</td>\n",
       "      <td>360.0</td>\n",
       "      <td>1.0</td>\n",
       "      <td>Urban</td>\n",
       "      <td>Y</td>\n",
       "    </tr>\n",
       "    <tr>\n",
       "      <th>4</th>\n",
       "      <td>LP001008</td>\n",
       "      <td>Male</td>\n",
       "      <td>No</td>\n",
       "      <td>0</td>\n",
       "      <td>Graduate</td>\n",
       "      <td>No</td>\n",
       "      <td>6000</td>\n",
       "      <td>0.0</td>\n",
       "      <td>141.0</td>\n",
       "      <td>360.0</td>\n",
       "      <td>1.0</td>\n",
       "      <td>Urban</td>\n",
       "      <td>Y</td>\n",
       "    </tr>\n",
       "    <tr>\n",
       "      <th>...</th>\n",
       "      <td>...</td>\n",
       "      <td>...</td>\n",
       "      <td>...</td>\n",
       "      <td>...</td>\n",
       "      <td>...</td>\n",
       "      <td>...</td>\n",
       "      <td>...</td>\n",
       "      <td>...</td>\n",
       "      <td>...</td>\n",
       "      <td>...</td>\n",
       "      <td>...</td>\n",
       "      <td>...</td>\n",
       "      <td>...</td>\n",
       "    </tr>\n",
       "    <tr>\n",
       "      <th>609</th>\n",
       "      <td>LP002978</td>\n",
       "      <td>Female</td>\n",
       "      <td>No</td>\n",
       "      <td>0</td>\n",
       "      <td>Graduate</td>\n",
       "      <td>No</td>\n",
       "      <td>2900</td>\n",
       "      <td>0.0</td>\n",
       "      <td>71.0</td>\n",
       "      <td>360.0</td>\n",
       "      <td>1.0</td>\n",
       "      <td>Rural</td>\n",
       "      <td>Y</td>\n",
       "    </tr>\n",
       "    <tr>\n",
       "      <th>610</th>\n",
       "      <td>LP002979</td>\n",
       "      <td>Male</td>\n",
       "      <td>Yes</td>\n",
       "      <td>3+</td>\n",
       "      <td>Graduate</td>\n",
       "      <td>No</td>\n",
       "      <td>4106</td>\n",
       "      <td>0.0</td>\n",
       "      <td>40.0</td>\n",
       "      <td>180.0</td>\n",
       "      <td>1.0</td>\n",
       "      <td>Rural</td>\n",
       "      <td>Y</td>\n",
       "    </tr>\n",
       "    <tr>\n",
       "      <th>611</th>\n",
       "      <td>LP002983</td>\n",
       "      <td>Male</td>\n",
       "      <td>Yes</td>\n",
       "      <td>1</td>\n",
       "      <td>Graduate</td>\n",
       "      <td>No</td>\n",
       "      <td>8072</td>\n",
       "      <td>240.0</td>\n",
       "      <td>253.0</td>\n",
       "      <td>360.0</td>\n",
       "      <td>1.0</td>\n",
       "      <td>Urban</td>\n",
       "      <td>Y</td>\n",
       "    </tr>\n",
       "    <tr>\n",
       "      <th>612</th>\n",
       "      <td>LP002984</td>\n",
       "      <td>Male</td>\n",
       "      <td>Yes</td>\n",
       "      <td>2</td>\n",
       "      <td>Graduate</td>\n",
       "      <td>No</td>\n",
       "      <td>7583</td>\n",
       "      <td>0.0</td>\n",
       "      <td>187.0</td>\n",
       "      <td>360.0</td>\n",
       "      <td>1.0</td>\n",
       "      <td>Urban</td>\n",
       "      <td>Y</td>\n",
       "    </tr>\n",
       "    <tr>\n",
       "      <th>613</th>\n",
       "      <td>LP002990</td>\n",
       "      <td>Female</td>\n",
       "      <td>No</td>\n",
       "      <td>0</td>\n",
       "      <td>Graduate</td>\n",
       "      <td>Yes</td>\n",
       "      <td>4583</td>\n",
       "      <td>0.0</td>\n",
       "      <td>133.0</td>\n",
       "      <td>360.0</td>\n",
       "      <td>0.0</td>\n",
       "      <td>Semiurban</td>\n",
       "      <td>N</td>\n",
       "    </tr>\n",
       "  </tbody>\n",
       "</table>\n",
       "<p>614 rows × 13 columns</p>\n",
       "</div>"
      ],
      "text/plain": [
       "      Loan_ID  Gender Married Dependents     Education Self_Employed  \\\n",
       "0    LP001002    Male      No          0      Graduate            No   \n",
       "1    LP001003    Male     Yes          1      Graduate            No   \n",
       "2    LP001005    Male     Yes          0      Graduate           Yes   \n",
       "3    LP001006    Male     Yes          0  Not Graduate            No   \n",
       "4    LP001008    Male      No          0      Graduate            No   \n",
       "..        ...     ...     ...        ...           ...           ...   \n",
       "609  LP002978  Female      No          0      Graduate            No   \n",
       "610  LP002979    Male     Yes         3+      Graduate            No   \n",
       "611  LP002983    Male     Yes          1      Graduate            No   \n",
       "612  LP002984    Male     Yes          2      Graduate            No   \n",
       "613  LP002990  Female      No          0      Graduate           Yes   \n",
       "\n",
       "     ApplicantIncome  CoapplicantIncome  LoanAmount  Loan_Amount_Term  \\\n",
       "0               5849                0.0       120.0             360.0   \n",
       "1               4583             1508.0       128.0             360.0   \n",
       "2               3000                0.0        66.0             360.0   \n",
       "3               2583             2358.0       120.0             360.0   \n",
       "4               6000                0.0       141.0             360.0   \n",
       "..               ...                ...         ...               ...   \n",
       "609             2900                0.0        71.0             360.0   \n",
       "610             4106                0.0        40.0             180.0   \n",
       "611             8072              240.0       253.0             360.0   \n",
       "612             7583                0.0       187.0             360.0   \n",
       "613             4583                0.0       133.0             360.0   \n",
       "\n",
       "     Credit_History Property_Area Loan_Status  \n",
       "0               1.0         Urban           Y  \n",
       "1               1.0         Rural           N  \n",
       "2               1.0         Urban           Y  \n",
       "3               1.0         Urban           Y  \n",
       "4               1.0         Urban           Y  \n",
       "..              ...           ...         ...  \n",
       "609             1.0         Rural           Y  \n",
       "610             1.0         Rural           Y  \n",
       "611             1.0         Urban           Y  \n",
       "612             1.0         Urban           Y  \n",
       "613             0.0     Semiurban           N  \n",
       "\n",
       "[614 rows x 13 columns]"
      ]
     },
     "execution_count": 9,
     "metadata": {},
     "output_type": "execute_result"
    }
   ],
   "source": [
    "# filled all the nan value of frequent data.\n",
    "from sklearn.impute import SimpleImputer\n",
    "imp=SimpleImputer(missing_values=np.nan,strategy=\"most_frequent\")\n",
    "df['Married']=imp.fit_transform(df['Married'].values.reshape(-1,1))\n",
    "df['Self_Employed']=imp.fit_transform(df['Self_Employed'].values.reshape(-1,1))\n",
    "df['Loan_Amount_Term']=imp.fit_transform(df['Loan_Amount_Term'].values.reshape(-1,1))\n",
    "df['Credit_History']=imp.fit_transform(df['Credit_History'].values.reshape(-1,1))\n",
    "df['Dependents']=imp.fit_transform(df['Dependents'].values.reshape(-1,1))\n",
    "df['LoanAmount']=imp.fit_transform(df['LoanAmount'].values.reshape(-1,1))\n",
    "df     # most_frequent using for object/string data)"
   ]
  },
  {
   "cell_type": "code",
   "execution_count": 10,
   "id": "c7d0a9dc",
   "metadata": {},
   "outputs": [
    {
     "data": {
      "text/plain": [
       "array(['No', 'Yes'], dtype=object)"
      ]
     },
     "execution_count": 10,
     "metadata": {},
     "output_type": "execute_result"
    }
   ],
   "source": [
    "df['Married'].unique()"
   ]
  },
  {
   "cell_type": "code",
   "execution_count": 11,
   "id": "89642735",
   "metadata": {},
   "outputs": [],
   "source": [
    "# Here we are encode some data which is need to encode it\n",
    "from sklearn.preprocessing import LabelEncoder,OneHotEncoder\n",
    "le=LabelEncoder()"
   ]
  },
  {
   "cell_type": "code",
   "execution_count": 12,
   "id": "e253b0f2",
   "metadata": {},
   "outputs": [
    {
     "data": {
      "text/html": [
       "<div>\n",
       "<style scoped>\n",
       "    .dataframe tbody tr th:only-of-type {\n",
       "        vertical-align: middle;\n",
       "    }\n",
       "\n",
       "    .dataframe tbody tr th {\n",
       "        vertical-align: top;\n",
       "    }\n",
       "\n",
       "    .dataframe thead th {\n",
       "        text-align: right;\n",
       "    }\n",
       "</style>\n",
       "<table border=\"1\" class=\"dataframe\">\n",
       "  <thead>\n",
       "    <tr style=\"text-align: right;\">\n",
       "      <th></th>\n",
       "      <th>Loan_ID</th>\n",
       "      <th>Gender</th>\n",
       "      <th>Married</th>\n",
       "      <th>Dependents</th>\n",
       "      <th>Education</th>\n",
       "      <th>Self_Employed</th>\n",
       "      <th>ApplicantIncome</th>\n",
       "      <th>CoapplicantIncome</th>\n",
       "      <th>LoanAmount</th>\n",
       "      <th>Loan_Amount_Term</th>\n",
       "      <th>Credit_History</th>\n",
       "      <th>Property_Area</th>\n",
       "      <th>Loan_Status</th>\n",
       "    </tr>\n",
       "  </thead>\n",
       "  <tbody>\n",
       "    <tr>\n",
       "      <th>0</th>\n",
       "      <td>LP001002</td>\n",
       "      <td>1</td>\n",
       "      <td>0</td>\n",
       "      <td>0</td>\n",
       "      <td>0</td>\n",
       "      <td>0</td>\n",
       "      <td>5849</td>\n",
       "      <td>0.0</td>\n",
       "      <td>120.0</td>\n",
       "      <td>360.0</td>\n",
       "      <td>1.0</td>\n",
       "      <td>2</td>\n",
       "      <td>1</td>\n",
       "    </tr>\n",
       "    <tr>\n",
       "      <th>1</th>\n",
       "      <td>LP001003</td>\n",
       "      <td>1</td>\n",
       "      <td>1</td>\n",
       "      <td>1</td>\n",
       "      <td>0</td>\n",
       "      <td>0</td>\n",
       "      <td>4583</td>\n",
       "      <td>1508.0</td>\n",
       "      <td>128.0</td>\n",
       "      <td>360.0</td>\n",
       "      <td>1.0</td>\n",
       "      <td>0</td>\n",
       "      <td>0</td>\n",
       "    </tr>\n",
       "    <tr>\n",
       "      <th>2</th>\n",
       "      <td>LP001005</td>\n",
       "      <td>1</td>\n",
       "      <td>1</td>\n",
       "      <td>0</td>\n",
       "      <td>0</td>\n",
       "      <td>1</td>\n",
       "      <td>3000</td>\n",
       "      <td>0.0</td>\n",
       "      <td>66.0</td>\n",
       "      <td>360.0</td>\n",
       "      <td>1.0</td>\n",
       "      <td>2</td>\n",
       "      <td>1</td>\n",
       "    </tr>\n",
       "    <tr>\n",
       "      <th>3</th>\n",
       "      <td>LP001006</td>\n",
       "      <td>1</td>\n",
       "      <td>1</td>\n",
       "      <td>0</td>\n",
       "      <td>1</td>\n",
       "      <td>0</td>\n",
       "      <td>2583</td>\n",
       "      <td>2358.0</td>\n",
       "      <td>120.0</td>\n",
       "      <td>360.0</td>\n",
       "      <td>1.0</td>\n",
       "      <td>2</td>\n",
       "      <td>1</td>\n",
       "    </tr>\n",
       "    <tr>\n",
       "      <th>4</th>\n",
       "      <td>LP001008</td>\n",
       "      <td>1</td>\n",
       "      <td>0</td>\n",
       "      <td>0</td>\n",
       "      <td>0</td>\n",
       "      <td>0</td>\n",
       "      <td>6000</td>\n",
       "      <td>0.0</td>\n",
       "      <td>141.0</td>\n",
       "      <td>360.0</td>\n",
       "      <td>1.0</td>\n",
       "      <td>2</td>\n",
       "      <td>1</td>\n",
       "    </tr>\n",
       "  </tbody>\n",
       "</table>\n",
       "</div>"
      ],
      "text/plain": [
       "    Loan_ID  Gender  Married  Dependents  Education  Self_Employed  \\\n",
       "0  LP001002       1        0           0          0              0   \n",
       "1  LP001003       1        1           1          0              0   \n",
       "2  LP001005       1        1           0          0              1   \n",
       "3  LP001006       1        1           0          1              0   \n",
       "4  LP001008       1        0           0          0              0   \n",
       "\n",
       "   ApplicantIncome  CoapplicantIncome  LoanAmount  Loan_Amount_Term  \\\n",
       "0             5849                0.0       120.0             360.0   \n",
       "1             4583             1508.0       128.0             360.0   \n",
       "2             3000                0.0        66.0             360.0   \n",
       "3             2583             2358.0       120.0             360.0   \n",
       "4             6000                0.0       141.0             360.0   \n",
       "\n",
       "   Credit_History  Property_Area  Loan_Status  \n",
       "0             1.0              2            1  \n",
       "1             1.0              0            0  \n",
       "2             1.0              2            1  \n",
       "3             1.0              2            1  \n",
       "4             1.0              2            1  "
      ]
     },
     "execution_count": 12,
     "metadata": {},
     "output_type": "execute_result"
    }
   ],
   "source": [
    "# use LabelEncoder to convert the str or char data into int.\n",
    "df['Gender']=le.fit_transform(df['Gender'])\n",
    "df['Married']=le.fit_transform(df['Married'])\n",
    "df['Education']=le.fit_transform(df['Education'])\n",
    "df['Self_Employed']=le.fit_transform(df['Self_Employed'])\n",
    "df['Property_Area']=le.fit_transform(df['Property_Area'])\n",
    "df['Loan_Status']=le.fit_transform(df['Loan_Status'])\n",
    "df['Dependents']=le.fit_transform(df['Dependents'])\n",
    "df.head()"
   ]
  },
  {
   "cell_type": "code",
   "execution_count": 13,
   "id": "d63a4fe3",
   "metadata": {},
   "outputs": [
    {
     "data": {
      "text/plain": [
       "array([0, 1, 2, 3])"
      ]
     },
     "execution_count": 13,
     "metadata": {},
     "output_type": "execute_result"
    }
   ],
   "source": [
    "df['Dependents'].unique()"
   ]
  },
  {
   "cell_type": "code",
   "execution_count": 14,
   "id": "3550a1df",
   "metadata": {},
   "outputs": [
    {
     "name": "stdout",
     "output_type": "stream",
     "text": [
      "<class 'pandas.core.frame.DataFrame'>\n",
      "RangeIndex: 614 entries, 0 to 613\n",
      "Data columns (total 13 columns):\n",
      " #   Column             Non-Null Count  Dtype  \n",
      "---  ------             --------------  -----  \n",
      " 0   Loan_ID            614 non-null    object \n",
      " 1   Gender             614 non-null    int32  \n",
      " 2   Married            614 non-null    int32  \n",
      " 3   Dependents         614 non-null    int32  \n",
      " 4   Education          614 non-null    int32  \n",
      " 5   Self_Employed      614 non-null    int32  \n",
      " 6   ApplicantIncome    614 non-null    int64  \n",
      " 7   CoapplicantIncome  614 non-null    float64\n",
      " 8   LoanAmount         614 non-null    float64\n",
      " 9   Loan_Amount_Term   614 non-null    float64\n",
      " 10  Credit_History     614 non-null    float64\n",
      " 11  Property_Area      614 non-null    int32  \n",
      " 12  Loan_Status        614 non-null    int32  \n",
      "dtypes: float64(4), int32(7), int64(1), object(1)\n",
      "memory usage: 45.7+ KB\n"
     ]
    }
   ],
   "source": [
    "# There is no null values and data types are in either int64 or float64.\n",
    "df.info()"
   ]
  },
  {
   "cell_type": "code",
   "execution_count": 15,
   "id": "18b3eedb",
   "metadata": {},
   "outputs": [
    {
     "data": {
      "text/plain": [
       "<AxesSubplot:>"
      ]
     },
     "execution_count": 15,
     "metadata": {},
     "output_type": "execute_result"
    },
    {
     "data": {
      "image/png": "[encoded data removed]",
      "text/plain": [
       "<Figure size 432x288 with 2 Axes>"
      ]
     },
     "metadata": {
      "needs_background": "light"
     },
     "output_type": "display_data"
    }
   ],
   "source": [
    "import seaborn as sns\n",
    "sns.heatmap(df.isnull())"
   ]
  },
  {
   "cell_type": "raw",
   "id": "892ba44a",
   "metadata": {},
   "source": [
    "we are not taking Loan_ID for our analysis because its not impacting on our analysis.\n",
    "There is no null value so we will go for EDA process with visualization."
   ]
  },
  {
   "cell_type": "markdown",
   "id": "9025426a",
   "metadata": {},
   "source": [
    "# EDA:"
   ]
  },
  {
   "cell_type": "markdown",
   "id": "0ec90f5f",
   "metadata": {},
   "source": [
    "# ScatterPlot"
   ]
  },
  {
   "cell_type": "code",
   "execution_count": 16,
   "id": "45c428b5",
   "metadata": {},
   "outputs": [
    {
     "data": {
      "text/plain": [
       "<AxesSubplot:xlabel='Loan_ID', ylabel='Loan_Status'>"
      ]
     },
     "execution_count": 16,
     "metadata": {},
     "output_type": "execute_result"
    },
    {
     "data": {
      "image/png": "[encoded data removed]",
      "text/plain": [
       "<Figure size 432x288 with 1 Axes>"
      ]
     },
     "metadata": {
      "needs_background": "light"
     },
     "output_type": "display_data"
    }
   ],
   "source": [
    "import seaborn as sns\n",
    "sns.scatterplot(x='Loan_ID',y='Loan_Status',data=df)"
   ]
  },
  {
   "cell_type": "code",
   "execution_count": 17,
   "id": "2cb16d08",
   "metadata": {},
   "outputs": [
    {
     "data": {
      "text/plain": [
       "<AxesSubplot:xlabel='Gender', ylabel='Loan_Status'>"
      ]
     },
     "execution_count": 17,
     "metadata": {},
     "output_type": "execute_result"
    },
    {
     "data": {
      "image/png": "[encoded data removed]",
      "text/plain": [
       "<Figure size 432x288 with 1 Axes>"
      ]
     },
     "metadata": {
      "needs_background": "light"
     },
     "output_type": "display_data"
    }
   ],
   "source": [
    "sns.scatterplot(x='Gender',y='Loan_Status',data=df)"
   ]
  },
  {
   "cell_type": "code",
   "execution_count": 18,
   "id": "c522228c",
   "metadata": {},
   "outputs": [
    {
     "data": {
      "text/plain": [
       "<AxesSubplot:xlabel='Married', ylabel='Loan_Status'>"
      ]
     },
     "execution_count": 18,
     "metadata": {},
     "output_type": "execute_result"
    },
    {
     "data": {
      "image/png": "[encoded data removed]",
      "text/plain": [
       "<Figure size 432x288 with 1 Axes>"
      ]
     },
     "metadata": {
      "needs_background": "light"
     },
     "output_type": "display_data"
    }
   ],
   "source": [
    "sns.scatterplot(x='Married',y='Loan_Status',data=df)"
   ]
  },
  {
   "cell_type": "code",
   "execution_count": 19,
   "id": "2ec15463",
   "metadata": {},
   "outputs": [
    {
     "data": {
      "text/plain": [
       "<AxesSubplot:xlabel='Dependents', ylabel='Loan_Status'>"
      ]
     },
     "execution_count": 19,
     "metadata": {},
     "output_type": "execute_result"
    },
    {
     "data": {
      "image/png": "[encoded data removed]",
      "text/plain": [
       "<Figure size 432x288 with 1 Axes>"
      ]
     },
     "metadata": {
      "needs_background": "light"
     },
     "output_type": "display_data"
    }
   ],
   "source": [
    "sns.scatterplot(x='Dependents',y='Loan_Status',data=df)"
   ]
  },
  {
   "cell_type": "code",
   "execution_count": 20,
   "id": "93362294",
   "metadata": {},
   "outputs": [
    {
     "data": {
      "text/plain": [
       "<AxesSubplot:xlabel='Education', ylabel='Loan_Status'>"
      ]
     },
     "execution_count": 20,
     "metadata": {},
     "output_type": "execute_result"
    },
    {
     "data": {
      "image/png": "[encoded data removed]",
      "text/plain": [
       "<Figure size 432x288 with 1 Axes>"
      ]
     },
     "metadata": {
      "needs_background": "light"
     },
     "output_type": "display_data"
    }
   ],
   "source": [
    "sns.scatterplot(x='Education',y='Loan_Status',data=df)"
   ]
  },
  {
   "cell_type": "code",
   "execution_count": 21,
   "id": "cdd9bae3",
   "metadata": {},
   "outputs": [
    {
     "data": {
      "text/plain": [
       "<AxesSubplot:xlabel='Self_Employed', ylabel='Loan_Status'>"
      ]
     },
     "execution_count": 21,
     "metadata": {},
     "output_type": "execute_result"
    },
    {
     "data": {
      "image/png": "[encoded data removed]",
      "text/plain": [
       "<Figure size 432x288 with 1 Axes>"
      ]
     },
     "metadata": {
      "needs_background": "light"
     },
     "output_type": "display_data"
    }
   ],
   "source": [
    "sns.scatterplot(x='Self_Employed',y='Loan_Status',data=df)"
   ]
  },
  {
   "cell_type": "code",
   "execution_count": 22,
   "id": "f9ffd879",
   "metadata": {},
   "outputs": [
    {
     "data": {
      "text/plain": [
       "<AxesSubplot:xlabel='ApplicantIncome', ylabel='Loan_Status'>"
      ]
     },
     "execution_count": 22,
     "metadata": {},
     "output_type": "execute_result"
    },
    {
     "data": {
      "image/png": "[encoded data removed]",
      "text/plain": [
       "<Figure size 432x288 with 1 Axes>"
      ]
     },
     "metadata": {
      "needs_background": "light"
     },
     "output_type": "display_data"
    }
   ],
   "source": [
    "sns.scatterplot(x='ApplicantIncome',y='Loan_Status',data=df)"
   ]
  },
  {
   "cell_type": "code",
   "execution_count": 23,
   "id": "03518ace",
   "metadata": {},
   "outputs": [
    {
     "data": {
      "text/plain": [
       "<AxesSubplot:xlabel='CoapplicantIncome', ylabel='Loan_Status'>"
      ]
     },
     "execution_count": 23,
     "metadata": {},
     "output_type": "execute_result"
    },
    {
     "data": {
      "image/png": "[encoded data removed]",
      "text/plain": [
       "<Figure size 432x288 with 1 Axes>"
      ]
     },
     "metadata": {
      "needs_background": "light"
     },
     "output_type": "display_data"
    }
   ],
   "source": [
    "sns.scatterplot(x='CoapplicantIncome',y='Loan_Status',data=df)"
   ]
  },
  {
   "cell_type": "code",
   "execution_count": 24,
   "id": "9f320c68",
   "metadata": {},
   "outputs": [
    {
     "data": {
      "text/plain": [
       "<AxesSubplot:xlabel='LoanAmount', ylabel='Loan_Status'>"
      ]
     },
     "execution_count": 24,
     "metadata": {},
     "output_type": "execute_result"
    },
    {
     "data": {
      "image/png": "[encoded data removed]",
      "text/plain": [
       "<Figure size 432x288 with 1 Axes>"
      ]
     },
     "metadata": {
      "needs_background": "light"
     },
     "output_type": "display_data"
    }
   ],
   "source": [
    "sns.scatterplot(x='LoanAmount',y='Loan_Status',data=df)"
   ]
  },
  {
   "cell_type": "code",
   "execution_count": 25,
   "id": "813cac31",
   "metadata": {},
   "outputs": [
    {
     "data": {
      "text/plain": [
       "<AxesSubplot:xlabel='Loan_Amount_Term', ylabel='Loan_Status'>"
      ]
     },
     "execution_count": 25,
     "metadata": {},
     "output_type": "execute_result"
    },
    {
     "data": {
      "image/png": "[encoded data removed]",
      "text/plain": [
       "<Figure size 432x288 with 1 Axes>"
      ]
     },
     "metadata": {
      "needs_background": "light"
     },
     "output_type": "display_data"
    }
   ],
   "source": [
    "sns.scatterplot(x='Loan_Amount_Term',y='Loan_Status',data=df)"
   ]
  },
  {
   "cell_type": "code",
   "execution_count": 26,
   "id": "924cc7f8",
   "metadata": {},
   "outputs": [
    {
     "data": {
      "text/plain": [
       "<AxesSubplot:xlabel='Credit_History', ylabel='Loan_Status'>"
      ]
     },
     "execution_count": 26,
     "metadata": {},
     "output_type": "execute_result"
    },
    {
     "data": {
      "image/png": "[encoded data removed]",
      "text/plain": [
       "<Figure size 432x288 with 1 Axes>"
      ]
     },
     "metadata": {
      "needs_background": "light"
     },
     "output_type": "display_data"
    }
   ],
   "source": [
    "sns.scatterplot(x='Credit_History',y='Loan_Status',data=df)"
   ]
  },
  {
   "cell_type": "code",
   "execution_count": 27,
   "id": "ddcc8a0b",
   "metadata": {},
   "outputs": [
    {
     "data": {
      "text/plain": [
       "<AxesSubplot:xlabel='Property_Area', ylabel='Loan_Status'>"
      ]
     },
     "execution_count": 27,
     "metadata": {},
     "output_type": "execute_result"
    },
    {
     "data": {
      "image/png": "[encoded data removed]",
      "text/plain": [
       "<Figure size 432x288 with 1 Axes>"
      ]
     },
     "metadata": {
      "needs_background": "light"
     },
     "output_type": "display_data"
    }
   ],
   "source": [
    "sns.scatterplot(x='Property_Area',y='Loan_Status',data=df)"
   ]
  },
  {
   "cell_type": "code",
   "execution_count": 28,
   "id": "aa285575",
   "metadata": {},
   "outputs": [
    {
     "data": {
      "text/plain": [
       "<AxesSubplot:xlabel='Loan_Status', ylabel='Loan_Status'>"
      ]
     },
     "execution_count": 28,
     "metadata": {},
     "output_type": "execute_result"
    },
    {
     "data": {
      "image/png": "[encoded data removed]",
      "text/plain": [
       "<Figure size 432x288 with 1 Axes>"
      ]
     },
     "metadata": {
      "needs_background": "light"
     },
     "output_type": "display_data"
    }
   ],
   "source": [
    "sns.scatterplot(x='Loan_Status',y='Loan_Status',data=df)"
   ]
  },
  {
   "cell_type": "code",
   "execution_count": 29,
   "id": "ec32cd76",
   "metadata": {},
   "outputs": [
    {
     "data": {
      "text/html": [
       "<div>\n",
       "<style scoped>\n",
       "    .dataframe tbody tr th:only-of-type {\n",
       "        vertical-align: middle;\n",
       "    }\n",
       "\n",
       "    .dataframe tbody tr th {\n",
       "        vertical-align: top;\n",
       "    }\n",
       "\n",
       "    .dataframe thead th {\n",
       "        text-align: right;\n",
       "    }\n",
       "</style>\n",
       "<table border=\"1\" class=\"dataframe\">\n",
       "  <thead>\n",
       "    <tr style=\"text-align: right;\">\n",
       "      <th></th>\n",
       "      <th>Gender</th>\n",
       "      <th>Married</th>\n",
       "      <th>Dependents</th>\n",
       "      <th>Education</th>\n",
       "      <th>Self_Employed</th>\n",
       "      <th>ApplicantIncome</th>\n",
       "      <th>CoapplicantIncome</th>\n",
       "      <th>LoanAmount</th>\n",
       "      <th>Loan_Amount_Term</th>\n",
       "      <th>Credit_History</th>\n",
       "      <th>Property_Area</th>\n",
       "      <th>Loan_Status</th>\n",
       "    </tr>\n",
       "  </thead>\n",
       "  <tbody>\n",
       "    <tr>\n",
       "      <th>Gender</th>\n",
       "      <td>1.000000</td>\n",
       "      <td>0.364569</td>\n",
       "      <td>0.172914</td>\n",
       "      <td>0.045364</td>\n",
       "      <td>-0.000525</td>\n",
       "      <td>0.058809</td>\n",
       "      <td>0.082912</td>\n",
       "      <td>0.106404</td>\n",
       "      <td>-0.074030</td>\n",
       "      <td>0.009170</td>\n",
       "      <td>-0.025752</td>\n",
       "      <td>0.017987</td>\n",
       "    </tr>\n",
       "    <tr>\n",
       "      <th>Married</th>\n",
       "      <td>0.364569</td>\n",
       "      <td>1.000000</td>\n",
       "      <td>0.334216</td>\n",
       "      <td>0.012304</td>\n",
       "      <td>0.004489</td>\n",
       "      <td>0.051708</td>\n",
       "      <td>0.075948</td>\n",
       "      <td>0.146212</td>\n",
       "      <td>-0.100912</td>\n",
       "      <td>0.010938</td>\n",
       "      <td>0.004257</td>\n",
       "      <td>0.091478</td>\n",
       "    </tr>\n",
       "    <tr>\n",
       "      <th>Dependents</th>\n",
       "      <td>0.172914</td>\n",
       "      <td>0.334216</td>\n",
       "      <td>1.000000</td>\n",
       "      <td>0.055752</td>\n",
       "      <td>0.056798</td>\n",
       "      <td>0.118202</td>\n",
       "      <td>0.030430</td>\n",
       "      <td>0.163017</td>\n",
       "      <td>-0.103864</td>\n",
       "      <td>-0.040160</td>\n",
       "      <td>-0.000244</td>\n",
       "      <td>0.010118</td>\n",
       "    </tr>\n",
       "    <tr>\n",
       "      <th>Education</th>\n",
       "      <td>0.045364</td>\n",
       "      <td>0.012304</td>\n",
       "      <td>0.055752</td>\n",
       "      <td>1.000000</td>\n",
       "      <td>-0.010383</td>\n",
       "      <td>-0.140760</td>\n",
       "      <td>-0.062290</td>\n",
       "      <td>-0.169436</td>\n",
       "      <td>-0.073928</td>\n",
       "      <td>-0.073658</td>\n",
       "      <td>-0.065243</td>\n",
       "      <td>-0.085884</td>\n",
       "    </tr>\n",
       "    <tr>\n",
       "      <th>Self_Employed</th>\n",
       "      <td>-0.000525</td>\n",
       "      <td>0.004489</td>\n",
       "      <td>0.056798</td>\n",
       "      <td>-0.010383</td>\n",
       "      <td>1.000000</td>\n",
       "      <td>0.127180</td>\n",
       "      <td>-0.016100</td>\n",
       "      <td>0.114971</td>\n",
       "      <td>-0.033739</td>\n",
       "      <td>-0.001550</td>\n",
       "      <td>-0.030860</td>\n",
       "      <td>-0.003700</td>\n",
       "    </tr>\n",
       "    <tr>\n",
       "      <th>ApplicantIncome</th>\n",
       "      <td>0.058809</td>\n",
       "      <td>0.051708</td>\n",
       "      <td>0.118202</td>\n",
       "      <td>-0.140760</td>\n",
       "      <td>0.127180</td>\n",
       "      <td>1.000000</td>\n",
       "      <td>-0.116605</td>\n",
       "      <td>0.564698</td>\n",
       "      <td>-0.046531</td>\n",
       "      <td>-0.018615</td>\n",
       "      <td>-0.009500</td>\n",
       "      <td>-0.004710</td>\n",
       "    </tr>\n",
       "    <tr>\n",
       "      <th>CoapplicantIncome</th>\n",
       "      <td>0.082912</td>\n",
       "      <td>0.075948</td>\n",
       "      <td>0.030430</td>\n",
       "      <td>-0.062290</td>\n",
       "      <td>-0.016100</td>\n",
       "      <td>-0.116605</td>\n",
       "      <td>1.000000</td>\n",
       "      <td>0.189723</td>\n",
       "      <td>-0.059383</td>\n",
       "      <td>0.011134</td>\n",
       "      <td>0.010522</td>\n",
       "      <td>-0.059187</td>\n",
       "    </tr>\n",
       "    <tr>\n",
       "      <th>LoanAmount</th>\n",
       "      <td>0.106404</td>\n",
       "      <td>0.146212</td>\n",
       "      <td>0.163017</td>\n",
       "      <td>-0.169436</td>\n",
       "      <td>0.114971</td>\n",
       "      <td>0.564698</td>\n",
       "      <td>0.189723</td>\n",
       "      <td>1.000000</td>\n",
       "      <td>0.037152</td>\n",
       "      <td>-0.000250</td>\n",
       "      <td>-0.047414</td>\n",
       "      <td>-0.031808</td>\n",
       "    </tr>\n",
       "    <tr>\n",
       "      <th>Loan_Amount_Term</th>\n",
       "      <td>-0.074030</td>\n",
       "      <td>-0.100912</td>\n",
       "      <td>-0.103864</td>\n",
       "      <td>-0.073928</td>\n",
       "      <td>-0.033739</td>\n",
       "      <td>-0.046531</td>\n",
       "      <td>-0.059383</td>\n",
       "      <td>0.037152</td>\n",
       "      <td>1.000000</td>\n",
       "      <td>-0.004705</td>\n",
       "      <td>-0.076120</td>\n",
       "      <td>-0.022549</td>\n",
       "    </tr>\n",
       "    <tr>\n",
       "      <th>Credit_History</th>\n",
       "      <td>0.009170</td>\n",
       "      <td>0.010938</td>\n",
       "      <td>-0.040160</td>\n",
       "      <td>-0.073658</td>\n",
       "      <td>-0.001550</td>\n",
       "      <td>-0.018615</td>\n",
       "      <td>0.011134</td>\n",
       "      <td>-0.000250</td>\n",
       "      <td>-0.004705</td>\n",
       "      <td>1.000000</td>\n",
       "      <td>0.001963</td>\n",
       "      <td>0.540556</td>\n",
       "    </tr>\n",
       "    <tr>\n",
       "      <th>Property_Area</th>\n",
       "      <td>-0.025752</td>\n",
       "      <td>0.004257</td>\n",
       "      <td>-0.000244</td>\n",
       "      <td>-0.065243</td>\n",
       "      <td>-0.030860</td>\n",
       "      <td>-0.009500</td>\n",
       "      <td>0.010522</td>\n",
       "      <td>-0.047414</td>\n",
       "      <td>-0.076120</td>\n",
       "      <td>0.001963</td>\n",
       "      <td>1.000000</td>\n",
       "      <td>0.032112</td>\n",
       "    </tr>\n",
       "    <tr>\n",
       "      <th>Loan_Status</th>\n",
       "      <td>0.017987</td>\n",
       "      <td>0.091478</td>\n",
       "      <td>0.010118</td>\n",
       "      <td>-0.085884</td>\n",
       "      <td>-0.003700</td>\n",
       "      <td>-0.004710</td>\n",
       "      <td>-0.059187</td>\n",
       "      <td>-0.031808</td>\n",
       "      <td>-0.022549</td>\n",
       "      <td>0.540556</td>\n",
       "      <td>0.032112</td>\n",
       "      <td>1.000000</td>\n",
       "    </tr>\n",
       "  </tbody>\n",
       "</table>\n",
       "</div>"
      ],
      "text/plain": [
       "                     Gender   Married  Dependents  Education  Self_Employed  \\\n",
       "Gender             1.000000  0.364569    0.172914   0.045364      -0.000525   \n",
       "Married            0.364569  1.000000    0.334216   0.012304       0.004489   \n",
       "Dependents         0.172914  0.334216    1.000000   0.055752       0.056798   \n",
       "Education          0.045364  0.012304    0.055752   1.000000      -0.010383   \n",
       "Self_Employed     -0.000525  0.004489    0.056798  -0.010383       1.000000   \n",
       "ApplicantIncome    0.058809  0.051708    0.118202  -0.140760       0.127180   \n",
       "CoapplicantIncome  0.082912  0.075948    0.030430  -0.062290      -0.016100   \n",
       "LoanAmount         0.106404  0.146212    0.163017  -0.169436       0.114971   \n",
       "Loan_Amount_Term  -0.074030 -0.100912   -0.103864  -0.073928      -0.033739   \n",
       "Credit_History     0.009170  0.010938   -0.040160  -0.073658      -0.001550   \n",
       "Property_Area     -0.025752  0.004257   -0.000244  -0.065243      -0.030860   \n",
       "Loan_Status        0.017987  0.091478    0.010118  -0.085884      -0.003700   \n",
       "\n",
       "                   ApplicantIncome  CoapplicantIncome  LoanAmount  \\\n",
       "Gender                    0.058809           0.082912    0.106404   \n",
       "Married                   0.051708           0.075948    0.146212   \n",
       "Dependents                0.118202           0.030430    0.163017   \n",
       "Education                -0.140760          -0.062290   -0.169436   \n",
       "Self_Employed             0.127180          -0.016100    0.114971   \n",
       "ApplicantIncome           1.000000          -0.116605    0.564698   \n",
       "CoapplicantIncome        -0.116605           1.000000    0.189723   \n",
       "LoanAmount                0.564698           0.189723    1.000000   \n",
       "Loan_Amount_Term         -0.046531          -0.059383    0.037152   \n",
       "Credit_History           -0.018615           0.011134   -0.000250   \n",
       "Property_Area            -0.009500           0.010522   -0.047414   \n",
       "Loan_Status              -0.004710          -0.059187   -0.031808   \n",
       "\n",
       "                   Loan_Amount_Term  Credit_History  Property_Area  \\\n",
       "Gender                    -0.074030        0.009170      -0.025752   \n",
       "Married                   -0.100912        0.010938       0.004257   \n",
       "Dependents                -0.103864       -0.040160      -0.000244   \n",
       "Education                 -0.073928       -0.073658      -0.065243   \n",
       "Self_Employed             -0.033739       -0.001550      -0.030860   \n",
       "ApplicantIncome           -0.046531       -0.018615      -0.009500   \n",
       "CoapplicantIncome         -0.059383        0.011134       0.010522   \n",
       "LoanAmount                 0.037152       -0.000250      -0.047414   \n",
       "Loan_Amount_Term           1.000000       -0.004705      -0.076120   \n",
       "Credit_History            -0.004705        1.000000       0.001963   \n",
       "Property_Area             -0.076120        0.001963       1.000000   \n",
       "Loan_Status               -0.022549        0.540556       0.032112   \n",
       "\n",
       "                   Loan_Status  \n",
       "Gender                0.017987  \n",
       "Married               0.091478  \n",
       "Dependents            0.010118  \n",
       "Education            -0.085884  \n",
       "Self_Employed        -0.003700  \n",
       "ApplicantIncome      -0.004710  \n",
       "CoapplicantIncome    -0.059187  \n",
       "LoanAmount           -0.031808  \n",
       "Loan_Amount_Term     -0.022549  \n",
       "Credit_History        0.540556  \n",
       "Property_Area         0.032112  \n",
       "Loan_Status           1.000000  "
      ]
     },
     "execution_count": 29,
     "metadata": {},
     "output_type": "execute_result"
    }
   ],
   "source": [
    "df.corr()"
   ]
  },
  {
   "cell_type": "code",
   "execution_count": 30,
   "id": "a2e6bcbe",
   "metadata": {},
   "outputs": [],
   "source": [
    "import matplotlib.pyplot as plt\n",
    "import warnings\n",
    "warnings.filterwarnings('ignore')"
   ]
  },
  {
   "cell_type": "code",
   "execution_count": 31,
   "id": "6847ec0b",
   "metadata": {},
   "outputs": [
    {
     "data": {
      "text/plain": [
       "<AxesSubplot:>"
      ]
     },
     "execution_count": 31,
     "metadata": {},
     "output_type": "execute_result"
    },
    {
     "data": {
      "image/png": "[encoded data removed]",
      "text/plain": [
       "<Figure size 1080x504 with 2 Axes>"
      ]
     },
     "metadata": {
      "needs_background": "light"
     },
     "output_type": "display_data"
    }
   ],
   "source": [
    "#Correlation using heatmap\n",
    "\n",
    "plt.figure(figsize=(15,7))\n",
    "sns.heatmap(df.corr(), annot=True, linewidth=0.5,linecolor=\"black\", fmt='.2f')"
   ]
  },
  {
   "cell_type": "code",
   "execution_count": 32,
   "id": "97617e6a",
   "metadata": {},
   "outputs": [
    {
     "data": {
      "text/html": [
       "<div>\n",
       "<style scoped>\n",
       "    .dataframe tbody tr th:only-of-type {\n",
       "        vertical-align: middle;\n",
       "    }\n",
       "\n",
       "    .dataframe tbody tr th {\n",
       "        vertical-align: top;\n",
       "    }\n",
       "\n",
       "    .dataframe thead th {\n",
       "        text-align: right;\n",
       "    }\n",
       "</style>\n",
       "<table border=\"1\" class=\"dataframe\">\n",
       "  <thead>\n",
       "    <tr style=\"text-align: right;\">\n",
       "      <th></th>\n",
       "      <th>Gender</th>\n",
       "      <th>Married</th>\n",
       "      <th>Dependents</th>\n",
       "      <th>Education</th>\n",
       "      <th>Self_Employed</th>\n",
       "      <th>ApplicantIncome</th>\n",
       "      <th>CoapplicantIncome</th>\n",
       "      <th>LoanAmount</th>\n",
       "      <th>Loan_Amount_Term</th>\n",
       "      <th>Credit_History</th>\n",
       "      <th>Property_Area</th>\n",
       "      <th>Loan_Status</th>\n",
       "    </tr>\n",
       "  </thead>\n",
       "  <tbody>\n",
       "    <tr>\n",
       "      <th>count</th>\n",
       "      <td>614.000000</td>\n",
       "      <td>614.000000</td>\n",
       "      <td>614.000000</td>\n",
       "      <td>614.000000</td>\n",
       "      <td>614.000000</td>\n",
       "      <td>614.000000</td>\n",
       "      <td>614.000000</td>\n",
       "      <td>614.000000</td>\n",
       "      <td>614.000000</td>\n",
       "      <td>614.000000</td>\n",
       "      <td>614.000000</td>\n",
       "      <td>614.000000</td>\n",
       "    </tr>\n",
       "    <tr>\n",
       "      <th>mean</th>\n",
       "      <td>0.817590</td>\n",
       "      <td>0.653094</td>\n",
       "      <td>0.744300</td>\n",
       "      <td>0.218241</td>\n",
       "      <td>0.133550</td>\n",
       "      <td>5403.459283</td>\n",
       "      <td>1621.245798</td>\n",
       "      <td>145.465798</td>\n",
       "      <td>342.410423</td>\n",
       "      <td>0.855049</td>\n",
       "      <td>1.037459</td>\n",
       "      <td>0.687296</td>\n",
       "    </tr>\n",
       "    <tr>\n",
       "      <th>std</th>\n",
       "      <td>0.386497</td>\n",
       "      <td>0.476373</td>\n",
       "      <td>1.009623</td>\n",
       "      <td>0.413389</td>\n",
       "      <td>0.340446</td>\n",
       "      <td>6109.041673</td>\n",
       "      <td>2926.248369</td>\n",
       "      <td>84.180967</td>\n",
       "      <td>64.428629</td>\n",
       "      <td>0.352339</td>\n",
       "      <td>0.787482</td>\n",
       "      <td>0.463973</td>\n",
       "    </tr>\n",
       "    <tr>\n",
       "      <th>min</th>\n",
       "      <td>0.000000</td>\n",
       "      <td>0.000000</td>\n",
       "      <td>0.000000</td>\n",
       "      <td>0.000000</td>\n",
       "      <td>0.000000</td>\n",
       "      <td>150.000000</td>\n",
       "      <td>0.000000</td>\n",
       "      <td>9.000000</td>\n",
       "      <td>12.000000</td>\n",
       "      <td>0.000000</td>\n",
       "      <td>0.000000</td>\n",
       "      <td>0.000000</td>\n",
       "    </tr>\n",
       "    <tr>\n",
       "      <th>25%</th>\n",
       "      <td>1.000000</td>\n",
       "      <td>0.000000</td>\n",
       "      <td>0.000000</td>\n",
       "      <td>0.000000</td>\n",
       "      <td>0.000000</td>\n",
       "      <td>2877.500000</td>\n",
       "      <td>0.000000</td>\n",
       "      <td>100.250000</td>\n",
       "      <td>360.000000</td>\n",
       "      <td>1.000000</td>\n",
       "      <td>0.000000</td>\n",
       "      <td>0.000000</td>\n",
       "    </tr>\n",
       "    <tr>\n",
       "      <th>50%</th>\n",
       "      <td>1.000000</td>\n",
       "      <td>1.000000</td>\n",
       "      <td>0.000000</td>\n",
       "      <td>0.000000</td>\n",
       "      <td>0.000000</td>\n",
       "      <td>3812.500000</td>\n",
       "      <td>1188.500000</td>\n",
       "      <td>125.000000</td>\n",
       "      <td>360.000000</td>\n",
       "      <td>1.000000</td>\n",
       "      <td>1.000000</td>\n",
       "      <td>1.000000</td>\n",
       "    </tr>\n",
       "    <tr>\n",
       "      <th>75%</th>\n",
       "      <td>1.000000</td>\n",
       "      <td>1.000000</td>\n",
       "      <td>1.000000</td>\n",
       "      <td>0.000000</td>\n",
       "      <td>0.000000</td>\n",
       "      <td>5795.000000</td>\n",
       "      <td>2297.250000</td>\n",
       "      <td>164.750000</td>\n",
       "      <td>360.000000</td>\n",
       "      <td>1.000000</td>\n",
       "      <td>2.000000</td>\n",
       "      <td>1.000000</td>\n",
       "    </tr>\n",
       "    <tr>\n",
       "      <th>max</th>\n",
       "      <td>1.000000</td>\n",
       "      <td>1.000000</td>\n",
       "      <td>3.000000</td>\n",
       "      <td>1.000000</td>\n",
       "      <td>1.000000</td>\n",
       "      <td>81000.000000</td>\n",
       "      <td>41667.000000</td>\n",
       "      <td>700.000000</td>\n",
       "      <td>480.000000</td>\n",
       "      <td>1.000000</td>\n",
       "      <td>2.000000</td>\n",
       "      <td>1.000000</td>\n",
       "    </tr>\n",
       "  </tbody>\n",
       "</table>\n",
       "</div>"
      ],
      "text/plain": [
       "           Gender     Married  Dependents   Education  Self_Employed  \\\n",
       "count  614.000000  614.000000  614.000000  614.000000     614.000000   \n",
       "mean     0.817590    0.653094    0.744300    0.218241       0.133550   \n",
       "std      0.386497    0.476373    1.009623    0.413389       0.340446   \n",
       "min      0.000000    0.000000    0.000000    0.000000       0.000000   \n",
       "25%      1.000000    0.000000    0.000000    0.000000       0.000000   \n",
       "50%      1.000000    1.000000    0.000000    0.000000       0.000000   \n",
       "75%      1.000000    1.000000    1.000000    0.000000       0.000000   \n",
       "max      1.000000    1.000000    3.000000    1.000000       1.000000   \n",
       "\n",
       "       ApplicantIncome  CoapplicantIncome  LoanAmount  Loan_Amount_Term  \\\n",
       "count       614.000000         614.000000  614.000000        614.000000   \n",
       "mean       5403.459283        1621.245798  145.465798        342.410423   \n",
       "std        6109.041673        2926.248369   84.180967         64.428629   \n",
       "min         150.000000           0.000000    9.000000         12.000000   \n",
       "25%        2877.500000           0.000000  100.250000        360.000000   \n",
       "50%        3812.500000        1188.500000  125.000000        360.000000   \n",
       "75%        5795.000000        2297.250000  164.750000        360.000000   \n",
       "max       81000.000000       41667.000000  700.000000        480.000000   \n",
       "\n",
       "       Credit_History  Property_Area  Loan_Status  \n",
       "count      614.000000     614.000000   614.000000  \n",
       "mean         0.855049       1.037459     0.687296  \n",
       "std          0.352339       0.787482     0.463973  \n",
       "min          0.000000       0.000000     0.000000  \n",
       "25%          1.000000       0.000000     0.000000  \n",
       "50%          1.000000       1.000000     1.000000  \n",
       "75%          1.000000       2.000000     1.000000  \n",
       "max          1.000000       2.000000     1.000000  "
      ]
     },
     "execution_count": 32,
     "metadata": {},
     "output_type": "execute_result"
    }
   ],
   "source": [
    "#Describe Dataset\n",
    "df.describe()"
   ]
  },
  {
   "cell_type": "code",
   "execution_count": 33,
   "id": "0c8dd128",
   "metadata": {},
   "outputs": [
    {
     "data": {
      "image/png": "[encoded data removed]",
      "text/plain": [
       "<Figure size 1080x864 with 2 Axes>"
      ]
     },
     "metadata": {
      "needs_background": "light"
     },
     "output_type": "display_data"
    }
   ],
   "source": [
    "plt.figure(figsize=(15,12))\n",
    "sns.heatmap(round(df.describe()[1:].transpose(),2),linewidth=2,annot=True,fmt=\"f\")\n",
    "plt.xticks(fontsize=18)\n",
    "plt.yticks(fontsize=12)\n",
    "plt.title(\"Loan Application Status\")\n",
    "plt.show()"
   ]
  },
  {
   "cell_type": "raw",
   "id": "2bf799a3",
   "metadata": {},
   "source": [
    "Here is describtion of all the stats through describe part.\n",
    "\n",
    "columns=614\n",
    "rows=13\n",
    "\n",
    "\n",
    "\tGender\n",
    "\t\n",
    "mean\t0.817590\n",
    "std \t0.386497\n",
    "min \t0.000000\n",
    "50% \t1.000000\n",
    "max \t1.000000\n",
    "\n",
    "\n",
    "\tMarried\n",
    "\t\n",
    "mean\t0.653094\n",
    "std \t0.476373\n",
    "min \t0.000000\n",
    "50% \t1.000000\n",
    "max \t1.000000\n",
    "\n",
    "\n",
    "\tDependents\n",
    "\t\n",
    "mean\t0.744300\n",
    "std \t1.009623\n",
    "min \t0.000000\n",
    "50% \t0.000000\n",
    "max \t3.000000\n",
    "\n",
    "\n",
    "\tEducation\n",
    "\t\n",
    "mean\t0.218241\n",
    "std \t0.413389\n",
    "min \t0.000000\n",
    "50% \t0.000000\n",
    "max \t1.000000\n",
    "\n",
    "\n",
    " Self_Employed\n",
    "\t\n",
    "mean\t0.133550\n",
    "std \t0.340446\n",
    "min \t0.000000\n",
    "50% \t0.000000\n",
    "max \t1.000000\n",
    "\n",
    "\n",
    "\tApplicantIncome\n",
    "\t\n",
    "mean\t5403.459283\n",
    "std \t6109.041673\n",
    "min \t150.000000\n",
    "50% \t3812.500000\n",
    "max \t81000.000000\n",
    "\n",
    "\n",
    " CoapplicantIncome\n",
    "\t\n",
    "mean\t1621.245798\n",
    "std \t2926.248369\n",
    "min \t0.000000\n",
    "50% \t1188.500000\n",
    "max \t41667.000000\n",
    "\n",
    "\n",
    "\tLoanAmount\n",
    "\t\n",
    "mean\t145.465798\n",
    "std \t84.180967\n",
    "min \t9.000000\n",
    "50% \t125.000000\n",
    "max \t700.000000\n",
    "\n",
    "\n",
    "\n",
    "\tLoan_Amount_Term\n",
    "\t\n",
    "mean\t342.410423\n",
    "std \t64.428629\n",
    "min \t12.000000\n",
    "50% \t360.000000\n",
    "max \t480.000000\n",
    "\n",
    "\n",
    " Credit_History\n",
    "\t\n",
    "mean\t0.855049\n",
    "std \t0.352339\n",
    "min \t0.000000\n",
    "50% \t1.000000\n",
    "max \t1.000000\n",
    "\n",
    "\tProperty_Area\n",
    "\t\n",
    "mean\t1.037459\n",
    "std \t0.787482\n",
    "min \t0.000000\n",
    "50% \t1.000000\n",
    "max \t2.000000\n",
    "\n",
    "\n",
    "\tLoan_Status\n",
    "\t\n",
    "mean\t0.687296\n",
    "std \t0.463973\n",
    "min \t0.000000\n",
    "50% \t1.000000\n",
    "max \t1.000000\n",
    "\n",
    "\n",
    "Here all the stats.\n"
   ]
  },
  {
   "cell_type": "code",
   "execution_count": 34,
   "id": "7dfc5253",
   "metadata": {},
   "outputs": [
    {
     "name": "stdout",
     "output_type": "stream",
     "text": [
      "<class 'pandas.core.frame.DataFrame'>\n",
      "RangeIndex: 614 entries, 0 to 613\n",
      "Data columns (total 13 columns):\n",
      " #   Column             Non-Null Count  Dtype  \n",
      "---  ------             --------------  -----  \n",
      " 0   Loan_ID            614 non-null    object \n",
      " 1   Gender             614 non-null    int32  \n",
      " 2   Married            614 non-null    int32  \n",
      " 3   Dependents         614 non-null    int32  \n",
      " 4   Education          614 non-null    int32  \n",
      " 5   Self_Employed      614 non-null    int32  \n",
      " 6   ApplicantIncome    614 non-null    int64  \n",
      " 7   CoapplicantIncome  614 non-null    float64\n",
      " 8   LoanAmount         614 non-null    float64\n",
      " 9   Loan_Amount_Term   614 non-null    float64\n",
      " 10  Credit_History     614 non-null    float64\n",
      " 11  Property_Area      614 non-null    int32  \n",
      " 12  Loan_Status        614 non-null    int32  \n",
      "dtypes: float64(4), int32(7), int64(1), object(1)\n",
      "memory usage: 45.7+ KB\n"
     ]
    }
   ],
   "source": [
    "#To check the data types \n",
    "df.info()"
   ]
  },
  {
   "cell_type": "raw",
   "id": "7e673a9c",
   "metadata": {},
   "source": [
    "There is no null values and string or char format data. and we can see storage memory also.we can check outliers."
   ]
  },
  {
   "cell_type": "code",
   "execution_count": 35,
   "id": "e99e9737",
   "metadata": {},
   "outputs": [
    {
     "data": {
      "text/plain": [
       "<AxesSubplot:>"
      ]
     },
     "execution_count": 35,
     "metadata": {},
     "output_type": "execute_result"
    },
    {
     "data": {
      "image/png": "[encoded data removed]",
      "text/plain": [
       "<Figure size 432x288 with 1 Axes>"
      ]
     },
     "metadata": {
      "needs_background": "light"
     },
     "output_type": "display_data"
    }
   ],
   "source": [
    "# we are checking outliers here.\n",
    "df['Gender'].plot.box()"
   ]
  },
  {
   "cell_type": "code",
   "execution_count": 36,
   "id": "d748e73b",
   "metadata": {},
   "outputs": [
    {
     "data": {
      "text/plain": [
       "<AxesSubplot:>"
      ]
     },
     "execution_count": 36,
     "metadata": {},
     "output_type": "execute_result"
    },
    {
     "data": {
      "image/png": "[encoded data removed]",
      "text/plain": [
       "<Figure size 432x288 with 1 Axes>"
      ]
     },
     "metadata": {
      "needs_background": "light"
     },
     "output_type": "display_data"
    }
   ],
   "source": [
    "df['Married'].plot.box()"
   ]
  },
  {
   "cell_type": "code",
   "execution_count": 37,
   "id": "d68cbd4a",
   "metadata": {},
   "outputs": [
    {
     "data": {
      "text/plain": [
       "<AxesSubplot:>"
      ]
     },
     "execution_count": 37,
     "metadata": {},
     "output_type": "execute_result"
    },
    {
     "data": {
      "image/png": "[encoded data removed]",
      "text/plain": [
       "<Figure size 432x288 with 1 Axes>"
      ]
     },
     "metadata": {
      "needs_background": "light"
     },
     "output_type": "display_data"
    }
   ],
   "source": [
    "df['Dependents'].plot.box()"
   ]
  },
  {
   "cell_type": "code",
   "execution_count": 38,
   "id": "0701d767",
   "metadata": {},
   "outputs": [
    {
     "data": {
      "text/plain": [
       "<AxesSubplot:>"
      ]
     },
     "execution_count": 38,
     "metadata": {},
     "output_type": "execute_result"
    },
    {
     "data": {
      "image/png": "[encoded data removed]",
      "text/plain": [
       "<Figure size 432x288 with 1 Axes>"
      ]
     },
     "metadata": {
      "needs_background": "light"
     },
     "output_type": "display_data"
    }
   ],
   "source": [
    "df['Education'].plot.box()"
   ]
  },
  {
   "cell_type": "code",
   "execution_count": 39,
   "id": "16c7c742",
   "metadata": {},
   "outputs": [
    {
     "data": {
      "text/plain": [
       "<AxesSubplot:>"
      ]
     },
     "execution_count": 39,
     "metadata": {},
     "output_type": "execute_result"
    },
    {
     "data": {
      "image/png": "[encoded data removed]",
      "text/plain": [
       "<Figure size 432x288 with 1 Axes>"
      ]
     },
     "metadata": {
      "needs_background": "light"
     },
     "output_type": "display_data"
    }
   ],
   "source": [
    "df['Self_Employed'].plot.box()"
   ]
  },
  {
   "cell_type": "code",
   "execution_count": 40,
   "id": "0c5e5f33",
   "metadata": {},
   "outputs": [
    {
     "data": {
      "text/plain": [
       "<AxesSubplot:>"
      ]
     },
     "execution_count": 40,
     "metadata": {},
     "output_type": "execute_result"
    },
    {
     "data": {
      "image/png": "[encoded data removed]",
      "text/plain": [
       "<Figure size 432x288 with 1 Axes>"
      ]
     },
     "metadata": {
      "needs_background": "light"
     },
     "output_type": "display_data"
    }
   ],
   "source": [
    "df['ApplicantIncome'].plot.box()"
   ]
  },
  {
   "cell_type": "code",
   "execution_count": 41,
   "id": "7e47abf8",
   "metadata": {},
   "outputs": [
    {
     "data": {
      "text/plain": [
       "<AxesSubplot:>"
      ]
     },
     "execution_count": 41,
     "metadata": {},
     "output_type": "execute_result"
    },
    {
     "data": {
      "image/png": "[encoded data removed]",
      "text/plain": [
       "<Figure size 432x288 with 1 Axes>"
      ]
     },
     "metadata": {
      "needs_background": "light"
     },
     "output_type": "display_data"
    }
   ],
   "source": [
    "df['CoapplicantIncome'].plot.box()"
   ]
  },
  {
   "cell_type": "code",
   "execution_count": 42,
   "id": "c4bf1be2",
   "metadata": {},
   "outputs": [
    {
     "data": {
      "text/plain": [
       "<AxesSubplot:>"
      ]
     },
     "execution_count": 42,
     "metadata": {},
     "output_type": "execute_result"
    },
    {
     "data": {
      "image/png": "[encoded data removed]",
      "text/plain": [
       "<Figure size 432x288 with 1 Axes>"
      ]
     },
     "metadata": {
      "needs_background": "light"
     },
     "output_type": "display_data"
    }
   ],
   "source": [
    "df['LoanAmount'].plot.box()"
   ]
  },
  {
   "cell_type": "code",
   "execution_count": 43,
   "id": "0fa07d8a",
   "metadata": {},
   "outputs": [
    {
     "data": {
      "text/plain": [
       "<AxesSubplot:>"
      ]
     },
     "execution_count": 43,
     "metadata": {},
     "output_type": "execute_result"
    },
    {
     "data": {
      "image/png": "[encoded data removed]",
      "text/plain": [
       "<Figure size 432x288 with 1 Axes>"
      ]
     },
     "metadata": {
      "needs_background": "light"
     },
     "output_type": "display_data"
    }
   ],
   "source": [
    "df['Loan_Amount_Term'].plot.box()"
   ]
  },
  {
   "cell_type": "code",
   "execution_count": 44,
   "id": "011b03ed",
   "metadata": {},
   "outputs": [
    {
     "data": {
      "text/plain": [
       "<AxesSubplot:>"
      ]
     },
     "execution_count": 44,
     "metadata": {},
     "output_type": "execute_result"
    },
    {
     "data": {
      "image/png": "[encoded data removed]",
      "text/plain": [
       "<Figure size 432x288 with 1 Axes>"
      ]
     },
     "metadata": {
      "needs_background": "light"
     },
     "output_type": "display_data"
    }
   ],
   "source": [
    "df['Credit_History'].plot.box()"
   ]
  },
  {
   "cell_type": "code",
   "execution_count": 45,
   "id": "2ba8f1a2",
   "metadata": {},
   "outputs": [
    {
     "data": {
      "text/plain": [
       "<AxesSubplot:>"
      ]
     },
     "execution_count": 45,
     "metadata": {},
     "output_type": "execute_result"
    },
    {
     "data": {
      "image/png": "[encoded data removed]",
      "text/plain": [
       "<Figure size 432x288 with 1 Axes>"
      ]
     },
     "metadata": {
      "needs_background": "light"
     },
     "output_type": "display_data"
    }
   ],
   "source": [
    "df['Property_Area'].plot.box()"
   ]
  },
  {
   "cell_type": "code",
   "execution_count": 46,
   "id": "4b4f677e",
   "metadata": {},
   "outputs": [
    {
     "data": {
      "text/plain": [
       "<AxesSubplot:>"
      ]
     },
     "execution_count": 46,
     "metadata": {},
     "output_type": "execute_result"
    },
    {
     "data": {
      "image/png": "[encoded data removed]",
      "text/plain": [
       "<Figure size 432x288 with 1 Axes>"
      ]
     },
     "metadata": {
      "needs_background": "light"
     },
     "output_type": "display_data"
    }
   ],
   "source": [
    "df['Loan_Status'].plot.box()"
   ]
  },
  {
   "cell_type": "raw",
   "id": "b06a389c",
   "metadata": {},
   "source": [
    "Here check the outliers."
   ]
  },
  {
   "cell_type": "markdown",
   "id": "6aad8c13",
   "metadata": {},
   "source": [
    "# Skewness:-"
   ]
  },
  {
   "cell_type": "code",
   "execution_count": 47,
   "id": "b3041c5f",
   "metadata": {},
   "outputs": [
    {
     "data": {
      "text/plain": [
       "Gender              -1.648795\n",
       "Married             -0.644850\n",
       "Dependents           1.015551\n",
       "Education            1.367622\n",
       "Self_Employed        2.159796\n",
       "ApplicantIncome      6.539513\n",
       "CoapplicantIncome    7.491531\n",
       "LoanAmount           2.745407\n",
       "Loan_Amount_Term    -2.402112\n",
       "Credit_History      -2.021971\n",
       "Property_Area       -0.066196\n",
       "Loan_Status         -0.809998\n",
       "dtype: float64"
      ]
     },
     "execution_count": 47,
     "metadata": {},
     "output_type": "execute_result"
    }
   ],
   "source": [
    "df.skew()"
   ]
  },
  {
   "cell_type": "raw",
   "id": "5a973a7f",
   "metadata": {},
   "source": [
    "Loan_Status of the skewness skewness threshold is taken is +/-0.65. Columns which are having skewness.\n",
    "\n",
    "Gender\n",
    "Education\n",
    "Self_Employed\n",
    "ApplicantIncome\n",
    "CoapplicantIncome\n",
    "LoanAmount\n",
    "Loan_Amount_Term\n",
    "Credit_History\n",
    "Property_Area\n",
    "Loan_Status"
   ]
  },
  {
   "cell_type": "markdown",
   "id": "1f851977",
   "metadata": {},
   "source": [
    "# Normal Distribution Curve"
   ]
  },
  {
   "cell_type": "code",
   "execution_count": 48,
   "id": "83036424",
   "metadata": {},
   "outputs": [
    {
     "data": {
      "text/plain": [
       "<AxesSubplot:xlabel='Gender', ylabel='Density'>"
      ]
     },
     "execution_count": 48,
     "metadata": {},
     "output_type": "execute_result"
    },
    {
     "data": {
      "image/png": "[encoded data removed]",
      "text/plain": [
       "<Figure size 432x288 with 1 Axes>"
      ]
     },
     "metadata": {
      "needs_background": "light"
     },
     "output_type": "display_data"
    }
   ],
   "source": [
    "sns.distplot(df['Gender'])"
   ]
  },
  {
   "cell_type": "code",
   "execution_count": 49,
   "id": "e4f0294e",
   "metadata": {},
   "outputs": [
    {
     "data": {
      "text/plain": [
       "<AxesSubplot:xlabel='Married', ylabel='Density'>"
      ]
     },
     "execution_count": 49,
     "metadata": {},
     "output_type": "execute_result"
    },
    {
     "data": {
      "image/png": "[encoded data removed]",
      "text/plain": [
       "<Figure size 432x288 with 1 Axes>"
      ]
     },
     "metadata": {
      "needs_background": "light"
     },
     "output_type": "display_data"
    }
   ],
   "source": [
    "sns.distplot(df['Married'])"
   ]
  },
  {
   "cell_type": "code",
   "execution_count": 50,
   "id": "90f21b4d",
   "metadata": {},
   "outputs": [
    {
     "data": {
      "text/plain": [
       "<AxesSubplot:xlabel='Dependents', ylabel='Density'>"
      ]
     },
     "execution_count": 50,
     "metadata": {},
     "output_type": "execute_result"
    },
    {
     "data": {
      "image/png": "[encoded data removed]",
      "text/plain": [
       "<Figure size 432x288 with 1 Axes>"
      ]
     },
     "metadata": {
      "needs_background": "light"
     },
     "output_type": "display_data"
    }
   ],
   "source": [
    "sns.distplot(df['Dependents'])"
   ]
  },
  {
   "cell_type": "code",
   "execution_count": 51,
   "id": "d81019a8",
   "metadata": {},
   "outputs": [
    {
     "data": {
      "text/plain": [
       "<AxesSubplot:xlabel='Education', ylabel='Density'>"
      ]
     },
     "execution_count": 51,
     "metadata": {},
     "output_type": "execute_result"
    },
    {
     "data": {
      "image/png": "[encoded data removed]",
      "text/plain": [
       "<Figure size 432x288 with 1 Axes>"
      ]
     },
     "metadata": {
      "needs_background": "light"
     },
     "output_type": "display_data"
    }
   ],
   "source": [
    "sns.distplot(df['Education'])"
   ]
  },
  {
   "cell_type": "code",
   "execution_count": 52,
   "id": "cfa88db7",
   "metadata": {},
   "outputs": [
    {
     "data": {
      "text/plain": [
       "<AxesSubplot:xlabel='Self_Employed', ylabel='Density'>"
      ]
     },
     "execution_count": 52,
     "metadata": {},
     "output_type": "execute_result"
    },
    {
     "data": {
      "image/png": "[encoded data removed]",
      "text/plain": [
       "<Figure size 432x288 with 1 Axes>"
      ]
     },
     "metadata": {
      "needs_background": "light"
     },
     "output_type": "display_data"
    }
   ],
   "source": [
    "sns.distplot(df['Self_Employed'])"
   ]
  },
  {
   "cell_type": "code",
   "execution_count": 53,
   "id": "032e9a8d",
   "metadata": {},
   "outputs": [
    {
     "data": {
      "text/plain": [
       "<AxesSubplot:xlabel='ApplicantIncome', ylabel='Density'>"
      ]
     },
     "execution_count": 53,
     "metadata": {},
     "output_type": "execute_result"
    },
    {
     "data": {
      "image/png": "[encoded data removed]",
      "text/plain": [
       "<Figure size 432x288 with 1 Axes>"
      ]
     },
     "metadata": {
      "needs_background": "light"
     },
     "output_type": "display_data"
    }
   ],
   "source": [
    "sns.distplot(df['ApplicantIncome'])"
   ]
  },
  {
   "cell_type": "code",
   "execution_count": 54,
   "id": "c40ef22d",
   "metadata": {},
   "outputs": [
    {
     "data": {
      "text/plain": [
       "<AxesSubplot:xlabel='CoapplicantIncome', ylabel='Density'>"
      ]
     },
     "execution_count": 54,
     "metadata": {},
     "output_type": "execute_result"
    },
    {
     "data": {
      "image/png": "[encoded data removed]",
      "text/plain": [
       "<Figure size 432x288 with 1 Axes>"
      ]
     },
     "metadata": {
      "needs_background": "light"
     },
     "output_type": "display_data"
    }
   ],
   "source": [
    "sns.distplot(df['CoapplicantIncome'])"
   ]
  },
  {
   "cell_type": "code",
   "execution_count": 55,
   "id": "f883597a",
   "metadata": {},
   "outputs": [
    {
     "data": {
      "text/plain": [
       "<AxesSubplot:xlabel='LoanAmount', ylabel='Density'>"
      ]
     },
     "execution_count": 55,
     "metadata": {},
     "output_type": "execute_result"
    },
    {
     "data": {
      "image/png": "[encoded data removed]",
      "text/plain": [
       "<Figure size 432x288 with 1 Axes>"
      ]
     },
     "metadata": {
      "needs_background": "light"
     },
     "output_type": "display_data"
    }
   ],
   "source": [
    "sns.distplot(df['LoanAmount'])"
   ]
  },
  {
   "cell_type": "code",
   "execution_count": 56,
   "id": "31d51bc8",
   "metadata": {},
   "outputs": [
    {
     "data": {
      "text/plain": [
       "<AxesSubplot:xlabel='Loan_Amount_Term', ylabel='Density'>"
      ]
     },
     "execution_count": 56,
     "metadata": {},
     "output_type": "execute_result"
    },
    {
     "data": {
      "image/png": "[encoded data removed]",
      "text/plain": [
       "<Figure size 432x288 with 1 Axes>"
      ]
     },
     "metadata": {
      "needs_background": "light"
     },
     "output_type": "display_data"
    }
   ],
   "source": [
    "sns.distplot(df['Loan_Amount_Term'])"
   ]
  },
  {
   "cell_type": "code",
   "execution_count": 57,
   "id": "6f46b451",
   "metadata": {},
   "outputs": [
    {
     "data": {
      "text/plain": [
       "<AxesSubplot:xlabel='Credit_History', ylabel='Density'>"
      ]
     },
     "execution_count": 57,
     "metadata": {},
     "output_type": "execute_result"
    },
    {
     "data": {
      "image/png": "[encoded data removed]",
      "text/plain": [
       "<Figure size 432x288 with 1 Axes>"
      ]
     },
     "metadata": {
      "needs_background": "light"
     },
     "output_type": "display_data"
    }
   ],
   "source": [
    "sns.distplot(df['Credit_History'])"
   ]
  },
  {
   "cell_type": "code",
   "execution_count": 58,
   "id": "dd1a730e",
   "metadata": {},
   "outputs": [
    {
     "data": {
      "text/plain": [
       "<AxesSubplot:xlabel='Property_Area', ylabel='Density'>"
      ]
     },
     "execution_count": 58,
     "metadata": {},
     "output_type": "execute_result"
    },
    {
     "data": {
      "image/png": "[encoded data removed]",
      "text/plain": [
       "<Figure size 432x288 with 1 Axes>"
      ]
     },
     "metadata": {
      "needs_background": "light"
     },
     "output_type": "display_data"
    }
   ],
   "source": [
    "sns.distplot(df['Property_Area'])"
   ]
  },
  {
   "cell_type": "code",
   "execution_count": 59,
   "id": "daeff5f3",
   "metadata": {},
   "outputs": [
    {
     "data": {
      "text/plain": [
       "<AxesSubplot:xlabel='Loan_Status', ylabel='Density'>"
      ]
     },
     "execution_count": 59,
     "metadata": {},
     "output_type": "execute_result"
    },
    {
     "data": {
      "image/png": "[encoded data removed]",
      "text/plain": [
       "<Figure size 432x288 with 1 Axes>"
      ]
     },
     "metadata": {
      "needs_background": "light"
     },
     "output_type": "display_data"
    }
   ],
   "source": [
    "sns.distplot(df['Loan_Status'])"
   ]
  },
  {
   "cell_type": "markdown",
   "id": "79ce4055",
   "metadata": {},
   "source": [
    "# The normal distribution shows that the data is skewed."
   ]
  },
  {
   "cell_type": "markdown",
   "id": "c7bdcae6",
   "metadata": {},
   "source": [
    "# Data Cleaning:"
   ]
  },
  {
   "cell_type": "code",
   "execution_count": 60,
   "id": "95ee70d3",
   "metadata": {},
   "outputs": [
    {
     "data": {
      "text/html": [
       "<div>\n",
       "<style scoped>\n",
       "    .dataframe tbody tr th:only-of-type {\n",
       "        vertical-align: middle;\n",
       "    }\n",
       "\n",
       "    .dataframe tbody tr th {\n",
       "        vertical-align: top;\n",
       "    }\n",
       "\n",
       "    .dataframe thead th {\n",
       "        text-align: right;\n",
       "    }\n",
       "</style>\n",
       "<table border=\"1\" class=\"dataframe\">\n",
       "  <thead>\n",
       "    <tr style=\"text-align: right;\">\n",
       "      <th></th>\n",
       "      <th>Correlation with Target</th>\n",
       "      <th>Column Name</th>\n",
       "      <th>Normalised</th>\n",
       "      <th>Outliers</th>\n",
       "    </tr>\n",
       "  </thead>\n",
       "  <tbody>\n",
       "    <tr>\n",
       "      <th>0</th>\n",
       "      <td>-0.003700</td>\n",
       "      <td>Self_Employed</td>\n",
       "      <td>No</td>\n",
       "      <td>Alot</td>\n",
       "    </tr>\n",
       "    <tr>\n",
       "      <th>1</th>\n",
       "      <td>-0.004710</td>\n",
       "      <td>ApplicantIncome</td>\n",
       "      <td>No</td>\n",
       "      <td>Alot</td>\n",
       "    </tr>\n",
       "    <tr>\n",
       "      <th>2</th>\n",
       "      <td>-0.022549</td>\n",
       "      <td>Loan_Amount_Term</td>\n",
       "      <td>No</td>\n",
       "      <td>Alot</td>\n",
       "    </tr>\n",
       "    <tr>\n",
       "      <th>3</th>\n",
       "      <td>-0.031808</td>\n",
       "      <td>LoanAmount</td>\n",
       "      <td>No</td>\n",
       "      <td>Alot</td>\n",
       "    </tr>\n",
       "  </tbody>\n",
       "</table>\n",
       "</div>"
      ],
      "text/plain": [
       "  Correlation with Target       Column Name Normalised Outliers\n",
       "0               -0.003700     Self_Employed         No     Alot\n",
       "1               -0.004710   ApplicantIncome         No     Alot\n",
       "2               -0.022549  Loan_Amount_Term         No     Alot\n",
       "3               -0.031808        LoanAmount         No     Alot"
      ]
     },
     "execution_count": 60,
     "metadata": {},
     "output_type": "execute_result"
    }
   ],
   "source": [
    "#*SP=skewed point.\n",
    "SP = pd.DataFrame([[\"-0.003700\",\"Self_Employed\",\"No\",\"Alot\"],[\"-0.004710\",\"ApplicantIncome\",\"No\",\"Alot\"],[\"-0.022549\",\"Loan_Amount_Term\",\"No\",\"Alot\"],[\"-0.031808\",\"LoanAmount\",\"No\",\"Alot\"]],columns=[\"Correlation with Target\",\"Column Name\",\"Normalised\",\"Outliers\"])\n",
    "SP"
   ]
  },
  {
   "cell_type": "raw",
   "id": "bfebf856",
   "metadata": {},
   "source": [
    "Here, we are setting threshold of correlation as +/-0.1. It is not standard. The dataset demands."
   ]
  },
  {
   "cell_type": "code",
   "execution_count": 61,
   "id": "ef3186c0",
   "metadata": {},
   "outputs": [],
   "source": [
    "df1=df.drop(['Loan_ID'],axis=1)"
   ]
  },
  {
   "cell_type": "code",
   "execution_count": 62,
   "id": "153be7e2",
   "metadata": {},
   "outputs": [
    {
     "data": {
      "text/html": [
       "<div>\n",
       "<style scoped>\n",
       "    .dataframe tbody tr th:only-of-type {\n",
       "        vertical-align: middle;\n",
       "    }\n",
       "\n",
       "    .dataframe tbody tr th {\n",
       "        vertical-align: top;\n",
       "    }\n",
       "\n",
       "    .dataframe thead th {\n",
       "        text-align: right;\n",
       "    }\n",
       "</style>\n",
       "<table border=\"1\" class=\"dataframe\">\n",
       "  <thead>\n",
       "    <tr style=\"text-align: right;\">\n",
       "      <th></th>\n",
       "      <th>Gender</th>\n",
       "      <th>Married</th>\n",
       "      <th>Dependents</th>\n",
       "      <th>Education</th>\n",
       "      <th>Self_Employed</th>\n",
       "      <th>ApplicantIncome</th>\n",
       "      <th>CoapplicantIncome</th>\n",
       "      <th>LoanAmount</th>\n",
       "      <th>Loan_Amount_Term</th>\n",
       "      <th>Credit_History</th>\n",
       "      <th>Property_Area</th>\n",
       "      <th>Loan_Status</th>\n",
       "    </tr>\n",
       "  </thead>\n",
       "  <tbody>\n",
       "    <tr>\n",
       "      <th>0</th>\n",
       "      <td>1</td>\n",
       "      <td>0</td>\n",
       "      <td>0</td>\n",
       "      <td>0</td>\n",
       "      <td>0</td>\n",
       "      <td>5849</td>\n",
       "      <td>0.0</td>\n",
       "      <td>120.0</td>\n",
       "      <td>360.0</td>\n",
       "      <td>1.0</td>\n",
       "      <td>2</td>\n",
       "      <td>1</td>\n",
       "    </tr>\n",
       "    <tr>\n",
       "      <th>1</th>\n",
       "      <td>1</td>\n",
       "      <td>1</td>\n",
       "      <td>1</td>\n",
       "      <td>0</td>\n",
       "      <td>0</td>\n",
       "      <td>4583</td>\n",
       "      <td>1508.0</td>\n",
       "      <td>128.0</td>\n",
       "      <td>360.0</td>\n",
       "      <td>1.0</td>\n",
       "      <td>0</td>\n",
       "      <td>0</td>\n",
       "    </tr>\n",
       "    <tr>\n",
       "      <th>2</th>\n",
       "      <td>1</td>\n",
       "      <td>1</td>\n",
       "      <td>0</td>\n",
       "      <td>0</td>\n",
       "      <td>1</td>\n",
       "      <td>3000</td>\n",
       "      <td>0.0</td>\n",
       "      <td>66.0</td>\n",
       "      <td>360.0</td>\n",
       "      <td>1.0</td>\n",
       "      <td>2</td>\n",
       "      <td>1</td>\n",
       "    </tr>\n",
       "    <tr>\n",
       "      <th>3</th>\n",
       "      <td>1</td>\n",
       "      <td>1</td>\n",
       "      <td>0</td>\n",
       "      <td>1</td>\n",
       "      <td>0</td>\n",
       "      <td>2583</td>\n",
       "      <td>2358.0</td>\n",
       "      <td>120.0</td>\n",
       "      <td>360.0</td>\n",
       "      <td>1.0</td>\n",
       "      <td>2</td>\n",
       "      <td>1</td>\n",
       "    </tr>\n",
       "    <tr>\n",
       "      <th>4</th>\n",
       "      <td>1</td>\n",
       "      <td>0</td>\n",
       "      <td>0</td>\n",
       "      <td>0</td>\n",
       "      <td>0</td>\n",
       "      <td>6000</td>\n",
       "      <td>0.0</td>\n",
       "      <td>141.0</td>\n",
       "      <td>360.0</td>\n",
       "      <td>1.0</td>\n",
       "      <td>2</td>\n",
       "      <td>1</td>\n",
       "    </tr>\n",
       "    <tr>\n",
       "      <th>...</th>\n",
       "      <td>...</td>\n",
       "      <td>...</td>\n",
       "      <td>...</td>\n",
       "      <td>...</td>\n",
       "      <td>...</td>\n",
       "      <td>...</td>\n",
       "      <td>...</td>\n",
       "      <td>...</td>\n",
       "      <td>...</td>\n",
       "      <td>...</td>\n",
       "      <td>...</td>\n",
       "      <td>...</td>\n",
       "    </tr>\n",
       "    <tr>\n",
       "      <th>609</th>\n",
       "      <td>0</td>\n",
       "      <td>0</td>\n",
       "      <td>0</td>\n",
       "      <td>0</td>\n",
       "      <td>0</td>\n",
       "      <td>2900</td>\n",
       "      <td>0.0</td>\n",
       "      <td>71.0</td>\n",
       "      <td>360.0</td>\n",
       "      <td>1.0</td>\n",
       "      <td>0</td>\n",
       "      <td>1</td>\n",
       "    </tr>\n",
       "    <tr>\n",
       "      <th>610</th>\n",
       "      <td>1</td>\n",
       "      <td>1</td>\n",
       "      <td>3</td>\n",
       "      <td>0</td>\n",
       "      <td>0</td>\n",
       "      <td>4106</td>\n",
       "      <td>0.0</td>\n",
       "      <td>40.0</td>\n",
       "      <td>180.0</td>\n",
       "      <td>1.0</td>\n",
       "      <td>0</td>\n",
       "      <td>1</td>\n",
       "    </tr>\n",
       "    <tr>\n",
       "      <th>611</th>\n",
       "      <td>1</td>\n",
       "      <td>1</td>\n",
       "      <td>1</td>\n",
       "      <td>0</td>\n",
       "      <td>0</td>\n",
       "      <td>8072</td>\n",
       "      <td>240.0</td>\n",
       "      <td>253.0</td>\n",
       "      <td>360.0</td>\n",
       "      <td>1.0</td>\n",
       "      <td>2</td>\n",
       "      <td>1</td>\n",
       "    </tr>\n",
       "    <tr>\n",
       "      <th>612</th>\n",
       "      <td>1</td>\n",
       "      <td>1</td>\n",
       "      <td>2</td>\n",
       "      <td>0</td>\n",
       "      <td>0</td>\n",
       "      <td>7583</td>\n",
       "      <td>0.0</td>\n",
       "      <td>187.0</td>\n",
       "      <td>360.0</td>\n",
       "      <td>1.0</td>\n",
       "      <td>2</td>\n",
       "      <td>1</td>\n",
       "    </tr>\n",
       "    <tr>\n",
       "      <th>613</th>\n",
       "      <td>0</td>\n",
       "      <td>0</td>\n",
       "      <td>0</td>\n",
       "      <td>0</td>\n",
       "      <td>1</td>\n",
       "      <td>4583</td>\n",
       "      <td>0.0</td>\n",
       "      <td>133.0</td>\n",
       "      <td>360.0</td>\n",
       "      <td>0.0</td>\n",
       "      <td>1</td>\n",
       "      <td>0</td>\n",
       "    </tr>\n",
       "  </tbody>\n",
       "</table>\n",
       "<p>614 rows × 12 columns</p>\n",
       "</div>"
      ],
      "text/plain": [
       "     Gender  Married  Dependents  Education  Self_Employed  ApplicantIncome  \\\n",
       "0         1        0           0          0              0             5849   \n",
       "1         1        1           1          0              0             4583   \n",
       "2         1        1           0          0              1             3000   \n",
       "3         1        1           0          1              0             2583   \n",
       "4         1        0           0          0              0             6000   \n",
       "..      ...      ...         ...        ...            ...              ...   \n",
       "609       0        0           0          0              0             2900   \n",
       "610       1        1           3          0              0             4106   \n",
       "611       1        1           1          0              0             8072   \n",
       "612       1        1           2          0              0             7583   \n",
       "613       0        0           0          0              1             4583   \n",
       "\n",
       "     CoapplicantIncome  LoanAmount  Loan_Amount_Term  Credit_History  \\\n",
       "0                  0.0       120.0             360.0             1.0   \n",
       "1               1508.0       128.0             360.0             1.0   \n",
       "2                  0.0        66.0             360.0             1.0   \n",
       "3               2358.0       120.0             360.0             1.0   \n",
       "4                  0.0       141.0             360.0             1.0   \n",
       "..                 ...         ...               ...             ...   \n",
       "609                0.0        71.0             360.0             1.0   \n",
       "610                0.0        40.0             180.0             1.0   \n",
       "611              240.0       253.0             360.0             1.0   \n",
       "612                0.0       187.0             360.0             1.0   \n",
       "613                0.0       133.0             360.0             0.0   \n",
       "\n",
       "     Property_Area  Loan_Status  \n",
       "0                2            1  \n",
       "1                0            0  \n",
       "2                2            1  \n",
       "3                2            1  \n",
       "4                2            1  \n",
       "..             ...          ...  \n",
       "609              0            1  \n",
       "610              0            1  \n",
       "611              2            1  \n",
       "612              2            1  \n",
       "613              1            0  \n",
       "\n",
       "[614 rows x 12 columns]"
      ]
     },
     "execution_count": 62,
     "metadata": {},
     "output_type": "execute_result"
    }
   ],
   "source": [
    "df1"
   ]
  },
  {
   "cell_type": "markdown",
   "id": "73c689f8",
   "metadata": {},
   "source": [
    "# Removing Outliers:"
   ]
  },
  {
   "cell_type": "markdown",
   "id": "deffc53c",
   "metadata": {},
   "source": [
    "# Z-Score Technique:"
   ]
  },
  {
   "cell_type": "code",
   "execution_count": 63,
   "id": "912eacee",
   "metadata": {},
   "outputs": [],
   "source": [
    "from scipy.stats import zscore\n",
    "import numpy as np\n",
    "z=np.abs(zscore(df1))"
   ]
  },
  {
   "cell_type": "code",
   "execution_count": 64,
   "id": "445c38b8",
   "metadata": {},
   "outputs": [
    {
     "data": {
      "text/plain": [
       "(array([  9,  14,  68,  94, 126, 130, 133, 155, 155, 171, 171, 177, 177,\n",
       "        183, 185, 242, 262, 278, 308, 313, 333, 333, 369, 402, 409, 417,\n",
       "        432, 443, 487, 495, 497, 506, 523, 525, 546, 561, 575, 581, 585,\n",
       "        600, 604], dtype=int64),\n",
       " array([6, 8, 8, 8, 5, 7, 8, 5, 7, 5, 7, 6, 7, 5, 5, 8, 8, 7, 7, 8, 5, 7,\n",
       "        7, 6, 5, 6, 7, 5, 7, 8, 8, 7, 7, 7, 8, 7, 8, 6, 8, 6, 7],\n",
       "       dtype=int64))"
      ]
     },
     "execution_count": 64,
     "metadata": {},
     "output_type": "execute_result"
    }
   ],
   "source": [
    "threshold=3\n",
    "np.where(z>3)"
   ]
  },
  {
   "cell_type": "code",
   "execution_count": 65,
   "id": "c3855ea4",
   "metadata": {},
   "outputs": [
    {
     "data": {
      "text/html": [
       "<div>\n",
       "<style scoped>\n",
       "    .dataframe tbody tr th:only-of-type {\n",
       "        vertical-align: middle;\n",
       "    }\n",
       "\n",
       "    .dataframe tbody tr th {\n",
       "        vertical-align: top;\n",
       "    }\n",
       "\n",
       "    .dataframe thead th {\n",
       "        text-align: right;\n",
       "    }\n",
       "</style>\n",
       "<table border=\"1\" class=\"dataframe\">\n",
       "  <thead>\n",
       "    <tr style=\"text-align: right;\">\n",
       "      <th></th>\n",
       "      <th>Gender</th>\n",
       "      <th>Married</th>\n",
       "      <th>Dependents</th>\n",
       "      <th>Education</th>\n",
       "      <th>Self_Employed</th>\n",
       "      <th>ApplicantIncome</th>\n",
       "      <th>CoapplicantIncome</th>\n",
       "      <th>LoanAmount</th>\n",
       "      <th>Loan_Amount_Term</th>\n",
       "      <th>Credit_History</th>\n",
       "      <th>Property_Area</th>\n",
       "      <th>Loan_Status</th>\n",
       "    </tr>\n",
       "  </thead>\n",
       "  <tbody>\n",
       "    <tr>\n",
       "      <th>0</th>\n",
       "      <td>1</td>\n",
       "      <td>0</td>\n",
       "      <td>0</td>\n",
       "      <td>0</td>\n",
       "      <td>0</td>\n",
       "      <td>5849</td>\n",
       "      <td>0.0</td>\n",
       "      <td>120.0</td>\n",
       "      <td>360.0</td>\n",
       "      <td>1.0</td>\n",
       "      <td>2</td>\n",
       "      <td>1</td>\n",
       "    </tr>\n",
       "    <tr>\n",
       "      <th>1</th>\n",
       "      <td>1</td>\n",
       "      <td>1</td>\n",
       "      <td>1</td>\n",
       "      <td>0</td>\n",
       "      <td>0</td>\n",
       "      <td>4583</td>\n",
       "      <td>1508.0</td>\n",
       "      <td>128.0</td>\n",
       "      <td>360.0</td>\n",
       "      <td>1.0</td>\n",
       "      <td>0</td>\n",
       "      <td>0</td>\n",
       "    </tr>\n",
       "    <tr>\n",
       "      <th>2</th>\n",
       "      <td>1</td>\n",
       "      <td>1</td>\n",
       "      <td>0</td>\n",
       "      <td>0</td>\n",
       "      <td>1</td>\n",
       "      <td>3000</td>\n",
       "      <td>0.0</td>\n",
       "      <td>66.0</td>\n",
       "      <td>360.0</td>\n",
       "      <td>1.0</td>\n",
       "      <td>2</td>\n",
       "      <td>1</td>\n",
       "    </tr>\n",
       "    <tr>\n",
       "      <th>3</th>\n",
       "      <td>1</td>\n",
       "      <td>1</td>\n",
       "      <td>0</td>\n",
       "      <td>1</td>\n",
       "      <td>0</td>\n",
       "      <td>2583</td>\n",
       "      <td>2358.0</td>\n",
       "      <td>120.0</td>\n",
       "      <td>360.0</td>\n",
       "      <td>1.0</td>\n",
       "      <td>2</td>\n",
       "      <td>1</td>\n",
       "    </tr>\n",
       "    <tr>\n",
       "      <th>4</th>\n",
       "      <td>1</td>\n",
       "      <td>0</td>\n",
       "      <td>0</td>\n",
       "      <td>0</td>\n",
       "      <td>0</td>\n",
       "      <td>6000</td>\n",
       "      <td>0.0</td>\n",
       "      <td>141.0</td>\n",
       "      <td>360.0</td>\n",
       "      <td>1.0</td>\n",
       "      <td>2</td>\n",
       "      <td>1</td>\n",
       "    </tr>\n",
       "    <tr>\n",
       "      <th>...</th>\n",
       "      <td>...</td>\n",
       "      <td>...</td>\n",
       "      <td>...</td>\n",
       "      <td>...</td>\n",
       "      <td>...</td>\n",
       "      <td>...</td>\n",
       "      <td>...</td>\n",
       "      <td>...</td>\n",
       "      <td>...</td>\n",
       "      <td>...</td>\n",
       "      <td>...</td>\n",
       "      <td>...</td>\n",
       "    </tr>\n",
       "    <tr>\n",
       "      <th>609</th>\n",
       "      <td>0</td>\n",
       "      <td>0</td>\n",
       "      <td>0</td>\n",
       "      <td>0</td>\n",
       "      <td>0</td>\n",
       "      <td>2900</td>\n",
       "      <td>0.0</td>\n",
       "      <td>71.0</td>\n",
       "      <td>360.0</td>\n",
       "      <td>1.0</td>\n",
       "      <td>0</td>\n",
       "      <td>1</td>\n",
       "    </tr>\n",
       "    <tr>\n",
       "      <th>610</th>\n",
       "      <td>1</td>\n",
       "      <td>1</td>\n",
       "      <td>3</td>\n",
       "      <td>0</td>\n",
       "      <td>0</td>\n",
       "      <td>4106</td>\n",
       "      <td>0.0</td>\n",
       "      <td>40.0</td>\n",
       "      <td>180.0</td>\n",
       "      <td>1.0</td>\n",
       "      <td>0</td>\n",
       "      <td>1</td>\n",
       "    </tr>\n",
       "    <tr>\n",
       "      <th>611</th>\n",
       "      <td>1</td>\n",
       "      <td>1</td>\n",
       "      <td>1</td>\n",
       "      <td>0</td>\n",
       "      <td>0</td>\n",
       "      <td>8072</td>\n",
       "      <td>240.0</td>\n",
       "      <td>253.0</td>\n",
       "      <td>360.0</td>\n",
       "      <td>1.0</td>\n",
       "      <td>2</td>\n",
       "      <td>1</td>\n",
       "    </tr>\n",
       "    <tr>\n",
       "      <th>612</th>\n",
       "      <td>1</td>\n",
       "      <td>1</td>\n",
       "      <td>2</td>\n",
       "      <td>0</td>\n",
       "      <td>0</td>\n",
       "      <td>7583</td>\n",
       "      <td>0.0</td>\n",
       "      <td>187.0</td>\n",
       "      <td>360.0</td>\n",
       "      <td>1.0</td>\n",
       "      <td>2</td>\n",
       "      <td>1</td>\n",
       "    </tr>\n",
       "    <tr>\n",
       "      <th>613</th>\n",
       "      <td>0</td>\n",
       "      <td>0</td>\n",
       "      <td>0</td>\n",
       "      <td>0</td>\n",
       "      <td>1</td>\n",
       "      <td>4583</td>\n",
       "      <td>0.0</td>\n",
       "      <td>133.0</td>\n",
       "      <td>360.0</td>\n",
       "      <td>0.0</td>\n",
       "      <td>1</td>\n",
       "      <td>0</td>\n",
       "    </tr>\n",
       "  </tbody>\n",
       "</table>\n",
       "<p>577 rows × 12 columns</p>\n",
       "</div>"
      ],
      "text/plain": [
       "     Gender  Married  Dependents  Education  Self_Employed  ApplicantIncome  \\\n",
       "0         1        0           0          0              0             5849   \n",
       "1         1        1           1          0              0             4583   \n",
       "2         1        1           0          0              1             3000   \n",
       "3         1        1           0          1              0             2583   \n",
       "4         1        0           0          0              0             6000   \n",
       "..      ...      ...         ...        ...            ...              ...   \n",
       "609       0        0           0          0              0             2900   \n",
       "610       1        1           3          0              0             4106   \n",
       "611       1        1           1          0              0             8072   \n",
       "612       1        1           2          0              0             7583   \n",
       "613       0        0           0          0              1             4583   \n",
       "\n",
       "     CoapplicantIncome  LoanAmount  Loan_Amount_Term  Credit_History  \\\n",
       "0                  0.0       120.0             360.0             1.0   \n",
       "1               1508.0       128.0             360.0             1.0   \n",
       "2                  0.0        66.0             360.0             1.0   \n",
       "3               2358.0       120.0             360.0             1.0   \n",
       "4                  0.0       141.0             360.0             1.0   \n",
       "..                 ...         ...               ...             ...   \n",
       "609                0.0        71.0             360.0             1.0   \n",
       "610                0.0        40.0             180.0             1.0   \n",
       "611              240.0       253.0             360.0             1.0   \n",
       "612                0.0       187.0             360.0             1.0   \n",
       "613                0.0       133.0             360.0             0.0   \n",
       "\n",
       "     Property_Area  Loan_Status  \n",
       "0                2            1  \n",
       "1                0            0  \n",
       "2                2            1  \n",
       "3                2            1  \n",
       "4                2            1  \n",
       "..             ...          ...  \n",
       "609              0            1  \n",
       "610              0            1  \n",
       "611              2            1  \n",
       "612              2            1  \n",
       "613              1            0  \n",
       "\n",
       "[577 rows x 12 columns]"
      ]
     },
     "execution_count": 65,
     "metadata": {},
     "output_type": "execute_result"
    }
   ],
   "source": [
    "df2=df1[(z<3).all(axis=1)]\n",
    "df2"
   ]
  },
  {
   "cell_type": "code",
   "execution_count": 66,
   "id": "e5417e79",
   "metadata": {},
   "outputs": [
    {
     "data": {
      "text/plain": [
       "((614, 13), (577, 12))"
      ]
     },
     "execution_count": 66,
     "metadata": {},
     "output_type": "execute_result"
    }
   ],
   "source": [
    "# Here we can check shape both of the dataset.\n",
    "df.shape,df2.shape"
   ]
  },
  {
   "cell_type": "markdown",
   "id": "1f3f209c",
   "metadata": {},
   "source": [
    "# Percentage loss of data while removing ourliers"
   ]
  },
  {
   "cell_type": "code",
   "execution_count": 67,
   "id": "05ddf157",
   "metadata": {},
   "outputs": [
    {
     "name": "stdout",
     "output_type": "stream",
     "text": [
      "6.026058631921824\n"
     ]
    }
   ],
   "source": [
    "percentage_loss=((614-577)/614)*100\n",
    "print(percentage_loss)"
   ]
  },
  {
   "cell_type": "markdown",
   "id": "a8a54983",
   "metadata": {},
   "source": [
    "Since the percentage of outliers are less than 10 percent.\n",
    "\n",
    "we can proceed with the outliers removable"
   ]
  },
  {
   "cell_type": "code",
   "execution_count": 68,
   "id": "6de9e65d",
   "metadata": {},
   "outputs": [],
   "source": [
    "x = df2[['Gender', 'Married', 'Dependents', 'Education', 'Self_Employed',\n",
    "       'ApplicantIncome', 'CoapplicantIncome', 'LoanAmount',\n",
    "       'Loan_Amount_Term', 'Credit_History', 'Property_Area']]\n",
    "y = df2['Loan_Status']"
   ]
  },
  {
   "cell_type": "code",
   "execution_count": 69,
   "id": "b783db6b",
   "metadata": {},
   "outputs": [
    {
     "data": {
      "text/html": [
       "<div>\n",
       "<style scoped>\n",
       "    .dataframe tbody tr th:only-of-type {\n",
       "        vertical-align: middle;\n",
       "    }\n",
       "\n",
       "    .dataframe tbody tr th {\n",
       "        vertical-align: top;\n",
       "    }\n",
       "\n",
       "    .dataframe thead th {\n",
       "        text-align: right;\n",
       "    }\n",
       "</style>\n",
       "<table border=\"1\" class=\"dataframe\">\n",
       "  <thead>\n",
       "    <tr style=\"text-align: right;\">\n",
       "      <th></th>\n",
       "      <th>Gender</th>\n",
       "      <th>Married</th>\n",
       "      <th>Dependents</th>\n",
       "      <th>Education</th>\n",
       "      <th>Self_Employed</th>\n",
       "      <th>ApplicantIncome</th>\n",
       "      <th>CoapplicantIncome</th>\n",
       "      <th>LoanAmount</th>\n",
       "      <th>Loan_Amount_Term</th>\n",
       "      <th>Credit_History</th>\n",
       "      <th>Property_Area</th>\n",
       "    </tr>\n",
       "  </thead>\n",
       "  <tbody>\n",
       "    <tr>\n",
       "      <th>0</th>\n",
       "      <td>1</td>\n",
       "      <td>0</td>\n",
       "      <td>0</td>\n",
       "      <td>0</td>\n",
       "      <td>0</td>\n",
       "      <td>5849</td>\n",
       "      <td>0.0</td>\n",
       "      <td>120.0</td>\n",
       "      <td>360.0</td>\n",
       "      <td>1.0</td>\n",
       "      <td>2</td>\n",
       "    </tr>\n",
       "    <tr>\n",
       "      <th>1</th>\n",
       "      <td>1</td>\n",
       "      <td>1</td>\n",
       "      <td>1</td>\n",
       "      <td>0</td>\n",
       "      <td>0</td>\n",
       "      <td>4583</td>\n",
       "      <td>1508.0</td>\n",
       "      <td>128.0</td>\n",
       "      <td>360.0</td>\n",
       "      <td>1.0</td>\n",
       "      <td>0</td>\n",
       "    </tr>\n",
       "  </tbody>\n",
       "</table>\n",
       "</div>"
      ],
      "text/plain": [
       "   Gender  Married  Dependents  Education  Self_Employed  ApplicantIncome  \\\n",
       "0       1        0           0          0              0             5849   \n",
       "1       1        1           1          0              0             4583   \n",
       "\n",
       "   CoapplicantIncome  LoanAmount  Loan_Amount_Term  Credit_History  \\\n",
       "0                0.0       120.0             360.0             1.0   \n",
       "1             1508.0       128.0             360.0             1.0   \n",
       "\n",
       "   Property_Area  \n",
       "0              2  \n",
       "1              0  "
      ]
     },
     "execution_count": 69,
     "metadata": {},
     "output_type": "execute_result"
    }
   ],
   "source": [
    "# Here we can check our seperation of our data in 2 variable x and y.\n",
    "x.head(2)"
   ]
  },
  {
   "cell_type": "code",
   "execution_count": 70,
   "id": "1ddf1030",
   "metadata": {},
   "outputs": [
    {
     "data": {
      "text/plain": [
       "0    1\n",
       "1    0\n",
       "Name: Loan_Status, dtype: int32"
      ]
     },
     "execution_count": 70,
     "metadata": {},
     "output_type": "execute_result"
    }
   ],
   "source": [
    "y.head(2)"
   ]
  },
  {
   "cell_type": "markdown",
   "id": "5d3b2f10",
   "metadata": {},
   "source": [
    "# Transforming data to remove skewness"
   ]
  },
  {
   "cell_type": "code",
   "execution_count": 71,
   "id": "92ab96a1",
   "metadata": {},
   "outputs": [
    {
     "data": {
      "text/plain": [
       "array([[ 0.47713685, -1.36251079, -0.80924269, ...,  0.13078824,\n",
       "         0.41851254,  1.1948064 ],\n",
       "       [ 0.47713685,  0.73393914,  0.90286851, ...,  0.13078824,\n",
       "         0.41851254, -1.34019905],\n",
       "       [ 0.47713685,  0.73393914, -0.80924269, ...,  0.13078824,\n",
       "         0.41851254,  1.1948064 ],\n",
       "       ...,\n",
       "       [ 0.47713685,  0.73393914,  0.90286851, ...,  0.13078824,\n",
       "         0.41851254,  1.1948064 ],\n",
       "       [ 0.47713685,  0.73393914,  1.34467098, ...,  0.13078824,\n",
       "         0.41851254,  1.1948064 ],\n",
       "       [-2.09583477, -1.36251079, -0.80924269, ...,  0.13078824,\n",
       "        -2.38941464,  0.01546372]])"
      ]
     },
     "execution_count": 71,
     "metadata": {},
     "output_type": "execute_result"
    }
   ],
   "source": [
    "from sklearn.preprocessing import power_transform\n",
    "x=power_transform(x,method='yeo-johnson')\n",
    "x"
   ]
  },
  {
   "cell_type": "code",
   "execution_count": 72,
   "id": "45ee26ab",
   "metadata": {},
   "outputs": [
    {
     "data": {
      "text/plain": [
       "array([[ 0.47713685, -1.36251079, -0.80924269, ...,  0.13078824,\n",
       "         0.41851254,  1.1948064 ],\n",
       "       [ 0.47713685,  0.73393914,  0.90286851, ...,  0.13078824,\n",
       "         0.41851254, -1.34019905],\n",
       "       [ 0.47713685,  0.73393914, -0.80924269, ...,  0.13078824,\n",
       "         0.41851254,  1.1948064 ],\n",
       "       ...,\n",
       "       [ 0.47713685,  0.73393914,  0.90286851, ...,  0.13078824,\n",
       "         0.41851254,  1.1948064 ],\n",
       "       [ 0.47713685,  0.73393914,  1.34467098, ...,  0.13078824,\n",
       "         0.41851254,  1.1948064 ],\n",
       "       [-2.09583477, -1.36251079, -0.80924269, ...,  0.13078824,\n",
       "        -2.38941464,  0.01546372]])"
      ]
     },
     "execution_count": 72,
     "metadata": {},
     "output_type": "execute_result"
    }
   ],
   "source": [
    "from sklearn.preprocessing import StandardScaler\n",
    "sc=StandardScaler()\n",
    "x=sc.fit_transform(x)\n",
    "x"
   ]
  },
  {
   "cell_type": "markdown",
   "id": "703c3685",
   "metadata": {},
   "source": [
    "# Since the outcome has only two variable we will use binary classification model."
   ]
  },
  {
   "cell_type": "code",
   "execution_count": 73,
   "id": "c3ecc4af",
   "metadata": {},
   "outputs": [],
   "source": [
    "from sklearn.model_selection import train_test_split\n",
    "from sklearn.linear_model import LogisticRegression\n",
    "lr=LogisticRegression()\n",
    "from sklearn.metrics import accuracy_score"
   ]
  },
  {
   "cell_type": "markdown",
   "id": "05e554db",
   "metadata": {},
   "source": [
    "# Splitting the dataframe:"
   ]
  },
  {
   "cell_type": "code",
   "execution_count": 74,
   "id": "a526865a",
   "metadata": {},
   "outputs": [
    {
     "name": "stdout",
     "output_type": "stream",
     "text": [
      "At random state 41  The model performs very well\n",
      "At random_state:- 41\n",
      "Training r2_score is:- 81.77874186550976\n",
      "Testing r2_score is:- 81.89655172413794\n",
      "\n",
      "\n",
      "At random state 60  The model performs very well\n",
      "At random_state:- 60\n",
      "Training r2_score is:- 81.77874186550976\n",
      "Testing r2_score is:- 81.89655172413794\n",
      "\n",
      "\n",
      "At random state 63  The model performs very well\n",
      "At random_state:- 63\n",
      "Training r2_score is:- 81.77874186550976\n",
      "Testing r2_score is:- 81.89655172413794\n",
      "\n",
      "\n",
      "At random state 66  The model performs very well\n",
      "At random_state:- 66\n",
      "Training r2_score is:- 81.77874186550976\n",
      "Testing r2_score is:- 81.89655172413794\n",
      "\n",
      "\n",
      "At random state 69  The model performs very well\n",
      "At random_state:- 69\n",
      "Training r2_score is:- 81.77874186550976\n",
      "Testing r2_score is:- 81.89655172413794\n",
      "\n",
      "\n",
      "At random state 78  The model performs very well\n",
      "At random_state:- 78\n",
      "Training r2_score is:- 81.77874186550976\n",
      "Testing r2_score is:- 81.89655172413794\n",
      "\n",
      "\n",
      "At random state 104  The model performs very well\n",
      "At random_state:- 104\n",
      "Training r2_score is:- 81.77874186550976\n",
      "Testing r2_score is:- 81.89655172413794\n",
      "\n",
      "\n",
      "At random state 110  The model performs very well\n",
      "At random_state:- 110\n",
      "Training r2_score is:- 81.77874186550976\n",
      "Testing r2_score is:- 81.89655172413794\n",
      "\n",
      "\n",
      "At random state 132  The model performs very well\n",
      "At random_state:- 132\n",
      "Training r2_score is:- 81.99566160520607\n",
      "Testing r2_score is:- 81.89655172413794\n",
      "\n",
      "\n",
      "At random state 135  The model performs very well\n",
      "At random_state:- 135\n",
      "Training r2_score is:- 81.77874186550976\n",
      "Testing r2_score is:- 81.89655172413794\n",
      "\n",
      "\n",
      "At random state 141  The model performs very well\n",
      "At random_state:- 141\n",
      "Training r2_score is:- 82.21258134490239\n",
      "Testing r2_score is:- 81.89655172413794\n",
      "\n",
      "\n",
      "At random state 145  The model performs very well\n",
      "At random_state:- 145\n",
      "Training r2_score is:- 82.21258134490239\n",
      "Testing r2_score is:- 81.89655172413794\n",
      "\n",
      "\n",
      "At random state 152  The model performs very well\n",
      "At random_state:- 152\n",
      "Training r2_score is:- 81.77874186550976\n",
      "Testing r2_score is:- 81.89655172413794\n",
      "\n",
      "\n",
      "At random state 155  The model performs very well\n",
      "At random_state:- 155\n",
      "Training r2_score is:- 81.77874186550976\n",
      "Testing r2_score is:- 81.89655172413794\n",
      "\n",
      "\n",
      "At random state 170  The model performs very well\n",
      "At random_state:- 170\n",
      "Training r2_score is:- 82.21258134490239\n",
      "Testing r2_score is:- 81.89655172413794\n",
      "\n",
      "\n",
      "At random state 189  The model performs very well\n",
      "At random_state:- 189\n",
      "Training r2_score is:- 81.77874186550976\n",
      "Testing r2_score is:- 81.89655172413794\n",
      "\n",
      "\n",
      "At random state 193  The model performs very well\n",
      "At random_state:- 193\n",
      "Training r2_score is:- 81.77874186550976\n",
      "Testing r2_score is:- 81.89655172413794\n",
      "\n",
      "\n",
      "At random state 197  The model performs very well\n",
      "At random_state:- 197\n",
      "Training r2_score is:- 81.77874186550976\n",
      "Testing r2_score is:- 81.89655172413794\n",
      "\n",
      "\n",
      "At random state 213  The model performs very well\n",
      "At random_state:- 213\n",
      "Training r2_score is:- 81.77874186550976\n",
      "Testing r2_score is:- 81.89655172413794\n",
      "\n",
      "\n",
      "At random state 255  The model performs very well\n",
      "At random_state:- 255\n",
      "Training r2_score is:- 81.99566160520607\n",
      "Testing r2_score is:- 81.89655172413794\n",
      "\n",
      "\n",
      "At random state 269  The model performs very well\n",
      "At random_state:- 269\n",
      "Training r2_score is:- 82.21258134490239\n",
      "Testing r2_score is:- 81.89655172413794\n",
      "\n",
      "\n",
      "At random state 286  The model performs very well\n",
      "At random_state:- 286\n",
      "Training r2_score is:- 81.77874186550976\n",
      "Testing r2_score is:- 81.89655172413794\n",
      "\n",
      "\n",
      "At random state 301  The model performs very well\n",
      "At random_state:- 301\n",
      "Training r2_score is:- 81.77874186550976\n",
      "Testing r2_score is:- 81.89655172413794\n",
      "\n",
      "\n",
      "At random state 323  The model performs very well\n",
      "At random_state:- 323\n",
      "Training r2_score is:- 81.77874186550976\n",
      "Testing r2_score is:- 81.89655172413794\n",
      "\n",
      "\n",
      "At random state 343  The model performs very well\n",
      "At random_state:- 343\n",
      "Training r2_score is:- 81.77874186550976\n",
      "Testing r2_score is:- 81.89655172413794\n",
      "\n",
      "\n",
      "At random state 347  The model performs very well\n",
      "At random_state:- 347\n",
      "Training r2_score is:- 81.56182212581345\n",
      "Testing r2_score is:- 81.89655172413794\n",
      "\n",
      "\n",
      "At random state 357  The model performs very well\n",
      "At random_state:- 357\n",
      "Training r2_score is:- 81.77874186550976\n",
      "Testing r2_score is:- 81.89655172413794\n",
      "\n",
      "\n",
      "At random state 360  The model performs very well\n",
      "At random_state:- 360\n",
      "Training r2_score is:- 81.77874186550976\n",
      "Testing r2_score is:- 81.89655172413794\n",
      "\n",
      "\n",
      "At random state 408  The model performs very well\n",
      "At random_state:- 408\n",
      "Training r2_score is:- 81.77874186550976\n",
      "Testing r2_score is:- 81.89655172413794\n",
      "\n",
      "\n",
      "At random state 415  The model performs very well\n",
      "At random_state:- 415\n",
      "Training r2_score is:- 81.77874186550976\n",
      "Testing r2_score is:- 81.89655172413794\n",
      "\n",
      "\n",
      "At random state 425  The model performs very well\n",
      "At random_state:- 425\n",
      "Training r2_score is:- 81.99566160520607\n",
      "Testing r2_score is:- 81.89655172413794\n",
      "\n",
      "\n",
      "At random state 440  The model performs very well\n",
      "At random_state:- 440\n",
      "Training r2_score is:- 81.77874186550976\n",
      "Testing r2_score is:- 81.89655172413794\n",
      "\n",
      "\n",
      "At random state 444  The model performs very well\n",
      "At random_state:- 444\n",
      "Training r2_score is:- 81.99566160520607\n",
      "Testing r2_score is:- 81.89655172413794\n",
      "\n",
      "\n",
      "At random state 453  The model performs very well\n",
      "At random_state:- 453\n",
      "Training r2_score is:- 81.77874186550976\n",
      "Testing r2_score is:- 81.89655172413794\n",
      "\n",
      "\n",
      "At random state 458  The model performs very well\n",
      "At random_state:- 458\n",
      "Training r2_score is:- 81.99566160520607\n",
      "Testing r2_score is:- 81.89655172413794\n",
      "\n",
      "\n",
      "At random state 475  The model performs very well\n",
      "At random_state:- 475\n",
      "Training r2_score is:- 82.21258134490239\n",
      "Testing r2_score is:- 81.89655172413794\n",
      "\n",
      "\n",
      "At random state 480  The model performs very well\n",
      "At random_state:- 480\n",
      "Training r2_score is:- 81.77874186550976\n",
      "Testing r2_score is:- 81.89655172413794\n",
      "\n",
      "\n",
      "At random state 490  The model performs very well\n",
      "At random_state:- 490\n",
      "Training r2_score is:- 81.77874186550976\n",
      "Testing r2_score is:- 81.89655172413794\n",
      "\n",
      "\n",
      "At random state 502  The model performs very well\n",
      "At random_state:- 502\n",
      "Training r2_score is:- 81.77874186550976\n",
      "Testing r2_score is:- 81.89655172413794\n",
      "\n",
      "\n",
      "At random state 503  The model performs very well\n",
      "At random_state:- 503\n",
      "Training r2_score is:- 81.77874186550976\n",
      "Testing r2_score is:- 81.89655172413794\n",
      "\n",
      "\n",
      "At random state 541  The model performs very well\n",
      "At random_state:- 541\n",
      "Training r2_score is:- 82.4295010845987\n",
      "Testing r2_score is:- 81.89655172413794\n",
      "\n",
      "\n",
      "At random state 547  The model performs very well\n",
      "At random_state:- 547\n",
      "Training r2_score is:- 81.56182212581345\n",
      "Testing r2_score is:- 81.89655172413794\n",
      "\n",
      "\n",
      "At random state 557  The model performs very well\n",
      "At random_state:- 557\n",
      "Training r2_score is:- 81.77874186550976\n",
      "Testing r2_score is:- 81.89655172413794\n",
      "\n",
      "\n",
      "At random state 577  The model performs very well\n",
      "At random_state:- 577\n",
      "Training r2_score is:- 82.21258134490239\n",
      "Testing r2_score is:- 81.89655172413794\n",
      "\n",
      "\n",
      "At random state 578  The model performs very well\n",
      "At random_state:- 578\n",
      "Training r2_score is:- 81.77874186550976\n",
      "Testing r2_score is:- 81.89655172413794\n",
      "\n",
      "\n",
      "At random state 595  The model performs very well\n",
      "At random_state:- 595\n",
      "Training r2_score is:- 81.77874186550976\n",
      "Testing r2_score is:- 81.89655172413794\n",
      "\n",
      "\n",
      "At random state 598  The model performs very well\n",
      "At random_state:- 598\n",
      "Training r2_score is:- 82.21258134490239\n",
      "Testing r2_score is:- 81.89655172413794\n",
      "\n",
      "\n",
      "At random state 608  The model performs very well\n",
      "At random_state:- 608\n",
      "Training r2_score is:- 81.77874186550976\n",
      "Testing r2_score is:- 81.89655172413794\n",
      "\n",
      "\n",
      "At random state 609  The model performs very well\n",
      "At random_state:- 609\n",
      "Training r2_score is:- 81.77874186550976\n",
      "Testing r2_score is:- 81.89655172413794\n",
      "\n",
      "\n",
      "At random state 623  The model performs very well\n",
      "At random_state:- 623\n",
      "Training r2_score is:- 81.77874186550976\n",
      "Testing r2_score is:- 81.89655172413794\n",
      "\n",
      "\n",
      "At random state 646  The model performs very well\n",
      "At random_state:- 646\n",
      "Training r2_score is:- 82.4295010845987\n",
      "Testing r2_score is:- 81.89655172413794\n",
      "\n",
      "\n",
      "At random state 647  The model performs very well\n",
      "At random_state:- 647\n",
      "Training r2_score is:- 81.77874186550976\n",
      "Testing r2_score is:- 81.89655172413794\n",
      "\n",
      "\n",
      "At random state 688  The model performs very well\n",
      "At random_state:- 688\n",
      "Training r2_score is:- 81.99566160520607\n",
      "Testing r2_score is:- 81.89655172413794\n",
      "\n",
      "\n",
      "At random state 690  The model performs very well\n",
      "At random_state:- 690\n",
      "Training r2_score is:- 81.77874186550976\n",
      "Testing r2_score is:- 81.89655172413794\n",
      "\n",
      "\n",
      "At random state 705  The model performs very well\n",
      "At random_state:- 705\n",
      "Training r2_score is:- 81.77874186550976\n",
      "Testing r2_score is:- 81.89655172413794\n",
      "\n",
      "\n",
      "At random state 713  The model performs very well\n",
      "At random_state:- 713\n",
      "Training r2_score is:- 81.77874186550976\n",
      "Testing r2_score is:- 81.89655172413794\n",
      "\n",
      "\n",
      "At random state 720  The model performs very well\n",
      "At random_state:- 720\n",
      "Training r2_score is:- 81.77874186550976\n",
      "Testing r2_score is:- 81.89655172413794\n",
      "\n",
      "\n",
      "At random state 722  The model performs very well\n",
      "At random_state:- 722\n",
      "Training r2_score is:- 81.77874186550976\n",
      "Testing r2_score is:- 81.89655172413794\n",
      "\n",
      "\n",
      "At random state 723  The model performs very well\n",
      "At random_state:- 723\n",
      "Training r2_score is:- 81.77874186550976\n",
      "Testing r2_score is:- 81.89655172413794\n",
      "\n",
      "\n",
      "At random state 739  The model performs very well\n",
      "At random_state:- 739\n",
      "Training r2_score is:- 81.77874186550976\n",
      "Testing r2_score is:- 81.89655172413794\n",
      "\n",
      "\n",
      "At random state 750  The model performs very well\n",
      "At random_state:- 750\n",
      "Training r2_score is:- 81.77874186550976\n",
      "Testing r2_score is:- 81.89655172413794\n",
      "\n",
      "\n",
      "At random state 767  The model performs very well\n",
      "At random_state:- 767\n",
      "Training r2_score is:- 81.77874186550976\n",
      "Testing r2_score is:- 81.89655172413794\n",
      "\n",
      "\n",
      "At random state 769  The model performs very well\n",
      "At random_state:- 769\n",
      "Training r2_score is:- 81.77874186550976\n",
      "Testing r2_score is:- 81.89655172413794\n",
      "\n",
      "\n",
      "At random state 770  The model performs very well\n",
      "At random_state:- 770\n",
      "Training r2_score is:- 81.77874186550976\n",
      "Testing r2_score is:- 81.89655172413794\n",
      "\n",
      "\n",
      "At random state 773  The model performs very well\n",
      "At random_state:- 773\n",
      "Training r2_score is:- 81.77874186550976\n",
      "Testing r2_score is:- 81.89655172413794\n",
      "\n",
      "\n",
      "At random state 777  The model performs very well\n",
      "At random_state:- 777\n",
      "Training r2_score is:- 81.77874186550976\n",
      "Testing r2_score is:- 81.89655172413794\n",
      "\n",
      "\n",
      "At random state 787  The model performs very well\n",
      "At random_state:- 787\n",
      "Training r2_score is:- 81.77874186550976\n",
      "Testing r2_score is:- 81.89655172413794\n",
      "\n",
      "\n",
      "At random state 791  The model performs very well\n",
      "At random_state:- 791\n",
      "Training r2_score is:- 81.77874186550976\n",
      "Testing r2_score is:- 81.89655172413794\n",
      "\n",
      "\n",
      "At random state 798  The model performs very well\n",
      "At random_state:- 798\n",
      "Training r2_score is:- 81.77874186550976\n",
      "Testing r2_score is:- 81.89655172413794\n",
      "\n",
      "\n",
      "At random state 810  The model performs very well\n",
      "At random_state:- 810\n",
      "Training r2_score is:- 81.77874186550976\n",
      "Testing r2_score is:- 81.89655172413794\n",
      "\n",
      "\n",
      "At random state 813  The model performs very well\n",
      "At random_state:- 813\n",
      "Training r2_score is:- 81.77874186550976\n",
      "Testing r2_score is:- 81.89655172413794\n",
      "\n",
      "\n",
      "At random state 817  The model performs very well\n",
      "At random_state:- 817\n",
      "Training r2_score is:- 81.77874186550976\n",
      "Testing r2_score is:- 81.89655172413794\n",
      "\n",
      "\n",
      "At random state 822  The model performs very well\n",
      "At random_state:- 822\n",
      "Training r2_score is:- 81.77874186550976\n",
      "Testing r2_score is:- 81.89655172413794\n",
      "\n",
      "\n",
      "At random state 838  The model performs very well\n",
      "At random_state:- 838\n",
      "Training r2_score is:- 81.77874186550976\n",
      "Testing r2_score is:- 81.89655172413794\n",
      "\n",
      "\n",
      "At random state 850  The model performs very well\n",
      "At random_state:- 850\n",
      "Training r2_score is:- 81.77874186550976\n",
      "Testing r2_score is:- 81.89655172413794\n",
      "\n",
      "\n",
      "At random state 856  The model performs very well\n",
      "At random_state:- 856\n",
      "Training r2_score is:- 81.77874186550976\n",
      "Testing r2_score is:- 81.89655172413794\n",
      "\n",
      "\n",
      "At random state 857  The model performs very well\n",
      "At random_state:- 857\n",
      "Training r2_score is:- 81.77874186550976\n",
      "Testing r2_score is:- 81.89655172413794\n",
      "\n",
      "\n",
      "At random state 859  The model performs very well\n",
      "At random_state:- 859\n",
      "Training r2_score is:- 81.99566160520607\n",
      "Testing r2_score is:- 81.89655172413794\n",
      "\n",
      "\n",
      "At random state 863  The model performs very well\n",
      "At random_state:- 863\n",
      "Training r2_score is:- 81.77874186550976\n",
      "Testing r2_score is:- 81.89655172413794\n",
      "\n",
      "\n",
      "At random state 864  The model performs very well\n",
      "At random_state:- 864\n",
      "Training r2_score is:- 81.99566160520607\n",
      "Testing r2_score is:- 81.89655172413794\n",
      "\n",
      "\n",
      "At random state 870  The model performs very well\n",
      "At random_state:- 870\n",
      "Training r2_score is:- 81.77874186550976\n",
      "Testing r2_score is:- 81.89655172413794\n",
      "\n",
      "\n",
      "At random state 903  The model performs very well\n",
      "At random_state:- 903\n",
      "Training r2_score is:- 82.21258134490239\n",
      "Testing r2_score is:- 81.89655172413794\n",
      "\n",
      "\n",
      "At random state 905  The model performs very well\n",
      "At random_state:- 905\n",
      "Training r2_score is:- 82.21258134490239\n",
      "Testing r2_score is:- 81.89655172413794\n",
      "\n",
      "\n",
      "At random state 929  The model performs very well\n",
      "At random_state:- 929\n",
      "Training r2_score is:- 81.77874186550976\n",
      "Testing r2_score is:- 81.89655172413794\n",
      "\n",
      "\n",
      "At random state 931  The model performs very well\n",
      "At random_state:- 931\n",
      "Training r2_score is:- 81.77874186550976\n",
      "Testing r2_score is:- 81.89655172413794\n",
      "\n",
      "\n",
      "At random state 933  The model performs very well\n",
      "At random_state:- 933\n",
      "Training r2_score is:- 82.21258134490239\n",
      "Testing r2_score is:- 81.89655172413794\n",
      "\n",
      "\n",
      "At random state 936  The model performs very well\n",
      "At random_state:- 936\n",
      "Training r2_score is:- 82.21258134490239\n",
      "Testing r2_score is:- 81.89655172413794\n",
      "\n",
      "\n",
      "At random state 937  The model performs very well\n",
      "At random_state:- 937\n",
      "Training r2_score is:- 81.77874186550976\n",
      "Testing r2_score is:- 81.89655172413794\n",
      "\n",
      "\n",
      "At random state 948  The model performs very well\n",
      "At random_state:- 948\n",
      "Training r2_score is:- 81.77874186550976\n",
      "Testing r2_score is:- 81.89655172413794\n",
      "\n",
      "\n",
      "At random state 954  The model performs very well\n",
      "At random_state:- 954\n",
      "Training r2_score is:- 81.77874186550976\n",
      "Testing r2_score is:- 81.89655172413794\n",
      "\n",
      "\n",
      "At random state 960  The model performs very well\n",
      "At random_state:- 960\n",
      "Training r2_score is:- 81.99566160520607\n",
      "Testing r2_score is:- 81.89655172413794\n",
      "\n",
      "\n",
      "At random state 962  The model performs very well\n",
      "At random_state:- 962\n",
      "Training r2_score is:- 81.77874186550976\n",
      "Testing r2_score is:- 81.89655172413794\n",
      "\n",
      "\n",
      "At random state 981  The model performs very well\n",
      "At random_state:- 981\n",
      "Training r2_score is:- 81.99566160520607\n",
      "Testing r2_score is:- 81.89655172413794\n",
      "\n",
      "\n",
      "At random state 984  The model performs very well\n",
      "At random_state:- 984\n",
      "Training r2_score is:- 81.99566160520607\n",
      "Testing r2_score is:- 81.89655172413794\n",
      "\n",
      "\n",
      "At random state 991  The model performs very well\n",
      "At random_state:- 991\n",
      "Training r2_score is:- 81.77874186550976\n",
      "Testing r2_score is:- 81.89655172413794\n",
      "\n",
      "\n"
     ]
    }
   ],
   "source": [
    "# Here we are splitting our data in training and testing.\n",
    "for i in range(0,1000):\n",
    "    x_train,x_test,y_train,y_test=train_test_split(x,y,random_state=i,test_size=0.20)\n",
    "    lr.fit(x_train,y_train)\n",
    "    pred_train=lr.predict(x_train)\n",
    "    pred_test=lr.predict(x_test)\n",
    "    if round(accuracy_score(y_train,pred_train)*100)==round(accuracy_score(y_test,pred_test)*100):\n",
    "        print(\"At random state\",i,\" The model performs very well\")\n",
    "        print(\"At random_state:-\",i)\n",
    "        print(\"Training r2_score is:-\", accuracy_score(y_train,pred_train)*100)\n",
    "        print(\"Testing r2_score is:-\", accuracy_score(y_test,pred_test)*100)\n",
    "        print(\"\\n\")"
   ]
  },
  {
   "cell_type": "code",
   "execution_count": 83,
   "id": "82eae001",
   "metadata": {},
   "outputs": [
    {
     "name": "stdout",
     "output_type": "stream",
     "text": [
      "dtc score: 0.4609846153846152\n",
      "dtc r2_score: 0.11309334182860786\n",
      "Mean squared error of dtc = 0.20689655172413793\n",
      "Root Mean squared error of dtc = 0.454858826147342\n"
     ]
    }
   ],
   "source": [
    "from sklearn.tree import DecisionTreeRegressor\n",
    "from sklearn.metrics import accuracy_score\n",
    "from sklearn.neighbors import KNeighborsRegressor,RadiusNeighborsRegressor\n",
    "from sklearn.metrics import mean_absolute_error\n",
    "from sklearn.metrics import mean_squared_error\n",
    "from sklearn.metrics import r2_score\n",
    "import numpy as np\n",
    "from sklearn.svm import SVR\n",
    "\n",
    "\n",
    "knr=KNeighborsRegressor()\n",
    "knr.fit(x_train,y_train)\n",
    "print('dtc score:',knr.score(x_train,y_train))\n",
    "\n",
    "knrpredict = knr.predict(x_test)\n",
    "print('dtc r2_score:', r2_score(y_test,knrpredict))\n",
    "\n",
    "print(\"Mean squared error of dtc =\",mean_squared_error(y_test,knrpredict))\n",
    "print(\"Root Mean squared error of dtc =\",np.sqrt(mean_squared_error(y_test,knrpredict)))"
   ]
  },
  {
   "cell_type": "code",
   "execution_count": 84,
   "id": "1a5b83ec",
   "metadata": {},
   "outputs": [
    {
     "name": "stdout",
     "output_type": "stream",
     "text": [
      "dtc score: 1.0\n",
      "dtc r2_score: -0.4042688754380377\n",
      "Mean squared error of dtc = 0.3275862068965517\n",
      "Root Mean squared error of dtc = 0.572351471472339\n"
     ]
    }
   ],
   "source": [
    "dtc = DecisionTreeRegressor()\n",
    "dtc.fit(x_train,y_train)\n",
    "print('dtc score:',dtc.score(x_train,y_train))\n",
    "\n",
    "dtcpredict = dtc.predict(x_test)\n",
    "print('dtc r2_score:', r2_score(y_test,dtcpredict))\n",
    "\n",
    "print(\"Mean squared error of dtc =\",mean_squared_error(y_test,dtcpredict))\n",
    "print(\"Root Mean squared error of dtc =\",np.sqrt(mean_squared_error(y_test,dtcpredict)))"
   ]
  },
  {
   "cell_type": "code",
   "execution_count": 86,
   "id": "c0a95cb2",
   "metadata": {},
   "outputs": [
    {
     "name": "stdout",
     "output_type": "stream",
     "text": [
      "[0.08 0.81 0.5  0.74 0.78 0.88 0.89 0.91 0.71 0.42 0.82 0.95 0.95 0.83\n",
      " 0.86 0.92 0.74 0.69 0.65 0.79 0.97 0.91 0.83 0.86 0.98 0.9  0.72 0.47\n",
      " 0.02 0.79 0.28 0.61 0.   0.74 0.75 0.87 0.88 0.89 0.9  0.89 0.79 0.9\n",
      " 0.44 0.93 0.99 0.85 0.7  0.03 0.88 0.04 0.   0.95 0.91 0.72 0.95 0.91\n",
      " 0.02 0.68 0.   0.26 0.79 0.71 0.81 0.55 0.26 0.   0.67 0.88 0.82 0.9\n",
      " 0.97 0.   0.75 0.   0.63 0.01 0.85 0.07 0.75 0.9  0.59 0.48 0.97 0.75\n",
      " 0.86 0.77 0.8  0.58 0.95 0.94 0.   0.9  0.81 0.75 0.77 0.97 0.5  0.\n",
      " 0.64 0.82 0.92 0.81 0.86 0.66 0.62 0.66 0.72 0.75 0.76 0.98 0.94 0.89\n",
      " 0.   0.84 0.87 0.96]\n",
      "Rf score: 0.8974984230769231\n",
      "rf r2_score: 0.2829285759796113\n"
     ]
    }
   ],
   "source": [
    "from sklearn.ensemble import RandomForestRegressor\n",
    "\n",
    "rf = RandomForestRegressor(n_estimators=100,random_state=42)\n",
    "#RandomForestClassifier(100)----Default\n",
    "rf.fit(x_train,y_train)\n",
    "predrf=rf.predict(x_test)\n",
    "\n",
    "print(predrf)\n",
    "\n",
    "print('Rf score:',rf.score(x_train,y_train))\n",
    "\n",
    "print('rf r2_score:', r2_score(y_test,predrf))"
   ]
  },
  {
   "cell_type": "code",
   "execution_count": 87,
   "id": "b3bac7a3",
   "metadata": {},
   "outputs": [
    {
     "name": "stdout",
     "output_type": "stream",
     "text": [
      "[0.09090909 0.8287037  0.8287037  0.8287037  0.8287037  0.69230769\n",
      " 0.77272727 0.8287037  0.65217391 0.8287037  0.8287037  0.8287037\n",
      " 0.8287037  0.8287037  0.8287037  0.8287037  0.8287037  0.65217391\n",
      " 0.8287037  0.63636364 0.8287037  0.8287037  0.8287037  0.8287037\n",
      " 0.8287037  0.63636364 0.8287037  0.63636364 0.05882353 0.8287037\n",
      " 0.11111111 0.8287037  0.         0.69230769 0.77272727 0.8287037\n",
      " 0.8287037  0.77272727 0.8287037  0.8287037  0.8287037  0.8287037\n",
      " 0.8287037  0.65217391 0.8287037  0.8287037  0.8287037  0.05882353\n",
      " 0.8287037  0.05882353 0.         0.65217391 0.8287037  0.63636364\n",
      " 0.8287037  0.65217391 0.2        0.8287037  0.         0.22222222\n",
      " 0.8287037  0.65217391 0.63636364 0.09090909 0.05882353 0.05882353\n",
      " 0.8287037  0.8287037  0.65217391 0.63636364 0.8287037  0.\n",
      " 0.8287037  0.         0.65217391 0.         0.8287037  0.09090909\n",
      " 0.65217391 0.8287037  0.65217391 0.63636364 0.65217391 0.8287037\n",
      " 0.63636364 0.63636364 0.63636364 0.8287037  0.65217391 0.8287037\n",
      " 0.         0.65217391 0.8287037  0.77272727 0.8287037  0.8287037\n",
      " 0.8287037  0.         0.65217391 0.8287037  0.8287037  0.8287037\n",
      " 0.8287037  0.63636364 0.8287037  0.77272727 0.8287037  0.8287037\n",
      " 0.8287037  0.65217391 0.8287037  0.63636364 0.         0.8287037\n",
      " 0.65217391 0.77272727]\n",
      "Rf score:  0.33793942266337795\n",
      "ADA r2_score: 0.2193433756517963\n"
     ]
    }
   ],
   "source": [
    "from sklearn.ensemble import AdaBoostRegressor\n",
    "\n",
    "ada = AdaBoostRegressor(n_estimators=50,random_state=42)\n",
    "\n",
    "ada.fit(x_train,y_train)\n",
    "predata=ada.predict(x_test)\n",
    "\n",
    "print(predata)\n",
    "\n",
    "print('Rf score: ',ada.score(x_train,y_train))\n",
    "print('ADA r2_score:', r2_score(y_test,predata))"
   ]
  },
  {
   "cell_type": "code",
   "execution_count": 88,
   "id": "c7e3558e",
   "metadata": {},
   "outputs": [
    {
     "name": "stdout",
     "output_type": "stream",
     "text": [
      "[0.09090909 0.8287037  0.8287037  0.8287037  0.8287037  0.69230769\n",
      " 0.77272727 0.8287037  0.65217391 0.8287037  0.8287037  0.8287037\n",
      " 0.8287037  0.8287037  0.8287037  0.8287037  0.8287037  0.65217391\n",
      " 0.8287037  0.63636364 0.8287037  0.8287037  0.8287037  0.8287037\n",
      " 0.8287037  0.63636364 0.8287037  0.63636364 0.05882353 0.8287037\n",
      " 0.11111111 0.8287037  0.         0.69230769 0.77272727 0.8287037\n",
      " 0.8287037  0.77272727 0.8287037  0.8287037  0.8287037  0.8287037\n",
      " 0.8287037  0.65217391 0.8287037  0.8287037  0.8287037  0.05882353\n",
      " 0.8287037  0.05882353 0.         0.65217391 0.8287037  0.63636364\n",
      " 0.8287037  0.65217391 0.2        0.8287037  0.         0.22222222\n",
      " 0.8287037  0.65217391 0.63636364 0.09090909 0.05882353 0.05882353\n",
      " 0.8287037  0.8287037  0.65217391 0.63636364 0.8287037  0.\n",
      " 0.8287037  0.         0.65217391 0.         0.8287037  0.09090909\n",
      " 0.65217391 0.8287037  0.65217391 0.63636364 0.65217391 0.8287037\n",
      " 0.63636364 0.63636364 0.63636364 0.8287037  0.65217391 0.8287037\n",
      " 0.         0.65217391 0.8287037  0.77272727 0.8287037  0.8287037\n",
      " 0.8287037  0.         0.65217391 0.8287037  0.8287037  0.8287037\n",
      " 0.8287037  0.63636364 0.8287037  0.77272727 0.8287037  0.8287037\n",
      " 0.8287037  0.65217391 0.8287037  0.63636364 0.         0.8287037\n",
      " 0.65217391 0.77272727]\n",
      "Rf score:  0.6639501891998116\n",
      "ADA r2_score: 0.2193433756517963\n"
     ]
    }
   ],
   "source": [
    "from sklearn.ensemble import GradientBoostingRegressor\n",
    "grid = GradientBoostingRegressor()\n",
    "\n",
    "grid.fit(x_train,y_train)\n",
    "predgrid=ada.predict(x_test)\n",
    "\n",
    "print(predgrid)\n",
    "\n",
    "print('Rf score: ',grid.score(x_train,y_train))\n",
    "\n",
    "print('ADA r2_score:', r2_score(y_test,predgrid))"
   ]
  },
  {
   "cell_type": "raw",
   "id": "6800cb2a",
   "metadata": {},
   "source": [
    "All the details of our model which is use in this analysis.and we are including here Training and Testing accuracy also\n",
    "\n",
    "Linear Regression\n",
    "\n",
    "Training r2_score is:- 82.21258134490239\n",
    "Testing r2_score is:- 81.89655172413794\n",
    "\n",
    "    \n",
    "KNeighborsRegressor\n",
    "\n",
    "dtc score: 0.4609846153846152\n",
    "dtc r2_score: 0.11309334182860786\n",
    "\n",
    "    \n",
    "\n",
    "DecisionTreeRegressor()\n",
    "\n",
    "dtc score: 1.0\n",
    "dtc r2_score: -0.4042688754380377\n",
    "    \n",
    "\n",
    "RandomForestRegressor\n",
    "\n",
    "Rf score: 0.8974984230769231\n",
    "rf r2_score: 0.2829285759796113\n",
    "    \n",
    "\n",
    "\n",
    "AdaBoostRegressor\n",
    "\n",
    "Rf score:  0.33793942266337795\n",
    "ADA r2_score: 0.2193433756517963\n",
    "    \n",
    "\n",
    "GradientBoostingRegressor\n",
    "\n",
    "Rf score:  0.6639501891998116\n",
    "ADA r2_score: 0.2193433756517963\n",
    "\n",
    "\n",
    "    \n",
    "we observed in our model analysis the best model is RandomForestRegressor so we will go with RandomForestRegressor and accuracy score are below.\n",
    "\n",
    "RandomForestRegressor\n",
    "\n",
    "Rf score: 0.8974984230769231\n",
    "rf r2_score: 0.2829285759796113\n",
    "\n",
    "\n",
    "\n",
    "OUR BEST MODEL IS RandomForestRegressor."
   ]
  },
  {
   "cell_type": "code",
   "execution_count": 89,
   "id": "867e6379",
   "metadata": {},
   "outputs": [],
   "source": [
    "x_train,x_test,y_train,y_test=train_test_split(x,y,test_size=.20,random_state=141)"
   ]
  },
  {
   "cell_type": "code",
   "execution_count": 90,
   "id": "e604ca92",
   "metadata": {},
   "outputs": [
    {
     "name": "stdout",
     "output_type": "stream",
     "text": [
      "              precision    recall  f1-score   support\n",
      "\n",
      "           0       0.26      0.17      0.20        30\n",
      "           1       0.74      0.84      0.79        86\n",
      "\n",
      "    accuracy                           0.66       116\n",
      "   macro avg       0.50      0.50      0.50       116\n",
      "weighted avg       0.62      0.66      0.64       116\n",
      "\n"
     ]
    }
   ],
   "source": [
    "# Here classification report is showing\n",
    "from sklearn.metrics import classification_report\n",
    "print(classification_report(y_test,pred_test))"
   ]
  },
  {
   "cell_type": "markdown",
   "id": "552e2c9c",
   "metadata": {},
   "source": [
    "# Cross validation score for logistic Regression:"
   ]
  },
  {
   "cell_type": "code",
   "execution_count": 91,
   "id": "3b78c7ba",
   "metadata": {},
   "outputs": [
    {
     "name": "stdout",
     "output_type": "stream",
     "text": [
      "At cv:- 2\n",
      "Cross Validation Score is:- 80.76400903498654\n",
      "Accuracy_score is:- 82.75862068965517\n",
      "\n",
      "\n",
      "At cv:- 3\n",
      "Cross Validation Score is:- 81.45689407023605\n",
      "Accuracy_score is:- 82.75862068965517\n",
      "\n",
      "\n",
      "At cv:- 4\n",
      "Cross Validation Score is:- 81.2823275862069\n",
      "Accuracy_score is:- 82.75862068965517\n",
      "\n",
      "\n",
      "At cv:- 5\n",
      "Cross Validation Score is:- 81.98200899550224\n",
      "Accuracy_score is:- 82.75862068965517\n",
      "\n",
      "\n",
      "At cv:- 6\n",
      "Cross Validation Score is:- 81.79947021764032\n",
      "Accuracy_score is:- 82.75862068965517\n",
      "\n",
      "\n",
      "At cv:- 7\n",
      "Cross Validation Score is:- 81.64434742454138\n",
      "Accuracy_score is:- 82.75862068965517\n",
      "\n",
      "\n",
      "At cv:- 8\n",
      "Cross Validation Score is:- 81.8017503805175\n",
      "Accuracy_score is:- 82.75862068965517\n",
      "\n",
      "\n",
      "At cv:- 9\n",
      "Cross Validation Score is:- 81.80288461538461\n",
      "Accuracy_score is:- 82.75862068965517\n",
      "\n",
      "\n"
     ]
    }
   ],
   "source": [
    "pred_lr = lr.predict(x_test)\n",
    "from sklearn.model_selection import cross_val_score\n",
    "lss = accuracy_score(y_test,pred_lr)\n",
    "for j in range(2,10):\n",
    "    lsscore = cross_val_score(lr,x,y,cv=j)\n",
    "    lsc = lsscore.mean()\n",
    "    print(\"At cv:-\",j)\n",
    "    print(\"Cross Validation Score is:-\",lsc*100 )\n",
    "    print(\"Accuracy_score is:-\",lss*100)\n",
    "    print(\"\\n\")"
   ]
  },
  {
   "cell_type": "markdown",
   "id": "6476ecc2",
   "metadata": {},
   "source": [
    "Here Cross-Validation score and Accuracy-score details are above."
   ]
  },
  {
   "cell_type": "markdown",
   "id": "c992d7c7",
   "metadata": {},
   "source": [
    "Since cross validation score accuracy score are almost same. We are heading with a good approach"
   ]
  },
  {
   "cell_type": "code",
   "execution_count": 92,
   "id": "693f8e73",
   "metadata": {},
   "outputs": [
    {
     "name": "stdout",
     "output_type": "stream",
     "text": [
      "The cv score is:  0.812823275862069 \n",
      "The accuracy score is:  0.8275862068965517\n"
     ]
    }
   ],
   "source": [
    "lsscore_selected = cross_val_score(lr,x,y,cv=4).mean()\n",
    "print(\"The cv score is: \", lsscore_selected,\"\\nThe accuracy score is: \",lss)"
   ]
  },
  {
   "cell_type": "markdown",
   "id": "d83884fc",
   "metadata": {},
   "source": [
    "# The Model with the outliers:"
   ]
  },
  {
   "cell_type": "markdown",
   "id": "4b3e8e8f",
   "metadata": {},
   "source": [
    "# AUC ROC Curve:"
   ]
  },
  {
   "cell_type": "code",
   "execution_count": 93,
   "id": "3a451ea7",
   "metadata": {},
   "outputs": [
    {
     "data": {
      "image/png": "[encoded data removed]",
      "text/plain": [
       "<Figure size 432x288 with 1 Axes>"
      ]
     },
     "metadata": {
      "needs_background": "light"
     },
     "output_type": "display_data"
    }
   ],
   "source": [
    "from sklearn.metrics import roc_curve, auc\n",
    "fpr, tpr, thresholds = roc_curve(pred_test, y_test)\n",
    "roc_auc = auc(fpr, tpr)\n",
    "\n",
    "plt.figure()\n",
    "plt.plot(fpr, tpr, color='darkorange', lw=10, label='Roc curve (area = %0.2f)' %roc_auc)\n",
    "plt.plot([0, 1], [0, 1], color='navy',lw=10, linestyle='--')\n",
    "plt.xlim([0.0, 1.0])\n",
    "plt.ylim([0.0, 1.05])\n",
    "plt.xlabel('False Positive Rate')\n",
    "plt.ylabel('True Positive Rate')\n",
    "plt.title('Receiver operating characteristic')\n",
    "plt.legend(loc=\"lower right\")\n",
    "plt.show()"
   ]
  },
  {
   "cell_type": "markdown",
   "id": "e1b0fbfa",
   "metadata": {},
   "source": [
    "# Since the model without outliers performs well!! We will select that dataframe."
   ]
  },
  {
   "cell_type": "markdown",
   "id": "b94ab5b6",
   "metadata": {},
   "source": [
    "# Model Saving:"
   ]
  },
  {
   "cell_type": "code",
   "execution_count": 94,
   "id": "6bfcf6ca",
   "metadata": {},
   "outputs": [],
   "source": [
    "import pickle\n",
    "filename = 'Loan Application Status Prediction'\n",
    "pickle.dump(lr, open(filename, 'wb'))"
   ]
  },
  {
   "cell_type": "markdown",
   "id": "ebebff77",
   "metadata": {},
   "source": [
    "# Conclusion:"
   ]
  },
  {
   "cell_type": "code",
   "execution_count": 95,
   "id": "11fadcd5",
   "metadata": {},
   "outputs": [
    {
     "data": {
      "text/html": [
       "<div>\n",
       "<style scoped>\n",
       "    .dataframe tbody tr th:only-of-type {\n",
       "        vertical-align: middle;\n",
       "    }\n",
       "\n",
       "    .dataframe tbody tr th {\n",
       "        vertical-align: top;\n",
       "    }\n",
       "\n",
       "    .dataframe thead th {\n",
       "        text-align: right;\n",
       "    }\n",
       "</style>\n",
       "<table border=\"1\" class=\"dataframe\">\n",
       "  <thead>\n",
       "    <tr style=\"text-align: right;\">\n",
       "      <th></th>\n",
       "      <th>original</th>\n",
       "      <th>predicted</th>\n",
       "    </tr>\n",
       "  </thead>\n",
       "  <tbody>\n",
       "    <tr>\n",
       "      <th>0</th>\n",
       "      <td>0</td>\n",
       "      <td>1</td>\n",
       "    </tr>\n",
       "    <tr>\n",
       "      <th>1</th>\n",
       "      <td>1</td>\n",
       "      <td>1</td>\n",
       "    </tr>\n",
       "    <tr>\n",
       "      <th>2</th>\n",
       "      <td>0</td>\n",
       "      <td>0</td>\n",
       "    </tr>\n",
       "    <tr>\n",
       "      <th>3</th>\n",
       "      <td>1</td>\n",
       "      <td>1</td>\n",
       "    </tr>\n",
       "    <tr>\n",
       "      <th>4</th>\n",
       "      <td>0</td>\n",
       "      <td>0</td>\n",
       "    </tr>\n",
       "    <tr>\n",
       "      <th>...</th>\n",
       "      <td>...</td>\n",
       "      <td>...</td>\n",
       "    </tr>\n",
       "    <tr>\n",
       "      <th>111</th>\n",
       "      <td>0</td>\n",
       "      <td>1</td>\n",
       "    </tr>\n",
       "    <tr>\n",
       "      <th>112</th>\n",
       "      <td>1</td>\n",
       "      <td>1</td>\n",
       "    </tr>\n",
       "    <tr>\n",
       "      <th>113</th>\n",
       "      <td>1</td>\n",
       "      <td>1</td>\n",
       "    </tr>\n",
       "    <tr>\n",
       "      <th>114</th>\n",
       "      <td>0</td>\n",
       "      <td>1</td>\n",
       "    </tr>\n",
       "    <tr>\n",
       "      <th>115</th>\n",
       "      <td>1</td>\n",
       "      <td>1</td>\n",
       "    </tr>\n",
       "  </tbody>\n",
       "</table>\n",
       "<p>116 rows × 2 columns</p>\n",
       "</div>"
      ],
      "text/plain": [
       "     original  predicted\n",
       "0           0          1\n",
       "1           1          1\n",
       "2           0          0\n",
       "3           1          1\n",
       "4           0          0\n",
       "..        ...        ...\n",
       "111         0          1\n",
       "112         1          1\n",
       "113         1          1\n",
       "114         0          1\n",
       "115         1          1\n",
       "\n",
       "[116 rows x 2 columns]"
      ]
     },
     "execution_count": 95,
     "metadata": {},
     "output_type": "execute_result"
    }
   ],
   "source": [
    "import numpy as np\n",
    "a=np.array(y_test)\n",
    "predicted=np.array(lr.predict(x_test))\n",
    "df_com=pd.DataFrame({\"original\":a,\"predicted\":predicted}, index= range(len(a)))\n",
    "df_com"
   ]
  },
  {
   "cell_type": "code",
   "execution_count": null,
   "id": "8d74d8cc",
   "metadata": {},
   "outputs": [],
   "source": []
  },
  {
   "cell_type": "code",
   "execution_count": null,
   "id": "a655d2ec",
   "metadata": {},
   "outputs": [],
   "source": []
  },
  {
   "cell_type": "code",
   "execution_count": null,
   "id": "d4c4e53f",
   "metadata": {},
   "outputs": [],
   "source": []
  }
 ],
 "metadata": {
  "kernelspec": {
   "display_name": "Python 3",
   "language": "python",
   "name": "python3"
  },
  "language_info": {
   "codemirror_mode": {
    "name": "ipython",
    "version": 3
   },
   "file_extension": ".py",
   "mimetype": "text/x-python",
   "name": "python",
   "nbconvert_exporter": "python",
   "pygments_lexer": "ipython3",
   "version": "3.8.8"
  }
 },
 "nbformat": 4,
 "nbformat_minor": 5
}
