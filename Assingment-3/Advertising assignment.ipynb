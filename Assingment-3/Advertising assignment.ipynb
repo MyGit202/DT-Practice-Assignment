{
 "cells": [
  {
   "cell_type": "code",
   "execution_count": 1,
   "metadata": {},
   "outputs": [],
   "source": [
    "import pandas as pd\n",
    "import numpy as np\n",
    "import matplotlib.pyplot as plt\n",
    "import seaborn as sns"
   ]
  },
  {
   "cell_type": "code",
   "execution_count": 2,
   "metadata": {},
   "outputs": [
    {
     "data": {
      "text/html": [
       "<div>\n",
       "<style scoped>\n",
       "    .dataframe tbody tr th:only-of-type {\n",
       "        vertical-align: middle;\n",
       "    }\n",
       "\n",
       "    .dataframe tbody tr th {\n",
       "        vertical-align: top;\n",
       "    }\n",
       "\n",
       "    .dataframe thead th {\n",
       "        text-align: right;\n",
       "    }\n",
       "</style>\n",
       "<table border=\"1\" class=\"dataframe\">\n",
       "  <thead>\n",
       "    <tr style=\"text-align: right;\">\n",
       "      <th></th>\n",
       "      <th>Unnamed: 0</th>\n",
       "      <th>TV</th>\n",
       "      <th>radio</th>\n",
       "      <th>newspaper</th>\n",
       "      <th>sales</th>\n",
       "    </tr>\n",
       "  </thead>\n",
       "  <tbody>\n",
       "    <tr>\n",
       "      <th>0</th>\n",
       "      <td>1</td>\n",
       "      <td>230.1</td>\n",
       "      <td>37.8</td>\n",
       "      <td>69.2</td>\n",
       "      <td>22.1</td>\n",
       "    </tr>\n",
       "    <tr>\n",
       "      <th>1</th>\n",
       "      <td>2</td>\n",
       "      <td>44.5</td>\n",
       "      <td>39.3</td>\n",
       "      <td>45.1</td>\n",
       "      <td>10.4</td>\n",
       "    </tr>\n",
       "    <tr>\n",
       "      <th>2</th>\n",
       "      <td>3</td>\n",
       "      <td>17.2</td>\n",
       "      <td>45.9</td>\n",
       "      <td>69.3</td>\n",
       "      <td>9.3</td>\n",
       "    </tr>\n",
       "    <tr>\n",
       "      <th>3</th>\n",
       "      <td>4</td>\n",
       "      <td>151.5</td>\n",
       "      <td>41.3</td>\n",
       "      <td>58.5</td>\n",
       "      <td>18.5</td>\n",
       "    </tr>\n",
       "    <tr>\n",
       "      <th>4</th>\n",
       "      <td>5</td>\n",
       "      <td>180.8</td>\n",
       "      <td>10.8</td>\n",
       "      <td>58.4</td>\n",
       "      <td>12.9</td>\n",
       "    </tr>\n",
       "    <tr>\n",
       "      <th>...</th>\n",
       "      <td>...</td>\n",
       "      <td>...</td>\n",
       "      <td>...</td>\n",
       "      <td>...</td>\n",
       "      <td>...</td>\n",
       "    </tr>\n",
       "    <tr>\n",
       "      <th>195</th>\n",
       "      <td>196</td>\n",
       "      <td>38.2</td>\n",
       "      <td>3.7</td>\n",
       "      <td>13.8</td>\n",
       "      <td>7.6</td>\n",
       "    </tr>\n",
       "    <tr>\n",
       "      <th>196</th>\n",
       "      <td>197</td>\n",
       "      <td>94.2</td>\n",
       "      <td>4.9</td>\n",
       "      <td>8.1</td>\n",
       "      <td>9.7</td>\n",
       "    </tr>\n",
       "    <tr>\n",
       "      <th>197</th>\n",
       "      <td>198</td>\n",
       "      <td>177.0</td>\n",
       "      <td>9.3</td>\n",
       "      <td>6.4</td>\n",
       "      <td>12.8</td>\n",
       "    </tr>\n",
       "    <tr>\n",
       "      <th>198</th>\n",
       "      <td>199</td>\n",
       "      <td>283.6</td>\n",
       "      <td>42.0</td>\n",
       "      <td>66.2</td>\n",
       "      <td>25.5</td>\n",
       "    </tr>\n",
       "    <tr>\n",
       "      <th>199</th>\n",
       "      <td>200</td>\n",
       "      <td>232.1</td>\n",
       "      <td>8.6</td>\n",
       "      <td>8.7</td>\n",
       "      <td>13.4</td>\n",
       "    </tr>\n",
       "  </tbody>\n",
       "</table>\n",
       "<p>200 rows × 5 columns</p>\n",
       "</div>"
      ],
      "text/plain": [
       "     Unnamed: 0     TV  radio  newspaper  sales\n",
       "0             1  230.1   37.8       69.2   22.1\n",
       "1             2   44.5   39.3       45.1   10.4\n",
       "2             3   17.2   45.9       69.3    9.3\n",
       "3             4  151.5   41.3       58.5   18.5\n",
       "4             5  180.8   10.8       58.4   12.9\n",
       "..          ...    ...    ...        ...    ...\n",
       "195         196   38.2    3.7       13.8    7.6\n",
       "196         197   94.2    4.9        8.1    9.7\n",
       "197         198  177.0    9.3        6.4   12.8\n",
       "198         199  283.6   42.0       66.2   25.5\n",
       "199         200  232.1    8.6        8.7   13.4\n",
       "\n",
       "[200 rows x 5 columns]"
      ]
     },
     "execution_count": 2,
     "metadata": {},
     "output_type": "execute_result"
    }
   ],
   "source": [
    "# loading to data\n",
    "df=pd.read_csv(\"Advertising.csv\")\n",
    "df"
   ]
  },
  {
   "cell_type": "code",
   "execution_count": 3,
   "metadata": {},
   "outputs": [
    {
     "name": "stdout",
     "output_type": "stream",
     "text": [
      "<class 'pandas.core.frame.DataFrame'>\n",
      "RangeIndex: 200 entries, 0 to 199\n",
      "Data columns (total 5 columns):\n",
      " #   Column      Non-Null Count  Dtype  \n",
      "---  ------      --------------  -----  \n",
      " 0   Unnamed: 0  200 non-null    int64  \n",
      " 1   TV          200 non-null    float64\n",
      " 2   radio       200 non-null    float64\n",
      " 3   newspaper   200 non-null    float64\n",
      " 4   sales       200 non-null    float64\n",
      "dtypes: float64(4), int64(1)\n",
      "memory usage: 7.9 KB\n"
     ]
    }
   ],
   "source": [
    "df.info()"
   ]
  },
  {
   "cell_type": "code",
   "execution_count": 4,
   "metadata": {},
   "outputs": [
    {
     "data": {
      "text/plain": [
       "Unnamed: 0    0\n",
       "TV            0\n",
       "radio         0\n",
       "newspaper     0\n",
       "sales         0\n",
       "dtype: int64"
      ]
     },
     "execution_count": 4,
     "metadata": {},
     "output_type": "execute_result"
    }
   ],
   "source": [
    "# check to null value\n",
    "df.isnull().sum()"
   ]
  },
  {
   "cell_type": "markdown",
   "metadata": {},
   "source": [
    "There is no null value hence go for EDA part"
   ]
  },
  {
   "cell_type": "markdown",
   "metadata": {},
   "source": [
    "in this data i will consider of x and y value so (x=TV,radio,newspaper) and (y=sales),not work on unnamed value because this data is not impacting on this analysis"
   ]
  },
  {
   "cell_type": "code",
   "execution_count": 8,
   "metadata": {},
   "outputs": [
    {
     "data": {
      "text/plain": [
       "<AxesSubplot:xlabel='TV', ylabel='sales'>"
      ]
     },
     "execution_count": 8,
     "metadata": {},
     "output_type": "execute_result"
    },
    {
     "data": {
      "image/png": "[encoded data removed]",
      "text/plain": [
       "<Figure size 432x288 with 1 Axes>"
      ]
     },
     "metadata": {
      "needs_background": "light"
     },
     "output_type": "display_data"
    }
   ],
   "source": [
    "# we will use scatter plot to check the density of data\n",
    "import seaborn as sns\n",
    "sns.scatterplot(x='TV',y='sales',data=df)"
   ]
  },
  {
   "cell_type": "code",
   "execution_count": 10,
   "metadata": {},
   "outputs": [
    {
     "data": {
      "text/plain": [
       "<AxesSubplot:xlabel='radio', ylabel='sales'>"
      ]
     },
     "execution_count": 10,
     "metadata": {},
     "output_type": "execute_result"
    },
    {
     "data": {
      "image/png": "[encoded data removed]",
      "text/plain": [
       "<Figure size 432x288 with 1 Axes>"
      ]
     },
     "metadata": {
      "needs_background": "light"
     },
     "output_type": "display_data"
    }
   ],
   "source": [
    "sns.scatterplot(x='radio',y='sales',data=df)"
   ]
  },
  {
   "cell_type": "code",
   "execution_count": 11,
   "metadata": {},
   "outputs": [
    {
     "data": {
      "text/plain": [
       "<AxesSubplot:xlabel='newspaper', ylabel='sales'>"
      ]
     },
     "execution_count": 11,
     "metadata": {},
     "output_type": "execute_result"
    },
    {
     "data": {
      "image/png": "[encoded data removed]",
      "text/plain": [
       "<Figure size 432x288 with 1 Axes>"
      ]
     },
     "metadata": {
      "needs_background": "light"
     },
     "output_type": "display_data"
    }
   ],
   "source": [
    "sns.scatterplot(x='newspaper',y='sales',data=df)"
   ]
  },
  {
   "cell_type": "markdown",
   "metadata": {},
   "source": [
    "It shows that int he starting the strength is weak but is solidifies with the time and again it loses its strength."
   ]
  },
  {
   "cell_type": "code",
   "execution_count": 13,
   "metadata": {},
   "outputs": [
    {
     "data": {
      "text/html": [
       "<div>\n",
       "<style scoped>\n",
       "    .dataframe tbody tr th:only-of-type {\n",
       "        vertical-align: middle;\n",
       "    }\n",
       "\n",
       "    .dataframe tbody tr th {\n",
       "        vertical-align: top;\n",
       "    }\n",
       "\n",
       "    .dataframe thead th {\n",
       "        text-align: right;\n",
       "    }\n",
       "</style>\n",
       "<table border=\"1\" class=\"dataframe\">\n",
       "  <thead>\n",
       "    <tr style=\"text-align: right;\">\n",
       "      <th></th>\n",
       "      <th>Unnamed: 0</th>\n",
       "      <th>TV</th>\n",
       "      <th>radio</th>\n",
       "      <th>newspaper</th>\n",
       "      <th>sales</th>\n",
       "    </tr>\n",
       "  </thead>\n",
       "  <tbody>\n",
       "    <tr>\n",
       "      <th>Unnamed: 0</th>\n",
       "      <td>1.000000</td>\n",
       "      <td>0.017715</td>\n",
       "      <td>-0.110680</td>\n",
       "      <td>-0.154944</td>\n",
       "      <td>-0.051616</td>\n",
       "    </tr>\n",
       "    <tr>\n",
       "      <th>TV</th>\n",
       "      <td>0.017715</td>\n",
       "      <td>1.000000</td>\n",
       "      <td>0.054809</td>\n",
       "      <td>0.056648</td>\n",
       "      <td>0.782224</td>\n",
       "    </tr>\n",
       "    <tr>\n",
       "      <th>radio</th>\n",
       "      <td>-0.110680</td>\n",
       "      <td>0.054809</td>\n",
       "      <td>1.000000</td>\n",
       "      <td>0.354104</td>\n",
       "      <td>0.576223</td>\n",
       "    </tr>\n",
       "    <tr>\n",
       "      <th>newspaper</th>\n",
       "      <td>-0.154944</td>\n",
       "      <td>0.056648</td>\n",
       "      <td>0.354104</td>\n",
       "      <td>1.000000</td>\n",
       "      <td>0.228299</td>\n",
       "    </tr>\n",
       "    <tr>\n",
       "      <th>sales</th>\n",
       "      <td>-0.051616</td>\n",
       "      <td>0.782224</td>\n",
       "      <td>0.576223</td>\n",
       "      <td>0.228299</td>\n",
       "      <td>1.000000</td>\n",
       "    </tr>\n",
       "  </tbody>\n",
       "</table>\n",
       "</div>"
      ],
      "text/plain": [
       "            Unnamed: 0        TV     radio  newspaper     sales\n",
       "Unnamed: 0    1.000000  0.017715 -0.110680  -0.154944 -0.051616\n",
       "TV            0.017715  1.000000  0.054809   0.056648  0.782224\n",
       "radio        -0.110680  0.054809  1.000000   0.354104  0.576223\n",
       "newspaper    -0.154944  0.056648  0.354104   1.000000  0.228299\n",
       "sales        -0.051616  0.782224  0.576223   0.228299  1.000000"
      ]
     },
     "execution_count": 13,
     "metadata": {},
     "output_type": "execute_result"
    }
   ],
   "source": [
    "# need to check correlation part to check the value of data are be  multicoliniarity or not\n",
    "df.corr()"
   ]
  },
  {
   "cell_type": "code",
   "execution_count": 14,
   "metadata": {},
   "outputs": [
    {
     "data": {
      "text/plain": [
       "<AxesSubplot:>"
      ]
     },
     "execution_count": 14,
     "metadata": {},
     "output_type": "execute_result"
    },
    {
     "data": {
      "image/png": "[encoded data removed]",
      "text/plain": [
       "<Figure size 1080x504 with 2 Axes>"
      ]
     },
     "metadata": {
      "needs_background": "light"
     },
     "output_type": "display_data"
    }
   ],
   "source": [
    "plt.figure(figsize=(15,7))\n",
    "sns.heatmap(df.corr(), annot=True ,linewidths=0.5,linecolor='black',fmt='.2f')"
   ]
  },
  {
   "cell_type": "markdown",
   "metadata": {},
   "source": [
    "# correlation:\n",
    "\n",
    "from the above result it is clear that some columns making positive correlation rather than unnamed column\n",
    "\n",
    "Columns Making Positive Correlation:\n",
    "\n",
    "1:-TV\n",
    "2:-radionewspaper\n",
    "3:-sales\n",
    "\n",
    "Columns Making Negative Correlation:\n",
    "\n",
    "1:-Unnamed\n",
    "\n",
    "The positively correlated columns has a great impact on the target column while the negative correlation has less or zero impact on the target column"
   ]
  },
  {
   "cell_type": "code",
   "execution_count": 17,
   "metadata": {},
   "outputs": [
    {
     "data": {
      "text/html": [
       "<div>\n",
       "<style scoped>\n",
       "    .dataframe tbody tr th:only-of-type {\n",
       "        vertical-align: middle;\n",
       "    }\n",
       "\n",
       "    .dataframe tbody tr th {\n",
       "        vertical-align: top;\n",
       "    }\n",
       "\n",
       "    .dataframe thead th {\n",
       "        text-align: right;\n",
       "    }\n",
       "</style>\n",
       "<table border=\"1\" class=\"dataframe\">\n",
       "  <thead>\n",
       "    <tr style=\"text-align: right;\">\n",
       "      <th></th>\n",
       "      <th>Unnamed: 0</th>\n",
       "      <th>TV</th>\n",
       "      <th>radio</th>\n",
       "      <th>newspaper</th>\n",
       "      <th>sales</th>\n",
       "    </tr>\n",
       "  </thead>\n",
       "  <tbody>\n",
       "    <tr>\n",
       "      <th>count</th>\n",
       "      <td>200.000000</td>\n",
       "      <td>200.000000</td>\n",
       "      <td>200.000000</td>\n",
       "      <td>200.000000</td>\n",
       "      <td>200.000000</td>\n",
       "    </tr>\n",
       "    <tr>\n",
       "      <th>mean</th>\n",
       "      <td>100.500000</td>\n",
       "      <td>147.042500</td>\n",
       "      <td>23.264000</td>\n",
       "      <td>30.554000</td>\n",
       "      <td>14.022500</td>\n",
       "    </tr>\n",
       "    <tr>\n",
       "      <th>std</th>\n",
       "      <td>57.879185</td>\n",
       "      <td>85.854236</td>\n",
       "      <td>14.846809</td>\n",
       "      <td>21.778621</td>\n",
       "      <td>5.217457</td>\n",
       "    </tr>\n",
       "    <tr>\n",
       "      <th>min</th>\n",
       "      <td>1.000000</td>\n",
       "      <td>0.700000</td>\n",
       "      <td>0.000000</td>\n",
       "      <td>0.300000</td>\n",
       "      <td>1.600000</td>\n",
       "    </tr>\n",
       "    <tr>\n",
       "      <th>25%</th>\n",
       "      <td>50.750000</td>\n",
       "      <td>74.375000</td>\n",
       "      <td>9.975000</td>\n",
       "      <td>12.750000</td>\n",
       "      <td>10.375000</td>\n",
       "    </tr>\n",
       "    <tr>\n",
       "      <th>50%</th>\n",
       "      <td>100.500000</td>\n",
       "      <td>149.750000</td>\n",
       "      <td>22.900000</td>\n",
       "      <td>25.750000</td>\n",
       "      <td>12.900000</td>\n",
       "    </tr>\n",
       "    <tr>\n",
       "      <th>75%</th>\n",
       "      <td>150.250000</td>\n",
       "      <td>218.825000</td>\n",
       "      <td>36.525000</td>\n",
       "      <td>45.100000</td>\n",
       "      <td>17.400000</td>\n",
       "    </tr>\n",
       "    <tr>\n",
       "      <th>max</th>\n",
       "      <td>200.000000</td>\n",
       "      <td>296.400000</td>\n",
       "      <td>49.600000</td>\n",
       "      <td>114.000000</td>\n",
       "      <td>27.000000</td>\n",
       "    </tr>\n",
       "  </tbody>\n",
       "</table>\n",
       "</div>"
      ],
      "text/plain": [
       "       Unnamed: 0          TV       radio   newspaper       sales\n",
       "count  200.000000  200.000000  200.000000  200.000000  200.000000\n",
       "mean   100.500000  147.042500   23.264000   30.554000   14.022500\n",
       "std     57.879185   85.854236   14.846809   21.778621    5.217457\n",
       "min      1.000000    0.700000    0.000000    0.300000    1.600000\n",
       "25%     50.750000   74.375000    9.975000   12.750000   10.375000\n",
       "50%    100.500000  149.750000   22.900000   25.750000   12.900000\n",
       "75%    150.250000  218.825000   36.525000   45.100000   17.400000\n",
       "max    200.000000  296.400000   49.600000  114.000000   27.000000"
      ]
     },
     "execution_count": 17,
     "metadata": {},
     "output_type": "execute_result"
    }
   ],
   "source": [
    "# we will use describe function to check the stats of our data like mean,std,min,max etc\n",
    "df.describe()"
   ]
  },
  {
   "cell_type": "code",
   "execution_count": 18,
   "metadata": {},
   "outputs": [
    {
     "data": {
      "image/png": "[encoded data removed]",
      "text/plain": [
       "<Figure size 720x576 with 2 Axes>"
      ]
     },
     "metadata": {
      "needs_background": "light"
     },
     "output_type": "display_data"
    }
   ],
   "source": [
    "# check the describe part in heatmap format\n",
    "import matplotlib.pyplot as plt\n",
    "plt.figure(figsize=(10,8))\n",
    "sns.heatmap(round(df.describe()[1:].transpose(),2),linewidth=2,annot=True,fmt=\"f\")\n",
    "plt.xticks(fontsize=18)\n",
    "plt.yticks(fontsize=12)\n",
    "plt.title(\"Advertisingh\")\n",
    "plt.show()"
   ]
  },
  {
   "cell_type": "raw",
   "metadata": {},
   "source": [
    "# Heatmap And Describe Finding\n",
    "from the above plotting we are determining mean, standard deviation, minimum and maximu value of each columns. it helps us further in data cleaning.\n",
    "\n",
    "Total number of rows in the datasets:\n",
    "\n",
    "rows=200\n",
    "columns=5\n",
    "\n",
    "\n",
    "    TV\n",
    "\n",
    "Mean=147.042500\n",
    "std=85.854236\n",
    "Min_value=0.700000\n",
    "Max_value=296.400000\n",
    "\n",
    "\n",
    "    radio\n",
    "\n",
    "Mean=23.264000\n",
    "std=14.846809\n",
    "Min_value=0.000000\n",
    "Max_value=49.600000\n",
    "\n",
    "\n",
    "    newspaper\n",
    "\n",
    "Mean=30.554000\n",
    "std=21.778621\n",
    "Min_value=0.300000\n",
    "Max_value=114.000000\n",
    "\n",
    "\n",
    "   sales\n",
    "\n",
    "Mean=14.022500\n",
    "std=5.217457\n",
    "Min_value=1.600000\n",
    "Max_value=27.000000\n"
   ]
  },
  {
   "cell_type": "markdown",
   "metadata": {},
   "source": [
    "# Now use subplot and distplot to check data are normalised or not"
   ]
  },
  {
   "cell_type": "code",
   "execution_count": 35,
   "metadata": {},
   "outputs": [
    {
     "data": {
      "text/plain": [
       "<AxesSubplot:xlabel='TV', ylabel='Density'>"
      ]
     },
     "execution_count": 35,
     "metadata": {},
     "output_type": "execute_result"
    },
    {
     "data": {
      "image/png": "[encoded data removed]",
      "text/plain": [
       "<Figure size 432x288 with 1 Axes>"
      ]
     },
     "metadata": {
      "needs_background": "light"
     },
     "output_type": "display_data"
    }
   ],
   "source": [
    "#we will check through plotting method for skew data\n",
    "import seaborn as sns\n",
    "import warnings\n",
    "warnings.filterwarnings('ignore')\n",
    "sns.distplot(df['TV'])"
   ]
  },
  {
   "cell_type": "code",
   "execution_count": 32,
   "metadata": {},
   "outputs": [
    {
     "data": {
      "text/plain": [
       "<AxesSubplot:xlabel='radio', ylabel='Density'>"
      ]
     },
     "execution_count": 32,
     "metadata": {},
     "output_type": "execute_result"
    },
    {
     "data": {
      "image/png": "[encoded data removed]",
      "text/plain": [
       "<Figure size 432x288 with 1 Axes>"
      ]
     },
     "metadata": {
      "needs_background": "light"
     },
     "output_type": "display_data"
    }
   ],
   "source": [
    "sns.distplot(df['radio'])"
   ]
  },
  {
   "cell_type": "code",
   "execution_count": 33,
   "metadata": {},
   "outputs": [
    {
     "data": {
      "text/plain": [
       "<AxesSubplot:xlabel='newspaper', ylabel='Density'>"
      ]
     },
     "execution_count": 33,
     "metadata": {},
     "output_type": "execute_result"
    },
    {
     "data": {
      "image/png": "[encoded data removed]",
      "text/plain": [
       "<Figure size 432x288 with 1 Axes>"
      ]
     },
     "metadata": {
      "needs_background": "light"
     },
     "output_type": "display_data"
    }
   ],
   "source": [
    "sns.distplot(df['newspaper'])"
   ]
  },
  {
   "cell_type": "code",
   "execution_count": 34,
   "metadata": {},
   "outputs": [
    {
     "data": {
      "text/plain": [
       "<AxesSubplot:xlabel='sales', ylabel='Density'>"
      ]
     },
     "execution_count": 34,
     "metadata": {},
     "output_type": "execute_result"
    },
    {
     "data": {
      "image/png": "[encoded data removed]",
      "text/plain": [
       "<Figure size 432x288 with 1 Axes>"
      ]
     },
     "metadata": {
      "needs_background": "light"
     },
     "output_type": "display_data"
    }
   ],
   "source": [
    "sns.distplot(df['sales'])"
   ]
  },
  {
   "cell_type": "markdown",
   "metadata": {},
   "source": [
    "Observation:\n",
    "    \n",
    "From the above observation, it is clear to that the data are almost normalized and we should proceed with the data cleaning method"
   ]
  },
  {
   "cell_type": "code",
   "execution_count": 37,
   "metadata": {},
   "outputs": [
    {
     "data": {
      "text/plain": [
       "array([[<AxesSubplot:title={'center':'Unnamed: 0'}>,\n",
       "        <AxesSubplot:title={'center':'TV'}>],\n",
       "       [<AxesSubplot:title={'center':'radio'}>,\n",
       "        <AxesSubplot:title={'center':'newspaper'}>],\n",
       "       [<AxesSubplot:title={'center':'sales'}>, <AxesSubplot:>]],\n",
       "      dtype=object)"
      ]
     },
     "execution_count": 37,
     "metadata": {},
     "output_type": "execute_result"
    },
    {
     "data": {
      "image/png": "[encoded data removed]",
      "text/plain": [
       "<Figure size 1440x1440 with 6 Axes>"
      ]
     },
     "metadata": {
      "needs_background": "light"
     },
     "output_type": "display_data"
    }
   ],
   "source": [
    "df.hist(edgecolor='red',linewidth=1.5,figsize=(20,20))"
   ]
  },
  {
   "cell_type": "code",
   "execution_count": 38,
   "metadata": {},
   "outputs": [
    {
     "data": {
      "text/plain": [
       "Unnamed: 0    0.000000\n",
       "TV           -0.069853\n",
       "radio         0.094175\n",
       "newspaper     0.894720\n",
       "sales         0.407571\n",
       "dtype: float64"
      ]
     },
     "execution_count": 38,
     "metadata": {},
     "output_type": "execute_result"
    }
   ],
   "source": [
    "# here we can check skew of our data\n",
    "df.skew()"
   ]
  },
  {
   "cell_type": "markdown",
   "metadata": {},
   "source": [
    "skewness:\n",
    "from the above observation the columns falls under normal skewness:\n",
    "\n",
    "TV,skewness=-0.069853,radio=0.094175,newspaper=0.894720,sales=0.407571\n",
    "\n",
    "some skewness are present so need to do Data Transformation"
   ]
  },
  {
   "cell_type": "code",
   "execution_count": 39,
   "metadata": {},
   "outputs": [
    {
     "data": {
      "text/plain": [
       "<AxesSubplot:>"
      ]
     },
     "execution_count": 39,
     "metadata": {},
     "output_type": "execute_result"
    },
    {
     "data": {
      "image/png": "[encoded data removed]",
      "text/plain": [
       "<Figure size 432x288 with 1 Axes>"
      ]
     },
     "metadata": {
      "needs_background": "light"
     },
     "output_type": "display_data"
    }
   ],
   "source": [
    "# outliers check\n",
    "df['TV'].plot.box()"
   ]
  },
  {
   "cell_type": "code",
   "execution_count": 40,
   "metadata": {},
   "outputs": [
    {
     "data": {
      "text/plain": [
       "<AxesSubplot:>"
      ]
     },
     "execution_count": 40,
     "metadata": {},
     "output_type": "execute_result"
    },
    {
     "data": {
      "image/png": "[encoded data removed]",
      "text/plain": [
       "<Figure size 432x288 with 1 Axes>"
      ]
     },
     "metadata": {
      "needs_background": "light"
     },
     "output_type": "display_data"
    }
   ],
   "source": [
    "df['radio'].plot.box()"
   ]
  },
  {
   "cell_type": "code",
   "execution_count": 41,
   "metadata": {},
   "outputs": [
    {
     "data": {
      "text/plain": [
       "<AxesSubplot:>"
      ]
     },
     "execution_count": 41,
     "metadata": {},
     "output_type": "execute_result"
    },
    {
     "data": {
      "image/png": "[encoded data removed]",
      "text/plain": [
       "<Figure size 432x288 with 1 Axes>"
      ]
     },
     "metadata": {
      "needs_background": "light"
     },
     "output_type": "display_data"
    }
   ],
   "source": [
    "df['newspaper'].plot.box()"
   ]
  },
  {
   "cell_type": "code",
   "execution_count": 42,
   "metadata": {},
   "outputs": [
    {
     "data": {
      "text/plain": [
       "<AxesSubplot:>"
      ]
     },
     "execution_count": 42,
     "metadata": {},
     "output_type": "execute_result"
    },
    {
     "data": {
      "image/png": "[encoded data removed]",
      "text/plain": [
       "<Figure size 432x288 with 1 Axes>"
      ]
     },
     "metadata": {
      "needs_background": "light"
     },
     "output_type": "display_data"
    }
   ],
   "source": [
    "df['sales'].plot.box()"
   ]
  },
  {
   "cell_type": "markdown",
   "metadata": {},
   "source": [
    "There is no data coming in skewness except newpaper."
   ]
  },
  {
   "cell_type": "markdown",
   "metadata": {},
   "source": [
    "# Removing outliers\n",
    "\n",
    "Z-Score Technique"
   ]
  },
  {
   "cell_type": "code",
   "execution_count": 45,
   "metadata": {},
   "outputs": [
    {
     "data": {
      "text/plain": [
       "array([[1.72341210e+00, 9.69852266e-01, 9.81522472e-01, 1.77894547e+00,\n",
       "        1.55205313e+00],\n",
       "       [1.70609137e+00, 1.19737623e+00, 1.08280781e+00, 6.69578760e-01,\n",
       "        6.96046111e-01],\n",
       "       [1.68877065e+00, 1.51615499e+00, 1.52846331e+00, 1.78354865e+00,\n",
       "        9.07405869e-01],\n",
       "       [1.67144992e+00, 5.20496822e-02, 1.21785493e+00, 1.28640506e+00,\n",
       "        8.60330287e-01],\n",
       "       [1.65412920e+00, 3.94182198e-01, 8.41613655e-01, 1.28180188e+00,\n",
       "        2.15683025e-01],\n",
       "       [1.63680847e+00, 1.61540845e+00, 1.73103399e+00, 2.04592999e+00,\n",
       "        1.31091086e+00],\n",
       "       [1.61948775e+00, 1.04557682e+00, 6.43904671e-01, 3.24708413e-01,\n",
       "        4.27042783e-01],\n",
       "       [1.60216702e+00, 3.13436589e-01, 2.47406325e-01, 8.72486994e-01,\n",
       "        1.58039455e-01],\n",
       "       [1.58484630e+00, 1.61657614e+00, 1.42906863e+00, 1.36042422e+00,\n",
       "        1.77205942e+00],\n",
       "       [1.56752558e+00, 6.16042873e-01, 1.39530685e+00, 4.30581584e-01,\n",
       "        6.57617064e-01],\n",
       "       [1.55020485e+00, 9.45155670e-01, 1.17923146e+00, 2.92486143e-01,\n",
       "        1.04190753e+00],\n",
       "       [1.53288413e+00, 7.90028350e-01, 4.96973404e-02, 1.22232878e+00,\n",
       "        6.48970529e-01],\n",
       "       [1.51556340e+00, 1.43908760e+00, 7.99208859e-01, 1.62704048e+00,\n",
       "        9.26620392e-01],\n",
       "       [1.49824268e+00, 5.78501712e-01, 1.05768905e+00, 1.07502697e+00,\n",
       "        8.30547775e-01],\n",
       "       [1.48092195e+00, 6.66253447e-01, 6.50657027e-01, 7.11007392e-01,\n",
       "        9.56402904e-01],\n",
       "       [1.46360123e+00, 5.64664612e-01, 1.65000572e+00, 1.02862691e+00,\n",
       "        1.60969670e+00],\n",
       "       [1.44628050e+00, 9.25304978e-01, 9.00494200e-01, 3.84117072e+00,\n",
       "        2.92541119e-01],\n",
       "       [1.42895978e+00, 1.56887609e+00, 1.10306488e+00, 1.16211917e+00,\n",
       "        1.99398717e+00],\n",
       "       [1.41163905e+00, 9.08957349e-01, 1.86635121e-01, 5.64073843e-01,\n",
       "        5.23115400e-01],\n",
       "       [1.39431833e+00, 3.00679600e-03, 4.29449843e-02, 5.27248393e-01,\n",
       "        1.10963873e-01],\n",
       "       [1.37699760e+00, 8.33232798e-01, 2.99534513e-01, 1.05164281e+00,\n",
       "        7.64257669e-01],\n",
       "       [1.35967688e+00, 1.05509347e+00, 1.22649795e+00, 3.24708413e-01,\n",
       "        2.92541119e-01],\n",
       "       [1.34235616e+00, 1.56286250e+00, 4.97243498e-01, 8.76721921e-01,\n",
       "        1.61834324e+00],\n",
       "       [1.32503543e+00, 9.48833887e-01, 4.29719938e-01, 2.00422516e-01,\n",
       "        2.83894584e-01],\n",
       "       [1.30771471e+00, 9.89527805e-01, 7.20071247e-01, 5.64073843e-01,\n",
       "        8.30547775e-01],\n",
       "       [1.29039398e+00, 1.35285385e+00, 1.33453565e+00, 5.08835667e-01,\n",
       "        3.88613736e-01],\n",
       "       [1.27307326e+00, 4.83714657e-02, 4.07572210e-01, 8.26455181e-01,\n",
       "        1.87821967e-01],\n",
       "       [1.25575253e+00, 1.08662104e+00, 4.43224650e-01, 3.52327501e-01,\n",
       "        3.60752677e-01],\n",
       "       [1.23843181e+00, 1.18820988e+00, 2.59020377e-01, 3.52327501e-01,\n",
       "        9.37188380e-01],\n",
       "       [1.22111108e+00, 8.92609721e-01, 4.90491142e-01, 4.71641962e-01,\n",
       "        6.76831588e-01],\n",
       "       [1.20379036e+00, 1.70316018e+00, 3.40048650e-01, 5.82118314e-01,\n",
       "        1.41755147e+00],\n",
       "       [1.18646963e+00, 3.98677796e-01, 3.95958157e-01, 3.70371972e-01,\n",
       "        4.07828260e-01],\n",
       "       [1.16914891e+00, 5.82004775e-01, 1.46958277e+00, 2.55016247e-02,\n",
       "        8.49762299e-01],\n",
       "       [1.15182818e+00, 1.38438142e+00, 2.20396901e-01, 1.39264649e+00,\n",
       "        6.48970529e-01],\n",
       "       [1.13450746e+00, 5.99520091e-01, 1.47633512e+00, 1.06582061e+00,\n",
       "        8.68976822e-01],\n",
       "       [1.11718674e+00, 1.67747105e+00, 1.29402151e+00, 1.01518562e+00,\n",
       "        2.34897549e-01],\n",
       "       [1.09986601e+00, 1.39956136e+00, 1.38666383e+00, 1.17629696e+00,\n",
       "        2.18613240e+00],\n",
       "       [1.08254529e+00, 8.44734522e-01, 1.76479577e+00, 6.97197848e-01,\n",
       "        1.30178396e-01],\n",
       "       [1.06522456e+00, 1.21372386e+00, 2.32010953e-01, 2.09260624e-01,\n",
       "        7.53689682e-01],\n",
       "       [1.04790384e+00, 9.45330823e-01, 9.74770116e-01, 6.65620024e-02,\n",
       "        1.43676599e+00],\n",
       "       [1.03058311e+00, 6.47570443e-01, 6.50927121e-02, 4.81492770e-02,\n",
       "        4.95254341e-01],\n",
       "       [1.01326239e+00, 3.49810063e-01, 6.84418807e-01, 3.74975153e-01,\n",
       "        5.91326959e-01],\n",
       "       [9.95941664e-01, 1.71133400e+00, 2.99534513e-01, 1.32359877e+00,\n",
       "        1.28304980e+00],\n",
       "       [9.78620939e-01, 6.98948705e-01, 1.00367020e+00, 1.91216154e-01,\n",
       "        2.15683025e-01],\n",
       "       [9.61300215e-01, 1.42390765e+00, 1.64487393e-01, 5.86721496e-01,\n",
       "        1.06112206e+00],\n",
       "       [9.43979490e-01, 3.27623995e-01, 5.15880000e-02, 4.35460956e-02,\n",
       "        1.68607443e-01],\n",
       "       [9.26658765e-01, 6.69581357e-01, 9.02384859e-01, 2.36879713e-01,\n",
       "        6.57617064e-01],\n",
       "       [9.09338041e-01, 1.08428567e+00, 1.23135965e+00, 5.54867481e-01,\n",
       "        1.76341289e+00],\n",
       "       [8.92017316e-01, 9.35989321e-01, 5.03995854e-01, 8.90531465e-01,\n",
       "        1.49392920e-01],\n",
       "       [8.74696592e-01, 9.35814168e-01, 7.80842451e-01, 2.87514708e-01,\n",
       "        8.30547775e-01],\n",
       "       [8.57375867e-01, 6.16042873e-01, 1.36154507e+00, 1.86244718e-01,\n",
       "        5.03900877e-01],\n",
       "       [8.40055142e-01, 5.44638766e-01, 9.22641928e-01, 1.24074150e+00,\n",
       "        6.38402541e-01],\n",
       "       [8.22734418e-01, 8.09879042e-01, 1.24486436e+00, 4.16403786e-01,\n",
       "        1.64812575e+00],\n",
       "       [8.05413693e-01, 4.15200577e-01, 1.54872038e+00, 1.29561142e+00,\n",
       "        1.37912242e+00],\n",
       "       [7.88092969e-01, 1.35051848e+00, 3.73810430e-01, 6.74550196e-01,\n",
       "        1.18697718e+00],\n",
       "       [7.70772244e-01, 6.05533683e-01, 1.76479577e+00, 1.35545278e+00,\n",
       "        1.85948550e+00],\n",
       "       [7.53451519e-01, 1.63175608e+00, 3.26543937e-01, 4.99261050e-01,\n",
       "        1.63755776e+00],\n",
       "       [7.36130795e-01, 1.26606546e-01, 2.74415749e-01, 6.42327927e-01,\n",
       "        1.58039455e-01],\n",
       "       [7.18810070e-01, 7.44488528e-01, 1.77830048e+00, 3.28943340e-01,\n",
       "        1.87870003e+00],\n",
       "       [7.01489346e-01, 7.43320840e-01, 4.21076922e-01, 9.78360166e-01,\n",
       "        8.41115763e-01],\n",
       "       [6.84168621e-01, 1.09228433e+00, 1.43582099e+00, 4.21375221e-01,\n",
       "        1.13798015e+00],\n",
       "       [6.66847897e-01, 1.33417085e+00, 1.31238792e+00, 1.11148417e+00,\n",
       "        1.95555812e+00],\n",
       "       [6.49527172e-01, 1.07727954e+00, 5.24252922e-01, 1.49787521e-01,\n",
       "        3.22323631e-01],\n",
       "       [6.32206447e-01, 5.17781948e-01, 4.27829278e-01, 1.01978880e+00,\n",
       "        4.32326777e-03],\n",
       "       [6.14885723e-01, 1.86158622e-01, 1.31914027e+00, 7.61366196e-02,\n",
       "        7.64257669e-01],\n",
       "       [5.97564998e-01, 9.11292725e-01, 9.42898996e-01, 1.36502740e+00,\n",
       "        9.07405869e-01],\n",
       "       [5.80244274e-01, 1.34917564e+00, 9.02114765e-02, 1.30518604e+00,\n",
       "        8.68976822e-01],\n",
       "       [5.62923549e-01, 9.04082253e-02, 5.91776482e-01, 9.36931533e-01,\n",
       "        1.19610408e-01],\n",
       "       [5.45602824e-01, 1.05509347e+00, 2.86029801e-01, 9.00106083e-01,\n",
       "        9.37188380e-01],\n",
       "       [5.28282100e-01, 8.14549794e-01, 1.39341619e+00, 1.54390703e-01,\n",
       "        1.59048218e+00],\n",
       "       [5.10961375e-01, 6.07869059e-01, 4.95352838e-01, 3.74975153e-01,\n",
       "        8.21901240e-01],\n",
       "       [4.93640651e-01, 4.34876116e-01, 6.05281194e-01, 5.27524584e-02,\n",
       "        3.11755643e-01],\n",
       "       [4.76319926e-01, 1.40405696e+00, 6.57409383e-01, 5.18042030e-01,\n",
       "        1.00347849e+00],\n",
       "       [4.58999202e-01, 2.06009314e-01, 1.18598381e+00, 3.43397329e-02,\n",
       "        5.80758971e-01],\n",
       "       [4.41678477e-01, 7.74848409e-01, 9.02114765e-02, 8.03439274e-01,\n",
       "        5.72112435e-01],\n",
       "       [4.24357752e-01, 1.51965805e+00, 1.37991148e+00, 2.70878810e+00,\n",
       "        1.02269301e+00],\n",
       "       [4.07037028e-01, 1.39588315e+00, 1.46283041e+00, 4.53597491e-01,\n",
       "        1.36855443e+00],\n",
       "       [3.89716303e-01, 3.09933525e-01, 3.53553362e-01, 7.52804279e-01,\n",
       "        3.41057791e-02],\n",
       "       [3.72395579e-01, 1.65394214e+00, 4.48086346e-01, 9.73756984e-01,\n",
       "        1.67598681e+00],\n",
       "       [3.55074854e-01, 3.62479475e-01, 1.05093669e+00, 3.43121138e-01,\n",
       "        5.80758971e-01],\n",
       "       [3.37754129e-01, 8.24883830e-01, 2.32010953e-01, 3.79946589e-01,\n",
       "        4.27042783e-01],\n",
       "       [3.20433405e-01, 1.08311798e+00, 1.29402151e+00, 2.92117889e-01,\n",
       "        3.30970166e-01],\n",
       "       [3.03112680e-01, 8.37728396e-01, 2.00139833e-01, 8.95779092e-02,\n",
       "        5.23115400e-01],\n",
       "       [2.85791956e-01, 9.18298852e-01, 1.43393033e+00, 2.32276531e-01,\n",
       "        8.11813615e-02],\n",
       "       [2.68471231e-01, 7.76016097e-01, 1.33264499e+00, 1.49419267e-01,\n",
       "        1.47519504e+00],\n",
       "       [2.51150506e-01, 5.38975481e-01, 3.28434597e-01, 1.61783412e+00,\n",
       "        2.26251013e-01],\n",
       "       [2.33829782e-01, 8.26051518e-01, 2.86029801e-01, 6.69947015e-01,\n",
       "        3.88613736e-01],\n",
       "       [2.16509057e-01, 4.24366926e-01, 1.17058844e+00, 1.50275459e+00,\n",
       "        3.79967201e-01],\n",
       "       [1.99188333e-01, 6.85928986e-01, 1.50982681e-01, 1.97227908e+00,\n",
       "        2.15683025e-01],\n",
       "       [1.81867608e-01, 4.34876116e-01, 1.65675807e+00, 9.59579186e-01,\n",
       "        5.14468865e-01],\n",
       "       [1.64546884e-01, 1.48792614e-01, 1.24000266e+00, 9.78360166e-01,\n",
       "        5.42329924e-01],\n",
       "       [1.47226159e-01, 1.38303858e+00, 1.46958277e+00, 1.12593816e-01,\n",
       "        1.29169634e+00],\n",
       "       [1.29905434e-01, 8.25058983e-01, 6.91171163e-01, 1.30942097e+00,\n",
       "        1.03326100e+00],\n",
       "       [1.12584710e-01, 1.21273132e+00, 8.93741844e-01, 1.92164409e+00,\n",
       "        1.57126765e+00],\n",
       "       [9.52639852e-02, 4.62900623e-01, 6.25538262e-01, 9.04709264e-01,\n",
       "        4.84686354e-01],\n",
       "       [7.79432606e-02, 1.89836839e-01, 5.62876398e-01, 1.02862691e+00,\n",
       "        5.52897912e-01],\n",
       "       [6.06225361e-02, 5.90353742e-01, 1.33453565e+00, 1.13486833e+00,\n",
       "        4.46257307e-01],\n",
       "       [4.33018115e-02, 4.42057396e-01, 1.52873340e-01, 3.93756133e-01,\n",
       "        2.83894584e-01],\n",
       "       [2.59810869e-02, 1.66579418e+00, 1.28537849e+00, 9.50372823e-01,\n",
       "        2.18613240e+00],\n",
       "       [8.66036229e-03, 1.38283424e-01, 1.24486436e+00, 7.06404211e-01,\n",
       "        6.10541482e-01],\n",
       "       [8.66036229e-03, 8.79940308e-01, 1.28051680e+00, 8.85928284e-01,\n",
       "        4.46257307e-01],\n",
       "       [2.59810869e-02, 1.74402926e+00, 8.80237132e-01, 3.23815396e+00,\n",
       "        1.87870003e+00],\n",
       "       [4.33018115e-02, 1.55486384e+00, 8.88880147e-01, 4.21375221e-01,\n",
       "        1.49392920e-01],\n",
       "       [6.06225361e-02, 4.77088029e-01, 4.09462869e-01, 5.82486569e-01,\n",
       "        1.30178396e-01],\n",
       "       [7.79432606e-02, 1.06443498e+00, 7.45190011e-01, 1.16248742e+00,\n",
       "        1.28304980e+00],\n",
       "       [9.52639852e-02, 1.06755854e-01, 1.56222509e+00, 1.30942097e+00,\n",
       "        9.94831951e-01],\n",
       "       [1.12584710e-01, 1.42507534e+00, 8.28108943e-01, 3.93111688e-02,\n",
       "        1.31091086e+00],\n",
       "       [1.29905434e-01, 6.61407543e-01, 1.55061104e+00, 3.38517957e-01,\n",
       "        1.02269301e+00],\n",
       "       [1.47226159e-01, 1.56403019e+00, 1.54385868e+00, 2.28041604e-01,\n",
       "        1.67598681e+00],\n",
       "       [1.64546884e-01, 1.26527727e+00, 2.45515665e-01, 1.15328106e+00,\n",
       "        1.11011909e+00],\n",
       "       [1.81867608e-01, 9.19641692e-01, 1.01717491e+00, 1.19434143e+00,\n",
       "        1.19610408e-01],\n",
       "       [1.99188333e-01, 1.10530405e+00, 9.95027184e-01, 3.38517957e-01,\n",
       "        1.49440956e+00],\n",
       "       [2.16509057e-01, 3.34630122e-01, 5.31005278e-01, 1.29597968e+00,\n",
       "        1.48912557e-02],\n",
       "       [2.33829782e-01, 7.30476274e-01, 1.79882765e-01, 9.13915627e-01,\n",
       "        3.60752677e-01],\n",
       "       [2.51150506e-01, 8.03865450e-01, 1.58923451e+00, 1.81641536e-01,\n",
       "        1.10963873e-01],\n",
       "       [2.68471231e-01, 8.40063771e-01, 7.92456503e-01, 1.01942054e+00,\n",
       "        2.73326596e-01],\n",
       "       [2.85791956e-01, 9.15759131e-02, 6.05281194e-01, 2.28041604e-01,\n",
       "        3.50184689e-01],\n",
       "       [3.03112680e-01, 8.24883830e-01, 1.51684926e+00, 7.25185191e-01,\n",
       "        8.88191346e-01],\n",
       "       [3.20433405e-01, 2.49213762e-01, 9.20751268e-01, 2.23926360e+00,\n",
       "        3.60752677e-01],\n",
       "       [3.37754129e-01, 1.49046586e+00, 4.90491142e-01, 3.79946589e-01,\n",
       "        1.42619800e+00],\n",
       "       [3.55074854e-01, 6.70544700e-02, 2.38763309e-01, 7.20213755e-01,\n",
       "        2.83894584e-01],\n",
       "       [3.72395579e-01, 1.49747198e+00, 1.05606848e-01, 9.13547372e-01,\n",
       "        1.34933991e+00],\n",
       "       [3.89716303e-01, 8.98623313e-01, 1.40881156e+00, 6.88359740e-01,\n",
       "        4.65471830e-01],\n",
       "       [4.07037028e-01, 2.79573643e-01, 7.65447079e-01, 8.35661544e-01,\n",
       "        2.26251013e-01],\n",
       "       [4.24357752e-01, 9.62846140e-01, 6.10142891e-01, 2.00910454e+00,\n",
       "        1.09090457e+00],\n",
       "       [4.41678477e-01, 6.98773552e-01, 7.74090095e-01, 2.14232060e-01,\n",
       "        6.57617064e-01],\n",
       "       [4.58999202e-01, 1.62591764e+00, 1.05579839e+00, 9.22753735e-01,\n",
       "        1.42619800e+00],\n",
       "       [4.76319926e-01, 7.80511695e-01, 1.57086811e+00, 9.82963347e-01,\n",
       "        1.00347849e+00],\n",
       "       [4.93640651e-01, 8.55418865e-01, 1.73778635e+00, 1.25915423e+00,\n",
       "        2.05163074e+00],\n",
       "       [5.10961375e-01, 1.02105537e+00, 7.60585383e-01, 5.77515133e-01,\n",
       "        8.30547775e-01],\n",
       "       [5.28282100e-01, 1.70882347e+00, 1.10306488e+00, 1.00597925e+00,\n",
       "        2.38692417e+00],\n",
       "       [5.45602824e-01, 1.37971067e+00, 1.37504978e+00, 5.72911952e-01,\n",
       "        2.54112072e-01],\n",
       "       [5.62923549e-01, 1.61891151e+00, 2.65772733e-01, 1.30978922e+00,\n",
       "        1.59912871e+00],\n",
       "       [5.80244274e-01, 8.49580427e-01, 6.91171163e-01, 6.69578760e-01,\n",
       "        1.07169004e+00],\n",
       "       [5.97564998e-01, 1.28612050e+00, 1.03554132e+00, 1.61323094e+00,\n",
       "        6.19188018e-01],\n",
       "       [6.14885723e-01, 1.15300409e+00, 1.60273923e+00, 1.01518562e+00,\n",
       "        4.65471830e-01],\n",
       "       [6.32206447e-01, 1.41806922e+00, 1.06255074e+00, 9.78360166e-01,\n",
       "        8.68976822e-01],\n",
       "       [6.49527172e-01, 1.47896413e+00, 3.80562786e-01, 1.34164324e+00,\n",
       "        1.30226433e+00],\n",
       "       [6.66847897e-01, 1.21489154e+00, 1.77992105e-01, 4.62803854e-01,\n",
       "        8.49762299e-01],\n",
       "       [6.84168621e-01, 4.42057396e-01, 1.39341619e+00, 1.32820195e+00,\n",
       "        1.28304980e+00],\n",
       "       [7.01489346e-01, 8.59914463e-01, 4.22967582e-01, 8.12645637e-01,\n",
       "        5.99973494e-01],\n",
       "       [7.18810070e-01, 5.44813920e-01, 8.19465927e-01, 2.07354907e+00,\n",
       "        9.94831951e-01],\n",
       "       [7.36130795e-01, 8.57754241e-01, 6.70914095e-01, 3.38149702e-01,\n",
       "        1.16776266e+00],\n",
       "       [7.53451519e-01, 4.95595880e-01, 1.18598381e+00, 1.77038355e-01,\n",
       "        6.96046111e-01],\n",
       "       [7.70772244e-01, 5.93681653e-01, 5.71519414e-01, 3.84181516e-01,\n",
       "        5.03900877e-01],\n",
       "       [7.88092969e-01, 7.87313476e-02, 1.44257334e+00, 9.92169710e-01,\n",
       "        7.15260635e-01],\n",
       "       [8.05413693e-01, 1.08662104e+00, 1.07794612e+00, 1.00597925e+00,\n",
       "        1.58039455e-01],\n",
       "       [8.22734418e-01, 1.12281936e+00, 1.73778635e+00, 6.32753309e-01,\n",
       "        2.18613240e+00],\n",
       "       [8.40055142e-01, 1.27327593e+00, 1.15033137e+00, 8.58677450e-01,\n",
       "        5.99973494e-01],\n",
       "       [8.57375867e-01, 1.19504085e+00, 1.71239749e-01, 4.58200672e-01,\n",
       "        7.53689682e-01],\n",
       "       [8.74696592e-01, 1.56070228e+00, 6.32290618e-01, 2.96721070e-01,\n",
       "        3.99181724e-01],\n",
       "       [8.92017316e-01, 3.04095087e-01, 1.00367020e+00, 8.35293289e-01,\n",
       "        4.65471830e-01],\n",
       "       [9.09338041e-01, 5.90353742e-01, 2.43084817e-03, 7.52804279e-01,\n",
       "        4.95254341e-01],\n",
       "       [9.26658765e-01, 2.83251860e-01, 1.10981724e+00, 3.28943340e-01,\n",
       "        9.56402904e-01],\n",
       "       [9.43979490e-01, 4.75920341e-01, 1.46120984e-01, 9.69153803e-01,\n",
       "        3.03109107e-01],\n",
       "       [9.61300215e-01, 1.66912209e+00, 7.87594807e-01, 1.14407469e+00,\n",
       "        2.07949180e+00],\n",
       "       [9.78620939e-01, 6.20538471e-01, 1.36640677e+00, 9.18150553e-01,\n",
       "        2.45465537e-01],\n",
       "       [9.95941664e-01, 3.21989902e-02, 1.48308748e+00, 2.87882962e-01,\n",
       "        7.53689682e-01],\n",
       "       [1.01326239e+00, 1.58037782e+00, 9.20751268e-01, 6.74181942e-01,\n",
       "        1.29169634e+00],\n",
       "       [1.03058311e+00, 1.79152496e-01, 3.28434597e-01, 1.86244718e-01,\n",
       "        2.15683025e-01],\n",
       "       [1.04790384e+00, 2.97264113e-01, 3.48691665e-01, 6.72064478e-03,\n",
       "        7.25348259e-02],\n",
       "       [1.06522456e+00, 7.16288868e-01, 8.46475352e-01, 8.62912377e-01,\n",
       "        1.38824932e-01],\n",
       "       [1.08254529e+00, 4.82926468e-01, 3.48691665e-01, 2.28041604e-01,\n",
       "        1.68607443e-01],\n",
       "       [1.09986601e+00, 1.92172214e-01, 9.13998912e-01, 1.06582061e+00,\n",
       "        7.64257669e-01],\n",
       "       [1.11718674e+00, 3.48467222e-01, 5.78271770e-01, 1.15788424e+00,\n",
       "        4.07828260e-01],\n",
       "       [1.13450746e+00, 1.02123053e+00, 1.34128800e+00, 2.49704176e+00,\n",
       "        4.07828260e-01],\n",
       "       [1.15182818e+00, 1.50798117e+00, 9.68017760e-01, 4.12168859e-01,\n",
       "        1.15719467e+00],\n",
       "       [1.16914891e+00, 6.97781017e-01, 1.21974559e+00, 5.13438849e-01,\n",
       "        3.50184689e-01],\n",
       "       [1.18646963e+00, 7.98202165e-01, 2.26879163e-02, 1.24497643e+00,\n",
       "        5.91326959e-01],\n",
       "       [1.20379036e+00, 1.60273904e+00, 8.55118367e-01, 1.11185242e+00,\n",
       "        1.87821967e-01],\n",
       "       [1.22111108e+00, 1.13315340e+00, 7.87594807e-01, 5.59470662e-01,\n",
       "        1.08033658e+00],\n",
       "       [1.23843181e+00, 2.03849092e-01, 1.59625696e-01, 7.75451931e-01,\n",
       "        9.17493494e-02],\n",
       "       [1.25575253e+00, 1.48813048e+00, 2.13644545e-01, 6.23915201e-01,\n",
       "        1.23405277e+00],\n",
       "       [1.27307326e+00, 2.49388915e-01, 1.09145083e+00, 8.17248818e-01,\n",
       "        4.46257307e-01],\n",
       "       [1.29039398e+00, 8.79940308e-01, 1.34128800e+00, 8.03439274e-01,\n",
       "        4.84686354e-01],\n",
       "       [1.30771471e+00, 1.51633014e+00, 1.73103399e+00, 5.17673775e-01,\n",
       "        2.49356478e+00],\n",
       "       [1.32503543e+00, 1.18353913e+00, 4.68343414e-01, 4.72010216e-01,\n",
       "        1.18697718e+00],\n",
       "       [1.34235616e+00, 2.70407294e-01, 1.04418434e+00, 2.13863806e-01,\n",
       "        4.46257307e-01],\n",
       "       [1.35967688e+00, 1.51399477e+00, 1.41556392e+00, 3.15502050e-01,\n",
       "        4.27042783e-01],\n",
       "       [1.37699760e+00, 2.16693657e-01, 8.95632503e-01, 5.96296113e-01,\n",
       "        2.73326596e-01],\n",
       "       [1.39431833e+00, 1.11601758e-01, 1.39530685e+00, 1.02439198e+00,\n",
       "        6.76831588e-01],\n",
       "       [1.41163905e+00, 8.34400486e-01, 1.20624088e+00, 1.45184340e-01,\n",
       "        3.50184689e-01],\n",
       "       [1.42895978e+00, 1.06075676e+00, 1.18598381e+00, 3.93111688e-02,\n",
       "        1.02269301e+00],\n",
       "       [1.44628050e+00, 1.64127273e+00, 1.33264499e+00, 1.89862818e+00,\n",
       "        2.33984859e+00],\n",
       "       [1.46360123e+00, 1.24659427e+00, 1.32616272e-01, 2.55016247e-02,\n",
       "        6.87399576e-01],\n",
       "       [1.48092195e+00, 6.76762637e-01, 1.47444446e+00, 5.04232486e-01,\n",
       "        1.64812575e+00],\n",
       "       [1.49824268e+00, 8.80728498e-02, 1.42906863e+00, 1.82009791e-01,\n",
       "        7.15260635e-01],\n",
       "       [1.51556340e+00, 5.14454038e-01, 3.67058074e-01, 5.68677025e-01,\n",
       "        6.29756005e-01],\n",
       "       [1.53288413e+00, 1.62258973e+00, 6.32290618e-01, 1.23613832e+00,\n",
       "        3.60752677e-01],\n",
       "       [1.55020485e+00, 1.49863967e+00, 7.53833027e-01, 3.29311594e-01,\n",
       "        1.40698348e+00],\n",
       "       [1.56752558e+00, 1.25576062e+00, 1.20435022e+00, 1.13947151e+00,\n",
       "        6.19188018e-01],\n",
       "       [1.58484630e+00, 8.35393020e-01, 8.41613655e-01, 1.13026515e+00,\n",
       "        7.92118728e-01],\n",
       "       [1.60216702e+00, 1.51615499e+00, 1.29402151e+00, 4.81492770e-02,\n",
       "        1.56069967e+00],\n",
       "       [1.61948775e+00, 2.30705910e-01, 1.26512143e+00, 1.24074150e+00,\n",
       "        1.07169004e+00],\n",
       "       [1.63680847e+00, 3.10313024e-02, 8.32970639e-01, 1.13026515e+00,\n",
       "        6.29756005e-01],\n",
       "       [1.65412920e+00, 1.27094056e+00, 1.32103093e+00, 7.71217005e-01,\n",
       "        1.23405277e+00],\n",
       "       [1.67144992e+00, 6.17035408e-01, 1.24000266e+00, 1.03359834e+00,\n",
       "        8.30547775e-01],\n",
       "       [1.68877065e+00, 3.49810063e-01, 9.42898996e-01, 1.11185242e+00,\n",
       "        2.34897549e-01],\n",
       "       [1.70609137e+00, 1.59456522e+00, 1.26512143e+00, 1.64085003e+00,\n",
       "        2.20534693e+00],\n",
       "       [1.72341210e+00, 9.93206022e-01, 9.90165488e-01, 1.00597925e+00,\n",
       "        1.19610408e-01]])"
      ]
     },
     "execution_count": 45,
     "metadata": {},
     "output_type": "execute_result"
    }
   ],
   "source": [
    "# applying zscore\n",
    "from scipy.stats import zscore\n",
    "import numpy as np\n",
    "z=np.abs(zscore(df))\n",
    "z"
   ]
  },
  {
   "cell_type": "code",
   "execution_count": 50,
   "metadata": {},
   "outputs": [
    {
     "data": {
      "text/plain": [
       "(array([ 16, 101], dtype=int64), array([3, 3], dtype=int64))"
      ]
     },
     "execution_count": 50,
     "metadata": {},
     "output_type": "execute_result"
    }
   ],
   "source": [
    "threshold=3\n",
    "np.where(z>3)"
   ]
  },
  {
   "cell_type": "code",
   "execution_count": 52,
   "metadata": {},
   "outputs": [],
   "source": [
    "df=df[(z<3).all(axis=1)]"
   ]
  },
  {
   "cell_type": "code",
   "execution_count": 53,
   "metadata": {},
   "outputs": [
    {
     "data": {
      "text/html": [
       "<div>\n",
       "<style scoped>\n",
       "    .dataframe tbody tr th:only-of-type {\n",
       "        vertical-align: middle;\n",
       "    }\n",
       "\n",
       "    .dataframe tbody tr th {\n",
       "        vertical-align: top;\n",
       "    }\n",
       "\n",
       "    .dataframe thead th {\n",
       "        text-align: right;\n",
       "    }\n",
       "</style>\n",
       "<table border=\"1\" class=\"dataframe\">\n",
       "  <thead>\n",
       "    <tr style=\"text-align: right;\">\n",
       "      <th></th>\n",
       "      <th>Unnamed: 0</th>\n",
       "      <th>TV</th>\n",
       "      <th>radio</th>\n",
       "      <th>newspaper</th>\n",
       "      <th>sales</th>\n",
       "    </tr>\n",
       "  </thead>\n",
       "  <tbody>\n",
       "    <tr>\n",
       "      <th>0</th>\n",
       "      <td>1</td>\n",
       "      <td>230.1</td>\n",
       "      <td>37.8</td>\n",
       "      <td>69.2</td>\n",
       "      <td>22.1</td>\n",
       "    </tr>\n",
       "    <tr>\n",
       "      <th>1</th>\n",
       "      <td>2</td>\n",
       "      <td>44.5</td>\n",
       "      <td>39.3</td>\n",
       "      <td>45.1</td>\n",
       "      <td>10.4</td>\n",
       "    </tr>\n",
       "    <tr>\n",
       "      <th>2</th>\n",
       "      <td>3</td>\n",
       "      <td>17.2</td>\n",
       "      <td>45.9</td>\n",
       "      <td>69.3</td>\n",
       "      <td>9.3</td>\n",
       "    </tr>\n",
       "    <tr>\n",
       "      <th>3</th>\n",
       "      <td>4</td>\n",
       "      <td>151.5</td>\n",
       "      <td>41.3</td>\n",
       "      <td>58.5</td>\n",
       "      <td>18.5</td>\n",
       "    </tr>\n",
       "    <tr>\n",
       "      <th>4</th>\n",
       "      <td>5</td>\n",
       "      <td>180.8</td>\n",
       "      <td>10.8</td>\n",
       "      <td>58.4</td>\n",
       "      <td>12.9</td>\n",
       "    </tr>\n",
       "    <tr>\n",
       "      <th>...</th>\n",
       "      <td>...</td>\n",
       "      <td>...</td>\n",
       "      <td>...</td>\n",
       "      <td>...</td>\n",
       "      <td>...</td>\n",
       "    </tr>\n",
       "    <tr>\n",
       "      <th>195</th>\n",
       "      <td>196</td>\n",
       "      <td>38.2</td>\n",
       "      <td>3.7</td>\n",
       "      <td>13.8</td>\n",
       "      <td>7.6</td>\n",
       "    </tr>\n",
       "    <tr>\n",
       "      <th>196</th>\n",
       "      <td>197</td>\n",
       "      <td>94.2</td>\n",
       "      <td>4.9</td>\n",
       "      <td>8.1</td>\n",
       "      <td>9.7</td>\n",
       "    </tr>\n",
       "    <tr>\n",
       "      <th>197</th>\n",
       "      <td>198</td>\n",
       "      <td>177.0</td>\n",
       "      <td>9.3</td>\n",
       "      <td>6.4</td>\n",
       "      <td>12.8</td>\n",
       "    </tr>\n",
       "    <tr>\n",
       "      <th>198</th>\n",
       "      <td>199</td>\n",
       "      <td>283.6</td>\n",
       "      <td>42.0</td>\n",
       "      <td>66.2</td>\n",
       "      <td>25.5</td>\n",
       "    </tr>\n",
       "    <tr>\n",
       "      <th>199</th>\n",
       "      <td>200</td>\n",
       "      <td>232.1</td>\n",
       "      <td>8.6</td>\n",
       "      <td>8.7</td>\n",
       "      <td>13.4</td>\n",
       "    </tr>\n",
       "  </tbody>\n",
       "</table>\n",
       "<p>198 rows × 5 columns</p>\n",
       "</div>"
      ],
      "text/plain": [
       "     Unnamed: 0     TV  radio  newspaper  sales\n",
       "0             1  230.1   37.8       69.2   22.1\n",
       "1             2   44.5   39.3       45.1   10.4\n",
       "2             3   17.2   45.9       69.3    9.3\n",
       "3             4  151.5   41.3       58.5   18.5\n",
       "4             5  180.8   10.8       58.4   12.9\n",
       "..          ...    ...    ...        ...    ...\n",
       "195         196   38.2    3.7       13.8    7.6\n",
       "196         197   94.2    4.9        8.1    9.7\n",
       "197         198  177.0    9.3        6.4   12.8\n",
       "198         199  283.6   42.0       66.2   25.5\n",
       "199         200  232.1    8.6        8.7   13.4\n",
       "\n",
       "[198 rows x 5 columns]"
      ]
     },
     "execution_count": 53,
     "metadata": {},
     "output_type": "execute_result"
    }
   ],
   "source": [
    "df"
   ]
  },
  {
   "cell_type": "code",
   "execution_count": 54,
   "metadata": {},
   "outputs": [
    {
     "data": {
      "text/plain": [
       "(198, 5)"
      ]
     },
     "execution_count": 54,
     "metadata": {},
     "output_type": "execute_result"
    }
   ],
   "source": [
    "df.shape"
   ]
  },
  {
   "cell_type": "markdown",
   "metadata": {},
   "source": [
    "# Percentage loss of data while removing outliers"
   ]
  },
  {
   "cell_type": "code",
   "execution_count": 55,
   "metadata": {},
   "outputs": [
    {
     "name": "stdout",
     "output_type": "stream",
     "text": [
      "1.0\n"
     ]
    }
   ],
   "source": [
    "percentage_loss = ((200-198)/200)*100\n",
    "print(percentage_loss)"
   ]
  },
  {
   "cell_type": "code",
   "execution_count": 56,
   "metadata": {},
   "outputs": [],
   "source": [
    "x=df.iloc[:,:-1]\n",
    "y=df.iloc[:,-1]"
   ]
  },
  {
   "cell_type": "code",
   "execution_count": 59,
   "metadata": {},
   "outputs": [
    {
     "data": {
      "text/html": [
       "<div>\n",
       "<style scoped>\n",
       "    .dataframe tbody tr th:only-of-type {\n",
       "        vertical-align: middle;\n",
       "    }\n",
       "\n",
       "    .dataframe tbody tr th {\n",
       "        vertical-align: top;\n",
       "    }\n",
       "\n",
       "    .dataframe thead th {\n",
       "        text-align: right;\n",
       "    }\n",
       "</style>\n",
       "<table border=\"1\" class=\"dataframe\">\n",
       "  <thead>\n",
       "    <tr style=\"text-align: right;\">\n",
       "      <th></th>\n",
       "      <th>Unnamed: 0</th>\n",
       "      <th>TV</th>\n",
       "      <th>radio</th>\n",
       "      <th>newspaper</th>\n",
       "    </tr>\n",
       "  </thead>\n",
       "  <tbody>\n",
       "    <tr>\n",
       "      <th>0</th>\n",
       "      <td>1</td>\n",
       "      <td>230.1</td>\n",
       "      <td>37.8</td>\n",
       "      <td>69.2</td>\n",
       "    </tr>\n",
       "    <tr>\n",
       "      <th>1</th>\n",
       "      <td>2</td>\n",
       "      <td>44.5</td>\n",
       "      <td>39.3</td>\n",
       "      <td>45.1</td>\n",
       "    </tr>\n",
       "    <tr>\n",
       "      <th>2</th>\n",
       "      <td>3</td>\n",
       "      <td>17.2</td>\n",
       "      <td>45.9</td>\n",
       "      <td>69.3</td>\n",
       "    </tr>\n",
       "    <tr>\n",
       "      <th>3</th>\n",
       "      <td>4</td>\n",
       "      <td>151.5</td>\n",
       "      <td>41.3</td>\n",
       "      <td>58.5</td>\n",
       "    </tr>\n",
       "    <tr>\n",
       "      <th>4</th>\n",
       "      <td>5</td>\n",
       "      <td>180.8</td>\n",
       "      <td>10.8</td>\n",
       "      <td>58.4</td>\n",
       "    </tr>\n",
       "    <tr>\n",
       "      <th>...</th>\n",
       "      <td>...</td>\n",
       "      <td>...</td>\n",
       "      <td>...</td>\n",
       "      <td>...</td>\n",
       "    </tr>\n",
       "    <tr>\n",
       "      <th>195</th>\n",
       "      <td>196</td>\n",
       "      <td>38.2</td>\n",
       "      <td>3.7</td>\n",
       "      <td>13.8</td>\n",
       "    </tr>\n",
       "    <tr>\n",
       "      <th>196</th>\n",
       "      <td>197</td>\n",
       "      <td>94.2</td>\n",
       "      <td>4.9</td>\n",
       "      <td>8.1</td>\n",
       "    </tr>\n",
       "    <tr>\n",
       "      <th>197</th>\n",
       "      <td>198</td>\n",
       "      <td>177.0</td>\n",
       "      <td>9.3</td>\n",
       "      <td>6.4</td>\n",
       "    </tr>\n",
       "    <tr>\n",
       "      <th>198</th>\n",
       "      <td>199</td>\n",
       "      <td>283.6</td>\n",
       "      <td>42.0</td>\n",
       "      <td>66.2</td>\n",
       "    </tr>\n",
       "    <tr>\n",
       "      <th>199</th>\n",
       "      <td>200</td>\n",
       "      <td>232.1</td>\n",
       "      <td>8.6</td>\n",
       "      <td>8.7</td>\n",
       "    </tr>\n",
       "  </tbody>\n",
       "</table>\n",
       "<p>198 rows × 4 columns</p>\n",
       "</div>"
      ],
      "text/plain": [
       "     Unnamed: 0     TV  radio  newspaper\n",
       "0             1  230.1   37.8       69.2\n",
       "1             2   44.5   39.3       45.1\n",
       "2             3   17.2   45.9       69.3\n",
       "3             4  151.5   41.3       58.5\n",
       "4             5  180.8   10.8       58.4\n",
       "..          ...    ...    ...        ...\n",
       "195         196   38.2    3.7       13.8\n",
       "196         197   94.2    4.9        8.1\n",
       "197         198  177.0    9.3        6.4\n",
       "198         199  283.6   42.0       66.2\n",
       "199         200  232.1    8.6        8.7\n",
       "\n",
       "[198 rows x 4 columns]"
      ]
     },
     "execution_count": 59,
     "metadata": {},
     "output_type": "execute_result"
    }
   ],
   "source": [
    "# need to check the x and y values.\n",
    "x"
   ]
  },
  {
   "cell_type": "code",
   "execution_count": 60,
   "metadata": {},
   "outputs": [
    {
     "data": {
      "text/plain": [
       "0      22.1\n",
       "1      10.4\n",
       "2       9.3\n",
       "3      18.5\n",
       "4      12.9\n",
       "       ... \n",
       "195     7.6\n",
       "196     9.7\n",
       "197    12.8\n",
       "198    25.5\n",
       "199    13.4\n",
       "Name: sales, Length: 198, dtype: float64"
      ]
     },
     "execution_count": 60,
     "metadata": {},
     "output_type": "execute_result"
    }
   ],
   "source": [
    "y"
   ]
  },
  {
   "cell_type": "markdown",
   "metadata": {},
   "source": [
    "# Removing skewness by transforming the data"
   ]
  },
  {
   "cell_type": "code",
   "execution_count": 61,
   "metadata": {},
   "outputs": [],
   "source": [
    "# Removing skewness\n",
    "from sklearn.preprocessing import power_transform\n",
    "x=power_transform(x,method='yeo-johnson')"
   ]
  },
  {
   "cell_type": "code",
   "execution_count": 62,
   "metadata": {},
   "outputs": [
    {
     "data": {
      "text/plain": [
       "array([[-2.08112123,  0.95598306,  0.9691098 ,  1.6041965 ],\n",
       "       [-2.03541299, -1.19200349,  1.04623436,  0.83104401],\n",
       "       [-1.99380721, -1.6461253 ,  1.37296802,  1.60705249],\n",
       "       [-1.95500804,  0.14293428,  1.1473316 ,  1.28376774],\n",
       "       [-1.91830818,  0.45645241, -0.73502642,  1.28062154],\n",
       "       [-1.88326684, -1.8204008 ,  1.51543955,  1.76610727],\n",
       "       [-1.84958541, -1.00349358,  0.70309642, -0.10205346],\n",
       "       [-1.81704952, -0.20996049, -0.0876566 , -0.84968895],\n",
       "       [-1.78549851, -1.82264543, -1.62948287, -2.09866461],\n",
       "       [-1.754808  ,  0.652694  , -1.56152179, -0.22649933],\n",
       "       [-1.72487914, -0.88482761, -1.19258569, -0.06553382],\n",
       "       [-1.69563166,  0.80322028,  0.19357553, -1.59608414],\n",
       "       [-1.66699926, -1.52567125,  0.82725998,  1.50859232],\n",
       "       [-1.63892633, -0.48090308, -1.01613619, -1.23269654],\n",
       "       [-1.61136564,  0.69642374,  0.70856268,  0.86367455],\n",
       "       [-1.58427663,  0.60769456,  1.45886692,  1.1026083 ],\n",
       "       [-1.53137745,  1.44702338,  1.06152278,  1.19771741],\n",
       "       [-1.50550946, -0.84304109, -0.02834315, -0.39458775],\n",
       "       [-1.47999615,  0.09676151,  0.18741189, -0.346834  ],\n",
       "       [-1.45481611,  0.84017479,  0.41523303,  1.11921444],\n",
       "       [-1.42995011,  1.02746612, -1.2660875 , -0.10205346],\n",
       "       [-1.40538082, -1.72466475, -0.3430802 ,  0.99069777],\n",
       "       [-1.38109254,  0.93826742, -0.27204438,  0.0356758 ],\n",
       "       [-1.35707101, -0.93674187, -0.59023588, -0.39458775],\n",
       "       [-1.33330319,  1.27285397, -1.44792482, -0.32336998],\n",
       "       [-1.30977716,  0.04802388,  0.50756488, -0.7740548 ],\n",
       "       [-1.28648194,  1.05376032, -0.28612399, -0.13384051],\n",
       "       [-1.26340742,  1.13797152,  0.38008881, -0.13384051],\n",
       "       [-1.24054425, -0.82432769, -0.33590351,  0.66980347],\n",
       "       [-1.21788377,  1.55379249,  0.45008922,  0.76092313],\n",
       "       [-1.19541794, -0.29552539, -0.23711359,  0.58357284],\n",
       "       [-1.17313924, -0.48458608, -1.71704857,  0.21669702],\n",
       "       [-1.15104069,  1.29846636, -0.06117169, -2.2758464 ],\n",
       "       [-1.12911574, -0.50304519, -1.7324148 , -1.21299201],\n",
       "       [-1.10735826,  1.53345233, -1.3771472 , -1.10919482],\n",
       "       [-1.0857625 ,  1.31077419,  1.27109462, -1.4708598 ],\n",
       "       [-1.06432304, -0.77006157,  1.53885314,  0.85283827],\n",
       "       [-1.04303479, -1.21308859,  0.35649509,  0.44045973],\n",
       "       [-1.02189293,  0.93531131,  0.96392681,  0.30682057],\n",
       "       [-1.00089294,  0.68018031,  0.08742886,  0.28905461],\n",
       "       [-0.9800305 ,  0.4165774 ,  0.73579933,  0.58755182],\n",
       "       [-0.95930155,  1.56025605,  0.41523303, -1.93614969],\n",
       "       [-0.93870224,  0.72477076, -0.94246393,  0.04555612],\n",
       "       [-0.91822889, -1.50299171,  0.29691633,  0.76465678],\n",
       "       [-0.89787802,  0.39655706,  0.10007132,  0.2845934 ],\n",
       "       [-0.87764632, -0.5776425 , -0.81067203,  0.46554742],\n",
       "       [-0.85753062,  1.05181524,  1.15733673, -0.38254334],\n",
       "       [-0.83752792,  0.92742341, -0.35027362,  1.00104316],\n",
       "       [-0.81763533, -0.87399682, -0.66162053,  0.51093113],\n",
       "       [-0.79785012,  0.652694  , -1.49718987,  0.41936802],\n",
       "       [-0.77816964, -0.44544938, -0.83642883, -1.65023317],\n",
       "       [-0.75859139,  0.82021967,  1.16732335,  0.62310406],\n",
       "       [-0.73911296,  0.47526481,  1.38737344,  1.29005095],\n",
       "       [-0.71973204,  1.27095405,  0.47892195, -0.54515187],\n",
       "       [-0.7004464 ,  0.6435106 ,  1.53885314,  1.33059751],\n",
       "       [-0.68125392, -1.85241088,  0.43850198,  0.6928619 ],\n",
       "       [-0.66215257, -0.02694246, -0.11434473, -0.50002298],\n",
       "       [-0.64314036,  0.7640894 ,  1.54819296,  0.54749686],\n",
       "       [-0.62421541,  0.76308359,  0.51896989, -1.03801781],\n",
       "       [-0.6053759 , -1.06021399, -1.64357954, -0.21538949],\n",
       "       [-0.58662007,  1.25764412,  1.21698291,  1.16198054],\n",
       "       [-0.56794623,  1.04597746, -0.37195568,  0.08950799],\n",
       "       [-0.54935275, -0.41751811,  0.52466135, -1.11833294],\n",
       "       [-0.53083806, -0.08464536,  1.22192414,  0.16568658],\n",
       "       [-0.51240064, -0.84572231, -0.8624742 , -2.12148202],\n",
       "       [-0.49403901, -1.39528628,  0.23035564, -1.86501   ],\n",
       "       [-0.47575175,  0.00785902, -0.44537697, -0.96167639],\n",
       "       [-0.45753751,  1.02746612,  0.40355071, -0.89675177],\n",
       "       [-0.43939494,  0.8242145 ,  1.27598779,  0.08466485],\n",
       "       [-0.42132276,  0.64555228,  0.58117899,  0.58755182],\n",
       "       [-0.40331972, -0.33228945, -0.46028254,  0.29350789],\n",
       "       [-0.38538463, -1.47377148,  0.71402259, -0.33506848],\n",
       "       [-0.36751631, -0.10400761, -1.202897  ,  0.27564704],\n",
       "       [-0.34971362,  0.79019725,  0.23035564, -0.73744518],\n",
       "       [-0.33197546, -1.65184774,  1.26619715,  2.13937255],\n",
       "       [-0.31430078, -1.46187563, -1.70192244, -0.25453031],\n",
       "       [-0.29668853, -0.20647326,  0.46164538, -0.65947105],\n",
       "       [-0.2791377 , -1.89822804,  0.54169198, -1.02934918],\n",
       "       [-0.26164732, -0.25902053, -1.00678392, -0.12319395],\n",
       "       [-0.24421643, -0.74778651,  0.35649509, -0.16609367],\n",
       "       [-0.22684412,  1.05084254, -1.3771472 ,  0.51501874],\n",
       "       [-0.20952948, -0.76218508, -0.04143812,  0.32885333],\n",
       "       [-0.19227164, -0.85377796,  1.30525722,  0.46138274],\n",
       "       [-0.17506974,  0.79119975,  1.23179329,  0.38526098],\n",
       "       [-0.15792297,  0.58509675, -0.16835339,  1.50271112],\n",
       "       [-0.1408305 , -0.74909326,  0.40355071, -0.53863938],\n",
       "       [-0.12379156, -0.32158879,  1.11216604,  1.42831665],\n",
       "       [-0.10680538, -0.59523084,  0.28489586,  1.72217946],\n",
       "       [-0.08987121, -0.33228945,  1.4636021 ,  1.05224719],\n",
       "       [-0.07298832, -0.04837336, -1.28768913, -1.03801781],\n",
       "       [-0.05615601, -1.44333425, -1.71704857,  0.35069626],\n",
       "       [-0.03937357,  0.8331959 ,  0.74122791,  1.29945293],\n",
       "       [-0.02264034,  1.15818339,  0.90131402,  1.69166052],\n",
       "       [-0.00595566, -0.36093577, -0.4827855 , -0.90472726],\n",
       "       [ 0.01068113,  0.2709304 ,  0.63699688,  1.1026083 ],\n",
       "       [ 0.02727064,  0.63022667, -1.44792482, -1.36815587],\n",
       "       [ 0.0438135 ,  0.49923329,  0.00418624, -0.18240095],\n",
       "       [ 0.0603103 ,  1.52419364,  1.19717332,  1.04546953],\n",
       "       [ 0.07676164, -0.0382122 ,  1.16732335,  0.86006693],\n",
       "       [ 0.09316808,  0.87994389, -1.35429375,  0.99759864],\n",
       "       [ 0.1258485 ,  1.43581778, -0.79365568, -0.21538949],\n",
       "       [ 0.14212357,  0.53038105, -0.25104051, -0.41889554],\n",
       "       [ 0.15835592,  1.03526502,  0.78443582, -1.43568966],\n",
       "       [ 0.17454606, -0.00783277,  1.39695704,  1.29945293],\n",
       "       [ 0.19069448, -1.50472569, -0.71852874,  0.20289058],\n",
       "       [ 0.2068017 , -0.56887482, -1.92277996, -0.11788987],\n",
       "       [ 0.22286818, -1.72669682, -1.90334954,  0.00577961],\n",
       "       [ 0.23889439,  1.20134779,  0.36830859, -1.41277956],\n",
       "       [ 0.25488081,  0.91360226, -0.96064272,  1.22025052],\n",
       "       [ 0.27082788,  1.06930594,  0.97946003, -0.11788987],\n",
       "       [ 0.28673605,  0.40288531, -0.37921745, -1.83137048],\n",
       "       [ 0.30260575,  0.75201155, -0.02181365, -0.9207956 ],\n",
       "       [ 0.31843741, -0.72433929,  1.41607663,  0.41512911],\n",
       "       [ 0.33423145, -0.76480878,  0.82192754,  1.09594084],\n",
       "       [ 0.34998827,  0.00673953, -0.46028254,  0.00577961],\n",
       "       [ 0.36570828, -0.74778651, -1.83055994, -0.61831443],\n",
       "       [ 0.38139187, -0.14637764,  0.92227141,  1.87892616],\n",
       "       [ 0.39703943, -1.60487761, -0.33590351, -0.16609367],\n",
       "       [ 0.41265134,  0.03020546,  0.36240602,  0.87087647],\n",
       "       [ 0.42822797, -1.61600701,  0.04924266,  1.01820721],\n",
       "       [ 0.44376969,  0.89579959, -1.58822992, -0.56482448],\n",
       "       [ 0.45927685, -0.17634363,  0.8005392 , -0.78891695],\n",
       "       [ 0.47474981,  0.95008184,  0.67566908,  1.7442111 ],\n",
       "       [ 0.49018892, -0.60910057, -0.65359273,  0.02077604],\n",
       "       [ 0.50559451, -1.84082856,  1.02577993,  1.02504572],\n",
       "       [ 0.52096692, -0.69844865, -1.98495808, -1.04673537],\n",
       "       [ 0.53630647,  0.8590884 ,  1.52012963, -1.70718676],\n",
       "       [ 0.55161349, -0.97412104, -0.63761079,  0.75718457],\n",
       "       [ 0.56688829, -2.03323356,  1.06152278, -1.09108448],\n",
       "       [ 0.58213119,  1.2946762 , -1.52253007,  0.7534411 ],\n",
       "       [ 0.59734249, -1.82715302,  0.38596655, -1.88228781],\n",
       "       [ 0.6125225 ,  0.85411524,  0.74122791,  0.83104401],\n",
       "       [ 0.6276715 , -1.30867028,  1.0103861 ,  1.49976669],\n",
       "       [ 0.64278978, -1.13560137,  1.42561279, -1.10919482],\n",
       "       [ 0.65787764, -1.49434751,  1.03090107, -1.03801781],\n",
       "       [ 0.67293536,  1.37490294,  0.48466558,  1.32128542],\n",
       "       [ 0.6879632 , -1.21460127,  0.30890141, -0.2658475 ],\n",
       "       [ 0.70296145,  0.49923329,  1.27598779, -1.95484304],\n",
       "       [ 0.71793037, -0.78718324, -0.2650278 , -0.75199725],\n",
       "       [ 0.73287023,  0.59023843,  0.84322253,  1.78244184],\n",
       "       [ 0.74778127,  0.86107685,  0.72492349,  0.55555544],\n",
       "       [ 0.76266377, -0.39456576, -1.202897  ,  0.41088327],\n",
       "       [ 0.77751796, -0.49688394, -0.42315979,  0.59549238],\n",
       "       [ 0.7923441 ,  0.01904252, -1.65786243, -1.06432036],\n",
       "       [ 0.80714243,  1.05376032, -1.04445327, -1.09108448],\n",
       "       [ 0.82191319,  1.08385578,  1.52012963,  0.80172759],\n",
       "       [ 0.83665661, -1.29143203,  1.09702388, -0.82664429],\n",
       "       [ 0.85137293, -1.1890052 ,  0.30291327, -0.26018131],\n",
       "       [ 0.86606238,  1.44048829, -0.49032576,  0.51910011],\n",
       "       [ 0.88072518, -0.20066619, -0.94246393,  0.95944652],\n",
       "       [ 0.89536155,  0.63022667,  0.15022331, -0.65947105],\n",
       "       [ 0.90997171,  0.35634693,  1.06660903,  0.54749686],\n",
       "       [ 0.92455588,  0.52934487,  0.01065705, -1.02072873],\n",
       "       [ 0.93911428, -1.93163495, -0.66967326, -1.39027462],\n",
       "       [ 0.9536471 , -0.52529469,  1.25638925,  1.02162839],\n",
       "       [ 0.96815455,  0.12428563, -1.74803521, -0.06036496],\n",
       "       [ 0.98263685, -1.75555556,  0.92227141,  0.83468776],\n",
       "       [ 0.99709419, -0.07782712, -0.16835339,  0.41936802],\n",
       "       [ 1.01152676,  0.36906953, -0.18883181,  0.24861364],\n",
       "       [ 1.02593476, -0.62808655,  0.86442562,  0.98031676],\n",
       "       [ 1.04031839,  0.5355598 , -0.18883181,  0.00577961],\n",
       "       [ 1.05467784,  0.2730788 ,  0.91704026, -1.21299201],\n",
       "       [ 1.06901328, -0.24495734, -0.43054692, -1.42418272],\n",
       "       [ 1.08332491,  0.99913782, -1.46007371,  2.02414625],\n",
       "       [ 1.09761291, -1.63286723,  0.95873855, -0.20433701],\n",
       "       [ 1.11187745,  0.72376009, -1.25539136, -0.32921092],\n",
       "       [ 1.12611872,  0.81022423,  0.16886223,  1.25534066],\n",
       "       [ 1.14033688,  1.47405264, -0.75163452, -1.31443661],\n",
       "       [ 1.15453212, -1.11073781, -0.66967326, -0.38855655],\n",
       "       [ 1.16870459,  0.28381064, -0.00229617,  0.91372099],\n",
       "       [ 1.18285448, -1.60118681, -0.05458158, -0.47470116],\n",
       "       [ 1.19698193,  0.32550506, -1.06355551, -0.75931882],\n",
       "       [ 1.21108712,  0.87994389, -1.46007371, -0.73744518],\n",
       "       [ 1.22517021,  1.40493806,  1.51543955,  0.70812926],\n",
       "       [ 1.23923136,  1.13411664,  0.55865764, -0.27722588],\n",
       "       [ 1.25327072,  0.34466429, -0.99747386,  0.44465771],\n",
       "       [ 1.26728845,  1.40306351, -1.60181548, -0.09155822],\n",
       "       [ 1.28128471,  0.29559622, -0.80214864, -0.43732278],\n",
       "       [ 1.29525964,  0.19855946, -1.56152179, -1.12752759],\n",
       "       [ 1.30921339,  0.8411713 , -1.23420066,  0.09434122],\n",
       "       [ 1.32314611, -1.02181379, -1.202897  ,  0.20289058],\n",
       "       [ 1.33705795,  1.50472337,  1.23179329,  1.67770049],\n",
       "       [ 1.35094905,  1.18602318,  0.02356422,  0.21669702],\n",
       "       [ 1.36481956,  0.70554619,  1.33437513, -0.31754553],\n",
       "       [ 1.3786696 ,  0.01009737, -1.62948287,  0.05539471],\n",
       "       [ 1.39249933,  0.56346396,  0.47317073, -0.40063711],\n",
       "       [ 1.40630888,  1.48986416, -0.49032576, -1.63644784],\n",
       "       [ 1.42009838, -1.61787038, -0.62965614, -0.1073197 ],\n",
       "       [ 1.43386797, -1.26812741,  1.13730782, -1.3791681 ],\n",
       "       [ 1.44761778, -0.75956316, -0.73502642, -1.3572358 ],\n",
       "       [ 1.46134795, -1.6461253 , -1.3771472 ,  0.28905461],\n",
       "       [ 1.47505859,  0.30843016,  1.18226883, -1.65023317],\n",
       "       [ 1.48874984,  0.12318696,  0.85383548, -1.3572358 ],\n",
       "       [ 1.50242183, -1.28831146, -1.42394128, -0.68743455],\n",
       "       [ 1.51607467, -0.52157887, -1.28768913, -1.14609038],\n",
       "       [ 1.5297085 ,  0.4165774 , -0.8624742 , -1.31443661],\n",
       "       [ 1.54332343,  1.4675349 ,  1.18226883,  1.51739504],\n",
       "       [ 1.55691958,  0.97562509, -0.92443675, -1.09108448]])"
      ]
     },
     "execution_count": 62,
     "metadata": {},
     "output_type": "execute_result"
    }
   ],
   "source": [
    "x"
   ]
  },
  {
   "cell_type": "code",
   "execution_count": 63,
   "metadata": {},
   "outputs": [
    {
     "data": {
      "text/plain": [
       "array([[-2.08112123,  0.95598306,  0.9691098 ,  1.6041965 ],\n",
       "       [-2.03541299, -1.19200349,  1.04623436,  0.83104401],\n",
       "       [-1.99380721, -1.6461253 ,  1.37296802,  1.60705249],\n",
       "       [-1.95500804,  0.14293428,  1.1473316 ,  1.28376774],\n",
       "       [-1.91830818,  0.45645241, -0.73502642,  1.28062154],\n",
       "       [-1.88326684, -1.8204008 ,  1.51543955,  1.76610727],\n",
       "       [-1.84958541, -1.00349358,  0.70309642, -0.10205346],\n",
       "       [-1.81704952, -0.20996049, -0.0876566 , -0.84968895],\n",
       "       [-1.78549851, -1.82264543, -1.62948287, -2.09866461],\n",
       "       [-1.754808  ,  0.652694  , -1.56152179, -0.22649933],\n",
       "       [-1.72487914, -0.88482761, -1.19258569, -0.06553382],\n",
       "       [-1.69563166,  0.80322028,  0.19357553, -1.59608414],\n",
       "       [-1.66699926, -1.52567125,  0.82725998,  1.50859232],\n",
       "       [-1.63892633, -0.48090308, -1.01613619, -1.23269654],\n",
       "       [-1.61136564,  0.69642374,  0.70856268,  0.86367455],\n",
       "       [-1.58427663,  0.60769456,  1.45886692,  1.1026083 ],\n",
       "       [-1.53137745,  1.44702338,  1.06152278,  1.19771741],\n",
       "       [-1.50550946, -0.84304109, -0.02834315, -0.39458775],\n",
       "       [-1.47999615,  0.09676151,  0.18741189, -0.346834  ],\n",
       "       [-1.45481611,  0.84017479,  0.41523303,  1.11921444],\n",
       "       [-1.42995011,  1.02746612, -1.2660875 , -0.10205346],\n",
       "       [-1.40538082, -1.72466475, -0.3430802 ,  0.99069777],\n",
       "       [-1.38109254,  0.93826742, -0.27204438,  0.0356758 ],\n",
       "       [-1.35707101, -0.93674187, -0.59023588, -0.39458775],\n",
       "       [-1.33330319,  1.27285397, -1.44792482, -0.32336998],\n",
       "       [-1.30977716,  0.04802388,  0.50756488, -0.7740548 ],\n",
       "       [-1.28648194,  1.05376032, -0.28612399, -0.13384051],\n",
       "       [-1.26340742,  1.13797152,  0.38008881, -0.13384051],\n",
       "       [-1.24054425, -0.82432769, -0.33590351,  0.66980347],\n",
       "       [-1.21788377,  1.55379249,  0.45008922,  0.76092313],\n",
       "       [-1.19541794, -0.29552539, -0.23711359,  0.58357284],\n",
       "       [-1.17313924, -0.48458608, -1.71704857,  0.21669702],\n",
       "       [-1.15104069,  1.29846636, -0.06117169, -2.2758464 ],\n",
       "       [-1.12911574, -0.50304519, -1.7324148 , -1.21299201],\n",
       "       [-1.10735826,  1.53345233, -1.3771472 , -1.10919482],\n",
       "       [-1.0857625 ,  1.31077419,  1.27109462, -1.4708598 ],\n",
       "       [-1.06432304, -0.77006157,  1.53885314,  0.85283827],\n",
       "       [-1.04303479, -1.21308859,  0.35649509,  0.44045973],\n",
       "       [-1.02189293,  0.93531131,  0.96392681,  0.30682057],\n",
       "       [-1.00089294,  0.68018031,  0.08742886,  0.28905461],\n",
       "       [-0.9800305 ,  0.4165774 ,  0.73579933,  0.58755182],\n",
       "       [-0.95930155,  1.56025605,  0.41523303, -1.93614969],\n",
       "       [-0.93870224,  0.72477076, -0.94246393,  0.04555612],\n",
       "       [-0.91822889, -1.50299171,  0.29691633,  0.76465678],\n",
       "       [-0.89787802,  0.39655706,  0.10007132,  0.2845934 ],\n",
       "       [-0.87764632, -0.5776425 , -0.81067203,  0.46554742],\n",
       "       [-0.85753062,  1.05181524,  1.15733673, -0.38254334],\n",
       "       [-0.83752792,  0.92742341, -0.35027362,  1.00104316],\n",
       "       [-0.81763533, -0.87399682, -0.66162053,  0.51093113],\n",
       "       [-0.79785012,  0.652694  , -1.49718987,  0.41936802],\n",
       "       [-0.77816964, -0.44544938, -0.83642883, -1.65023317],\n",
       "       [-0.75859139,  0.82021967,  1.16732335,  0.62310406],\n",
       "       [-0.73911296,  0.47526481,  1.38737344,  1.29005095],\n",
       "       [-0.71973204,  1.27095405,  0.47892195, -0.54515187],\n",
       "       [-0.7004464 ,  0.6435106 ,  1.53885314,  1.33059751],\n",
       "       [-0.68125392, -1.85241088,  0.43850198,  0.6928619 ],\n",
       "       [-0.66215257, -0.02694246, -0.11434473, -0.50002298],\n",
       "       [-0.64314036,  0.7640894 ,  1.54819296,  0.54749686],\n",
       "       [-0.62421541,  0.76308359,  0.51896989, -1.03801781],\n",
       "       [-0.6053759 , -1.06021399, -1.64357954, -0.21538949],\n",
       "       [-0.58662007,  1.25764412,  1.21698291,  1.16198054],\n",
       "       [-0.56794623,  1.04597746, -0.37195568,  0.08950799],\n",
       "       [-0.54935275, -0.41751811,  0.52466135, -1.11833294],\n",
       "       [-0.53083806, -0.08464536,  1.22192414,  0.16568658],\n",
       "       [-0.51240064, -0.84572231, -0.8624742 , -2.12148202],\n",
       "       [-0.49403901, -1.39528628,  0.23035564, -1.86501   ],\n",
       "       [-0.47575175,  0.00785902, -0.44537697, -0.96167639],\n",
       "       [-0.45753751,  1.02746612,  0.40355071, -0.89675177],\n",
       "       [-0.43939494,  0.8242145 ,  1.27598779,  0.08466485],\n",
       "       [-0.42132276,  0.64555228,  0.58117899,  0.58755182],\n",
       "       [-0.40331972, -0.33228945, -0.46028254,  0.29350789],\n",
       "       [-0.38538463, -1.47377148,  0.71402259, -0.33506848],\n",
       "       [-0.36751631, -0.10400761, -1.202897  ,  0.27564704],\n",
       "       [-0.34971362,  0.79019725,  0.23035564, -0.73744518],\n",
       "       [-0.33197546, -1.65184774,  1.26619715,  2.13937255],\n",
       "       [-0.31430078, -1.46187563, -1.70192244, -0.25453031],\n",
       "       [-0.29668853, -0.20647326,  0.46164538, -0.65947105],\n",
       "       [-0.2791377 , -1.89822804,  0.54169198, -1.02934918],\n",
       "       [-0.26164732, -0.25902053, -1.00678392, -0.12319395],\n",
       "       [-0.24421643, -0.74778651,  0.35649509, -0.16609367],\n",
       "       [-0.22684412,  1.05084254, -1.3771472 ,  0.51501874],\n",
       "       [-0.20952948, -0.76218508, -0.04143812,  0.32885333],\n",
       "       [-0.19227164, -0.85377796,  1.30525722,  0.46138274],\n",
       "       [-0.17506974,  0.79119975,  1.23179329,  0.38526098],\n",
       "       [-0.15792297,  0.58509675, -0.16835339,  1.50271112],\n",
       "       [-0.1408305 , -0.74909326,  0.40355071, -0.53863938],\n",
       "       [-0.12379156, -0.32158879,  1.11216604,  1.42831665],\n",
       "       [-0.10680538, -0.59523084,  0.28489586,  1.72217946],\n",
       "       [-0.08987121, -0.33228945,  1.4636021 ,  1.05224719],\n",
       "       [-0.07298832, -0.04837336, -1.28768913, -1.03801781],\n",
       "       [-0.05615601, -1.44333425, -1.71704857,  0.35069626],\n",
       "       [-0.03937357,  0.8331959 ,  0.74122791,  1.29945293],\n",
       "       [-0.02264034,  1.15818339,  0.90131402,  1.69166052],\n",
       "       [-0.00595566, -0.36093577, -0.4827855 , -0.90472726],\n",
       "       [ 0.01068113,  0.2709304 ,  0.63699688,  1.1026083 ],\n",
       "       [ 0.02727064,  0.63022667, -1.44792482, -1.36815587],\n",
       "       [ 0.0438135 ,  0.49923329,  0.00418624, -0.18240095],\n",
       "       [ 0.0603103 ,  1.52419364,  1.19717332,  1.04546953],\n",
       "       [ 0.07676164, -0.0382122 ,  1.16732335,  0.86006693],\n",
       "       [ 0.09316808,  0.87994389, -1.35429375,  0.99759864],\n",
       "       [ 0.1258485 ,  1.43581778, -0.79365568, -0.21538949],\n",
       "       [ 0.14212357,  0.53038105, -0.25104051, -0.41889554],\n",
       "       [ 0.15835592,  1.03526502,  0.78443582, -1.43568966],\n",
       "       [ 0.17454606, -0.00783277,  1.39695704,  1.29945293],\n",
       "       [ 0.19069448, -1.50472569, -0.71852874,  0.20289058],\n",
       "       [ 0.2068017 , -0.56887482, -1.92277996, -0.11788987],\n",
       "       [ 0.22286818, -1.72669682, -1.90334954,  0.00577961],\n",
       "       [ 0.23889439,  1.20134779,  0.36830859, -1.41277956],\n",
       "       [ 0.25488081,  0.91360226, -0.96064272,  1.22025052],\n",
       "       [ 0.27082788,  1.06930594,  0.97946003, -0.11788987],\n",
       "       [ 0.28673605,  0.40288531, -0.37921745, -1.83137048],\n",
       "       [ 0.30260575,  0.75201155, -0.02181365, -0.9207956 ],\n",
       "       [ 0.31843741, -0.72433929,  1.41607663,  0.41512911],\n",
       "       [ 0.33423145, -0.76480878,  0.82192754,  1.09594084],\n",
       "       [ 0.34998827,  0.00673953, -0.46028254,  0.00577961],\n",
       "       [ 0.36570828, -0.74778651, -1.83055994, -0.61831443],\n",
       "       [ 0.38139187, -0.14637764,  0.92227141,  1.87892616],\n",
       "       [ 0.39703943, -1.60487761, -0.33590351, -0.16609367],\n",
       "       [ 0.41265134,  0.03020546,  0.36240602,  0.87087647],\n",
       "       [ 0.42822797, -1.61600701,  0.04924266,  1.01820721],\n",
       "       [ 0.44376969,  0.89579959, -1.58822992, -0.56482448],\n",
       "       [ 0.45927685, -0.17634363,  0.8005392 , -0.78891695],\n",
       "       [ 0.47474981,  0.95008184,  0.67566908,  1.7442111 ],\n",
       "       [ 0.49018892, -0.60910057, -0.65359273,  0.02077604],\n",
       "       [ 0.50559451, -1.84082856,  1.02577993,  1.02504572],\n",
       "       [ 0.52096692, -0.69844865, -1.98495808, -1.04673537],\n",
       "       [ 0.53630647,  0.8590884 ,  1.52012963, -1.70718676],\n",
       "       [ 0.55161349, -0.97412104, -0.63761079,  0.75718457],\n",
       "       [ 0.56688829, -2.03323356,  1.06152278, -1.09108448],\n",
       "       [ 0.58213119,  1.2946762 , -1.52253007,  0.7534411 ],\n",
       "       [ 0.59734249, -1.82715302,  0.38596655, -1.88228781],\n",
       "       [ 0.6125225 ,  0.85411524,  0.74122791,  0.83104401],\n",
       "       [ 0.6276715 , -1.30867028,  1.0103861 ,  1.49976669],\n",
       "       [ 0.64278978, -1.13560137,  1.42561279, -1.10919482],\n",
       "       [ 0.65787764, -1.49434751,  1.03090107, -1.03801781],\n",
       "       [ 0.67293536,  1.37490294,  0.48466558,  1.32128542],\n",
       "       [ 0.6879632 , -1.21460127,  0.30890141, -0.2658475 ],\n",
       "       [ 0.70296145,  0.49923329,  1.27598779, -1.95484304],\n",
       "       [ 0.71793037, -0.78718324, -0.2650278 , -0.75199725],\n",
       "       [ 0.73287023,  0.59023843,  0.84322253,  1.78244184],\n",
       "       [ 0.74778127,  0.86107685,  0.72492349,  0.55555544],\n",
       "       [ 0.76266377, -0.39456576, -1.202897  ,  0.41088327],\n",
       "       [ 0.77751796, -0.49688394, -0.42315979,  0.59549238],\n",
       "       [ 0.7923441 ,  0.01904252, -1.65786243, -1.06432036],\n",
       "       [ 0.80714243,  1.05376032, -1.04445327, -1.09108448],\n",
       "       [ 0.82191319,  1.08385578,  1.52012963,  0.80172759],\n",
       "       [ 0.83665661, -1.29143203,  1.09702388, -0.82664429],\n",
       "       [ 0.85137293, -1.1890052 ,  0.30291327, -0.26018131],\n",
       "       [ 0.86606238,  1.44048829, -0.49032576,  0.51910011],\n",
       "       [ 0.88072518, -0.20066619, -0.94246393,  0.95944652],\n",
       "       [ 0.89536155,  0.63022667,  0.15022331, -0.65947105],\n",
       "       [ 0.90997171,  0.35634693,  1.06660903,  0.54749686],\n",
       "       [ 0.92455588,  0.52934487,  0.01065705, -1.02072873],\n",
       "       [ 0.93911428, -1.93163495, -0.66967326, -1.39027462],\n",
       "       [ 0.9536471 , -0.52529469,  1.25638925,  1.02162839],\n",
       "       [ 0.96815455,  0.12428563, -1.74803521, -0.06036496],\n",
       "       [ 0.98263685, -1.75555556,  0.92227141,  0.83468776],\n",
       "       [ 0.99709419, -0.07782712, -0.16835339,  0.41936802],\n",
       "       [ 1.01152676,  0.36906953, -0.18883181,  0.24861364],\n",
       "       [ 1.02593476, -0.62808655,  0.86442562,  0.98031676],\n",
       "       [ 1.04031839,  0.5355598 , -0.18883181,  0.00577961],\n",
       "       [ 1.05467784,  0.2730788 ,  0.91704026, -1.21299201],\n",
       "       [ 1.06901328, -0.24495734, -0.43054692, -1.42418272],\n",
       "       [ 1.08332491,  0.99913782, -1.46007371,  2.02414625],\n",
       "       [ 1.09761291, -1.63286723,  0.95873855, -0.20433701],\n",
       "       [ 1.11187745,  0.72376009, -1.25539136, -0.32921092],\n",
       "       [ 1.12611872,  0.81022423,  0.16886223,  1.25534066],\n",
       "       [ 1.14033688,  1.47405264, -0.75163452, -1.31443661],\n",
       "       [ 1.15453212, -1.11073781, -0.66967326, -0.38855655],\n",
       "       [ 1.16870459,  0.28381064, -0.00229617,  0.91372099],\n",
       "       [ 1.18285448, -1.60118681, -0.05458158, -0.47470116],\n",
       "       [ 1.19698193,  0.32550506, -1.06355551, -0.75931882],\n",
       "       [ 1.21108712,  0.87994389, -1.46007371, -0.73744518],\n",
       "       [ 1.22517021,  1.40493806,  1.51543955,  0.70812926],\n",
       "       [ 1.23923136,  1.13411664,  0.55865764, -0.27722588],\n",
       "       [ 1.25327072,  0.34466429, -0.99747386,  0.44465771],\n",
       "       [ 1.26728845,  1.40306351, -1.60181548, -0.09155822],\n",
       "       [ 1.28128471,  0.29559622, -0.80214864, -0.43732278],\n",
       "       [ 1.29525964,  0.19855946, -1.56152179, -1.12752759],\n",
       "       [ 1.30921339,  0.8411713 , -1.23420066,  0.09434122],\n",
       "       [ 1.32314611, -1.02181379, -1.202897  ,  0.20289058],\n",
       "       [ 1.33705795,  1.50472337,  1.23179329,  1.67770049],\n",
       "       [ 1.35094905,  1.18602318,  0.02356422,  0.21669702],\n",
       "       [ 1.36481956,  0.70554619,  1.33437513, -0.31754553],\n",
       "       [ 1.3786696 ,  0.01009737, -1.62948287,  0.05539471],\n",
       "       [ 1.39249933,  0.56346396,  0.47317073, -0.40063711],\n",
       "       [ 1.40630888,  1.48986416, -0.49032576, -1.63644784],\n",
       "       [ 1.42009838, -1.61787038, -0.62965614, -0.1073197 ],\n",
       "       [ 1.43386797, -1.26812741,  1.13730782, -1.3791681 ],\n",
       "       [ 1.44761778, -0.75956316, -0.73502642, -1.3572358 ],\n",
       "       [ 1.46134795, -1.6461253 , -1.3771472 ,  0.28905461],\n",
       "       [ 1.47505859,  0.30843016,  1.18226883, -1.65023317],\n",
       "       [ 1.48874984,  0.12318696,  0.85383548, -1.3572358 ],\n",
       "       [ 1.50242183, -1.28831146, -1.42394128, -0.68743455],\n",
       "       [ 1.51607467, -0.52157887, -1.28768913, -1.14609038],\n",
       "       [ 1.5297085 ,  0.4165774 , -0.8624742 , -1.31443661],\n",
       "       [ 1.54332343,  1.4675349 ,  1.18226883,  1.51739504],\n",
       "       [ 1.55691958,  0.97562509, -0.92443675, -1.09108448]])"
      ]
     },
     "execution_count": 63,
     "metadata": {},
     "output_type": "execute_result"
    }
   ],
   "source": [
    "from sklearn.preprocessing import StandardScaler\n",
    "sc=StandardScaler()\n",
    "x=sc.fit_transform(x)\n",
    "x"
   ]
  },
  {
   "cell_type": "markdown",
   "metadata": {},
   "source": [
    "Since the outcome has comtinuous variable hence we will use Linear Regression with classification."
   ]
  },
  {
   "cell_type": "code",
   "execution_count": 64,
   "metadata": {},
   "outputs": [],
   "source": [
    "from sklearn.model_selection import train_test_split\n",
    "from sklearn.linear_model import LinearRegression\n",
    "lm=LinearRegression()\n",
    "from sklearn.metrics import accuracy_score"
   ]
  },
  {
   "cell_type": "code",
   "execution_count": 65,
   "metadata": {},
   "outputs": [],
   "source": [
    "from sklearn.model_selection import train_test_split"
   ]
  },
  {
   "cell_type": "code",
   "execution_count": 73,
   "metadata": {},
   "outputs": [],
   "source": [
    "from sklearn.preprocessing import StandardScaler\n",
    "sc=StandardScaler()\n",
    "x_t=sc.fit_transform(x)\n",
    "from sklearn.model_selection import train_test_split\n",
    "from sklearn.linear_model import LinearRegression\n",
    "lr=LinearRegression()\n",
    "from sklearn.metrics import r2_score"
   ]
  },
  {
   "cell_type": "code",
   "execution_count": 78,
   "metadata": {},
   "outputs": [
    {
     "name": "stdout",
     "output_type": "stream",
     "text": [
      "At random state 873  The model performs very well\n",
      "At random_state:- 873\n",
      "Training r2_score is:- 90.41308004886854\n",
      "Testing r2_score is:- 90.40630959100888\n"
     ]
    }
   ],
   "source": [
    "max_scr=0\n",
    "for i in range(0,1000):\n",
    "    x_train,x_test,y_train,y_test=train_test_split(x,y,random_state=i,test_size=0.20)\n",
    "    lr.fit(x_train,y_train)\n",
    "    pred_train=lr.predict(x_train)\n",
    "    pred_test=lr.predict(x_test)\n",
    "    if round(r2_score(y_train,pred_train)*100,2)== round(r2_score(y_test,pred_test)*100,2):\n",
    "        print(\"At random state\",i,\" The model performs very well\")\n",
    "        print(\"At random_state:-\",i)\n",
    "        print(\"Training r2_score is:-\", r2_score(y_train,pred_train)*100)\n",
    "        print(\"Testing r2_score is:-\", r2_score(y_test,pred_test)*100)"
   ]
  },
  {
   "cell_type": "code",
   "execution_count": 79,
   "metadata": {},
   "outputs": [],
   "source": [
    "x_train_b,x_test_b,y_train_b,y_test_b=train_test_split(x_t,y, random_state=873,test_size=0.20)"
   ]
  },
  {
   "cell_type": "code",
   "execution_count": 80,
   "metadata": {},
   "outputs": [],
   "source": [
    "#we will use random state 873.\n",
    "\n",
    "\n",
    "from sklearn.model_selection import GridSearchCV\n",
    "from sklearn.model_selection import cross_val_score\n",
    "import warnings\n",
    "warnings.filterwarnings('ignore')"
   ]
  },
  {
   "cell_type": "markdown",
   "metadata": {},
   "source": [
    "# Regularization:"
   ]
  },
  {
   "cell_type": "markdown",
   "metadata": {},
   "source": [
    "# 1.Lasso:"
   ]
  },
  {
   "cell_type": "code",
   "execution_count": 81,
   "metadata": {},
   "outputs": [
    {
     "name": "stdout",
     "output_type": "stream",
     "text": [
      "{'alpha': 0.1, 'random_state': 0}\n"
     ]
    }
   ],
   "source": [
    "from sklearn.linear_model import Lasso\n",
    "\n",
    "parameters = {'alpha':[.0001, .001, .01, .1, 1, 10],'random_state':list(range(0,10))}\n",
    "ls = Lasso()\n",
    "clf = GridSearchCV(ls,parameters)\n",
    "clf.fit(x_train,y_train)\n",
    "\n",
    "print(clf.best_params_)"
   ]
  },
  {
   "cell_type": "code",
   "execution_count": 83,
   "metadata": {},
   "outputs": [
    {
     "name": "stdout",
     "output_type": "stream",
     "text": [
      "At cv:- 2\n",
      "Cross validation score is:- 89.91076355172474\n",
      "R2_score is :- 91.02374797536427\n",
      "\n",
      "\n",
      "At cv:- 3\n",
      "Cross validation score is:- 89.72351367252843\n",
      "R2_score is :- 91.02374797536427\n",
      "\n",
      "\n",
      "At cv:- 4\n",
      "Cross validation score is:- 89.71454978979656\n",
      "R2_score is :- 91.02374797536427\n",
      "\n",
      "\n",
      "At cv:- 5\n",
      "Cross validation score is:- 89.57805633532875\n",
      "R2_score is :- 91.02374797536427\n",
      "\n",
      "\n",
      "At cv:- 6\n",
      "Cross validation score is:- 89.80608442859742\n",
      "R2_score is :- 91.02374797536427\n",
      "\n",
      "\n",
      "At cv:- 7\n",
      "Cross validation score is:- 89.4530077204814\n",
      "R2_score is :- 91.02374797536427\n",
      "\n",
      "\n",
      "At cv:- 8\n",
      "Cross validation score is:- 89.81744438200796\n",
      "R2_score is :- 91.02374797536427\n",
      "\n",
      "\n",
      "At cv:- 9\n",
      "Cross validation score is:- 89.36471422956728\n",
      "R2_score is :- 91.02374797536427\n",
      "\n",
      "\n"
     ]
    }
   ],
   "source": [
    "ls = Lasso(alpha=0.1,random_state=0)\n",
    "ls.fit(x_train_b,y_train_b)\n",
    "ls.score(x_train_b,y_train_b)\n",
    "pred_ls = ls.predict(x_test_b)\n",
    "\n",
    "lss = r2_score(y_test_b,pred_ls)\n",
    "for j in range(2,10):\n",
    "    lsscore = cross_val_score(ls,x_t,y,cv=j)\n",
    "    lsc = lsscore.mean()\n",
    "    print(\"At cv:-\",j)\n",
    "    print(\"Cross validation score is:-\",lsc*100 )\n",
    "    print(\"R2_score is :-\",lss*100)\n",
    "    print(\"\\n\")"
   ]
  },
  {
   "cell_type": "code",
   "execution_count": 84,
   "metadata": {},
   "outputs": [
    {
     "name": "stdout",
     "output_type": "stream",
     "text": [
      "At cv:- 3\n",
      "Cross validation score is:- 89.72\n",
      "R_score is :- 91.02\n"
     ]
    }
   ],
   "source": [
    "print(\"At cv:-\",3)\n",
    "print(\"Cross validation score is:-\",89.72)\n",
    "print(\"R_score is :-\",91.02)"
   ]
  },
  {
   "cell_type": "markdown",
   "metadata": {},
   "source": [
    "The value of cv should be 3."
   ]
  },
  {
   "cell_type": "code",
   "execution_count": 85,
   "metadata": {},
   "outputs": [],
   "source": [
    "from sklearn.metrics import mean_absolute_error\n",
    "from sklearn.metrics import mean_squared_error\n",
    "import numpy as np"
   ]
  },
  {
   "cell_type": "code",
   "execution_count": 86,
   "metadata": {},
   "outputs": [
    {
     "name": "stdout",
     "output_type": "stream",
     "text": [
      "Error\n",
      "Mean Absolute Error: 1.2103893795659293\n",
      "Mean Squared Error: 2.3089411117299914\n",
      "Root Mean Square Error: 1.5195200267617375\n"
     ]
    }
   ],
   "source": [
    "print('Error')\n",
    "\n",
    "print('Mean Absolute Error:', mean_absolute_error(y_test_b,pred_ls))\n",
    "print('Mean Squared Error:', mean_squared_error(y_test_b,pred_ls))\n",
    "print('Root Mean Square Error:',np.sqrt(mean_squared_error(y_test_b,pred_ls)))"
   ]
  },
  {
   "cell_type": "code",
   "execution_count": 87,
   "metadata": {},
   "outputs": [
    {
     "data": {
      "image/png": "[encoded data removed]",
      "text/plain": [
       "<Figure size 576x432 with 1 Axes>"
      ]
     },
     "metadata": {
      "needs_background": "light"
     },
     "output_type": "display_data"
    }
   ],
   "source": [
    "plt.figure(figsize=(8,6))\n",
    "plt.scatter(x=y_test_b, y=pred_ls, color='r')\n",
    "plt.plot(y_test_b,y_test_b, color='b')\n",
    "plt.xlabel('Actual compressive strength',fontsize=14)\n",
    "plt.ylabel('Predicted compressive strength',fontsize=14)\n",
    "plt.title('Lasso Regression',fontsize=18)\n",
    "plt.show()"
   ]
  },
  {
   "cell_type": "markdown",
   "metadata": {},
   "source": [
    "# Ensemble Techniques:"
   ]
  },
  {
   "cell_type": "code",
   "execution_count": 101,
   "metadata": {},
   "outputs": [
    {
     "name": "stdout",
     "output_type": "stream",
     "text": [
      "{'criterion': 'mae', 'splitter': 'random'}\n"
     ]
    }
   ],
   "source": [
    "from sklearn.tree import DecisionTreeRegressor\n",
    "\n",
    "parameters = {'criterion':['mse', 'friedman_mse', 'mae'], 'splitter':['best','random']}\n",
    "dt =DecisionTreeRegressor()\n",
    "clf = GridSearchCV(dt,parameters)\n",
    "clf.fit(x_train_b,y_train_b)\n",
    "\n",
    "print(clf.best_params_)"
   ]
  },
  {
   "cell_type": "code",
   "execution_count": 102,
   "metadata": {},
   "outputs": [
    {
     "name": "stdout",
     "output_type": "stream",
     "text": [
      "R2 Score: 93.15295492029922\n",
      "Cross Val Score: 93.36066717258001\n"
     ]
    }
   ],
   "source": [
    "dt = DecisionTreeRegressor(criterion='friedman_mse', splitter='best')\n",
    "dt.fit(x_train_b,y_train_b)\n",
    "dt.score(x_train_b,y_train_b)\n",
    "pred_decision = dt.predict(x_test_b)\n",
    "\n",
    "dts = r2_score(y_test_b,pred_decision)\n",
    "print('R2 Score:',dts*100)\n",
    "\n",
    "dtscore = cross_val_score(dt,x_t,y,cv=3)\n",
    "dtc = dtscore.mean()\n",
    "print('Cross Val Score:',dtc*100)"
   ]
  },
  {
   "cell_type": "code",
   "execution_count": 103,
   "metadata": {},
   "outputs": [
    {
     "name": "stdout",
     "output_type": "stream",
     "text": [
      "Error\n",
      "Mean Absolute Error: 0.9975000000000002\n",
      "Mean Squared Error: 1.76125\n",
      "Root Mean Square Error: 1.3271209439986997\n"
     ]
    }
   ],
   "source": [
    "print('Error')\n",
    "\n",
    "print('Mean Absolute Error:', mean_absolute_error(y_test_b,pred_decision))\n",
    "print('Mean Squared Error:', mean_squared_error(y_test_b,pred_decision))\n",
    "print('Root Mean Square Error:',np.sqrt(mean_squared_error(y_test_b,pred_decision)))"
   ]
  },
  {
   "cell_type": "code",
   "execution_count": 104,
   "metadata": {},
   "outputs": [
    {
     "data": {
      "image/png": "[encoded data removed]",
      "text/plain": [
       "<Figure size 576x432 with 1 Axes>"
      ]
     },
     "metadata": {
      "needs_background": "light"
     },
     "output_type": "display_data"
    }
   ],
   "source": [
    "plt.figure(figsize=(8,6))\n",
    "plt.scatter(x=y_test_b, y=pred_decision, color='r')\n",
    "plt.plot(y_test_b,y_test_b, color='b')\n",
    "plt.xlabel('Actual Happiness Score',fontsize=14)\n",
    "plt.ylabel('Predicted Happiness Score',fontsize=14)\n",
    "plt.title('Decision Tree Regression',fontsize=18)\n",
    "plt.show()"
   ]
  },
  {
   "cell_type": "code",
   "execution_count": 105,
   "metadata": {},
   "outputs": [
    {
     "name": "stdout",
     "output_type": "stream",
     "text": [
      "{'criterion': 'mae', 'n_estimators': 200}\n"
     ]
    }
   ],
   "source": [
    "from sklearn.ensemble import RandomForestRegressor\n",
    "\n",
    "parameters = {'criterion':['friedman_mse', 'mae'],'n_estimators':[100,200,300]}\n",
    "rf = RandomForestRegressor()\n",
    "clf = GridSearchCV(rf,parameters)\n",
    "clf.fit(x_train_b,y_train_b)\n",
    "clf.fit(x_train_b,y_train_b)\n",
    "\n",
    "print(clf.best_params_)"
   ]
  },
  {
   "cell_type": "code",
   "execution_count": 130,
   "metadata": {},
   "outputs": [
    {
     "name": "stdout",
     "output_type": "stream",
     "text": [
      "R2 Score: 97.02732483664765\n",
      "Cross Val Score: 97.08201346691378\n"
     ]
    }
   ],
   "source": [
    "rf = RandomForestRegressor(criterion='mae',n_estimators=200)\n",
    "rf.fit(x_train_b, y_train_b)\n",
    "rf.score(x_train_b, y_train_b)\n",
    "pred_random = rf.predict(x_test_b)\n",
    "\n",
    "rfs = r2_score(y_test_b,pred_random)\n",
    "print('R2 Score:',rfs*100)\n",
    "\n",
    "rfscore = cross_val_score(rf,x_t,y,cv=3)\n",
    "rfc = rfscore.mean()\n",
    "print('Cross Val Score:',rfc*100)"
   ]
  },
  {
   "cell_type": "code",
   "execution_count": 131,
   "metadata": {},
   "outputs": [
    {
     "data": {
      "image/png": "[encoded data removed]",
      "text/plain": [
       "<Figure size 576x432 with 1 Axes>"
      ]
     },
     "metadata": {
      "needs_background": "light"
     },
     "output_type": "display_data"
    }
   ],
   "source": [
    "plt.figure(figsize=(8,6))\n",
    "plt.scatter(x=y_test_b, y=pred_random, color='r')\n",
    "plt.plot(y_test_b,y_test_b, color='b')\n",
    "plt.xlabel('Actual Compressive strengh',fontsize=14)\n",
    "plt.ylabel('Predicted Compressive strengh',fontsize=14)\n",
    "plt.title('Random Forest Regression',fontsize=18)\n",
    "plt.show()"
   ]
  },
  {
   "cell_type": "code",
   "execution_count": 113,
   "metadata": {},
   "outputs": [
    {
     "name": "stdout",
     "output_type": "stream",
     "text": [
      "{'loss': 'ls', 'n_estimators': 200}\n"
     ]
    }
   ],
   "source": [
    "from sklearn.datasets import make_regression\n",
    "from sklearn.ensemble import GradientBoostingRegressor\n",
    "parameters = {'loss':['ls','lad','huber','quantile'],'n_estimators':[50,100,200]}\n",
    "gbr = GradientBoostingRegressor()\n",
    "clf = GridSearchCV(gbr,parameters)\n",
    "clf.fit(x_train_b,y_train_b)\n",
    "\n",
    "print(clf.best_params_)"
   ]
  },
  {
   "cell_type": "code",
   "execution_count": 114,
   "metadata": {},
   "outputs": [
    {
     "name": "stdout",
     "output_type": "stream",
     "text": [
      "R2 Score: 96.96543797276925\n",
      "Cross Val Score: 97.36710903163855\n"
     ]
    }
   ],
   "source": [
    "gbr = GradientBoostingRegressor(criterion='friedman_mse',loss='huber',n_estimators=200)\n",
    "gbr.fit(x_train_b,y_train_b)\n",
    "gbr.score(x_train_b,y_train_b)\n",
    "pred_random = rf.predict(x_test_b)\n",
    "\n",
    "gbrs = r2_score(y_test_b,pred_random)\n",
    "print('R2 Score:',gbrs*100)\n",
    "\n",
    "gbscore = cross_val_score(gbr,x_t,y,cv=3)\n",
    "gbrc= gbscore.mean()\n",
    "print('Cross Val Score:',gbrc*100)"
   ]
  },
  {
   "cell_type": "code",
   "execution_count": 115,
   "metadata": {},
   "outputs": [
    {
     "data": {
      "image/png": "[encoded data removed]",
      "text/plain": [
       "<Figure size 576x432 with 1 Axes>"
      ]
     },
     "metadata": {
      "needs_background": "light"
     },
     "output_type": "display_data"
    }
   ],
   "source": [
    "plt.figure(figsize=(8,6))\n",
    "plt.scatter(x=y_test_b, y=pred_random, color='r')\n",
    "plt.plot(y_test_b,y_test_b, color='b')\n",
    "plt.xlabel('Actual Compressive strengh',fontsize=14)\n",
    "plt.ylabel('Predicted Compressive strengh',fontsize=14)\n",
    "plt.title('Gradient Boost Regressor',fontsize=18)\n",
    "plt.show()"
   ]
  },
  {
   "cell_type": "code",
   "execution_count": 117,
   "metadata": {},
   "outputs": [
    {
     "name": "stdout",
     "output_type": "stream",
     "text": [
      "{'kernel': 'linear'}\n"
     ]
    }
   ],
   "source": [
    "from sklearn.svm import SVR\n",
    "\n",
    "parameters = {'kernel':['linear','poly','rbf','sigmoid']}  #'gamma':['auto','scale']\n",
    "sv = SVR()\n",
    "clf = GridSearchCV(sv,parameters)\n",
    "clf.fit(x_train_b,y_train_b)\n",
    "\n",
    "print(clf.best_params_)"
   ]
  },
  {
   "cell_type": "code",
   "execution_count": 118,
   "metadata": {},
   "outputs": [
    {
     "name": "stdout",
     "output_type": "stream",
     "text": [
      "R2 Score: 91.0705466318938\n",
      "Cross Val Score: 88.5145499004134\n"
     ]
    }
   ],
   "source": [
    "sv = SVR(kernel = 'linear', gamma= 'auto')\n",
    "sv.fit(x_train_b, y_train_b)\n",
    "sv.score(x_train_b,y_train_b)\n",
    "pred_vector = sv.predict(x_test_b)\n",
    "\n",
    "svs = r2_score(y_test_b,pred_vector)\n",
    "print('R2 Score:',svs*100)\n",
    "\n",
    "svscore = cross_val_score(sv,x_t,y,cv=3)\n",
    "svc = svscore.mean()\n",
    "print('Cross Val Score:',svc*100)"
   ]
  },
  {
   "cell_type": "code",
   "execution_count": 119,
   "metadata": {},
   "outputs": [
    {
     "data": {
      "image/png": "[encoded data removed]",
      "text/plain": [
       "<Figure size 576x432 with 1 Axes>"
      ]
     },
     "metadata": {
      "needs_background": "light"
     },
     "output_type": "display_data"
    }
   ],
   "source": [
    "plt.figure(figsize=(8,6))\n",
    "plt.scatter(x=y_test_b, y=pred_random, color='r')\n",
    "plt.plot(y_test_b,y_test_b, color='b')\n",
    "plt.xlabel('Actual Compressive strengh',fontsize=14)\n",
    "plt.ylabel('Predicted Compressive strengh',fontsize=14)\n",
    "plt.title('Support Vector Regressor',fontsize=18)\n",
    "plt.show()"
   ]
  },
  {
   "cell_type": "markdown",
   "metadata": {},
   "source": [
    "From the above observation it is clear that ensemble techniques overfits the model.\n",
    "\n",
    "\n",
    "\n",
    "The best model is RandomForestRegression. Since the difference between the percentage score of cross validation and r2_score is optimum.\n",
    "\n",
    "Random_Forest_Regression :-\n",
    "\n",
    "R2 Score: 97.02732483664765\n",
    "\n",
    "Cross Val Score: 97.08201346691378\n"
   ]
  },
  {
   "cell_type": "code",
   "execution_count": 121,
   "metadata": {},
   "outputs": [],
   "source": [
    "#Model Saving\n",
    "\n",
    "import pickle\n",
    "filename = 'inadvertising.pkl'\n",
    "pickle.dump(ls, open(filename, 'wb'))"
   ]
  },
  {
   "cell_type": "markdown",
   "metadata": {},
   "source": [
    "# Conclusion:"
   ]
  },
  {
   "cell_type": "code",
   "execution_count": 123,
   "metadata": {},
   "outputs": [
    {
     "data": {
      "text/plain": [
       "array([13.4, 15. , 13.3, 20.7, 15.5,  8.8, 17.6, 15.5, 11.4, 20.1, 12.3,\n",
       "        6.6, 24.4, 12.4, 10.4, 11.6,  8.6, 20.8, 15.6, 22.3, 17.2, 22.4,\n",
       "        9.5, 18. , 14.7, 23.8,  6.6,  7.6, 17. ,  5.3, 14. , 15.9, 13.4,\n",
       "       10.1, 21.5, 10.5, 16.6,  9.5, 16.6, 12.9])"
      ]
     },
     "execution_count": 123,
     "metadata": {},
     "output_type": "execute_result"
    }
   ],
   "source": [
    "import numpy as np\n",
    "a=np.array(y_test)\n",
    "a"
   ]
  },
  {
   "cell_type": "code",
   "execution_count": 127,
   "metadata": {},
   "outputs": [
    {
     "data": {
      "text/plain": [
       "array([12.80928927, 17.81090924, 13.82764696, 20.22620595, 15.0860021 ,\n",
       "        5.83039979, 18.76499336, 15.98112164, 12.52503747, 19.37226728,\n",
       "       14.43361774,  6.6918827 , 22.61425967, 11.41613592,  9.15712637,\n",
       "       13.24529939,  7.23526552, 20.76504497, 16.11840235, 20.71819479,\n",
       "       16.9939814 , 20.35240648,  9.05911964, 17.55411724, 15.41372837,\n",
       "       21.21632937,  9.44154966,  7.46850768, 17.75086412,  1.96205356,\n",
       "       13.74485029, 15.90009258, 15.0158901 , 10.12536866, 20.31482898,\n",
       "        9.79615705, 16.89762111,  7.29152717, 16.9262128 , 13.21881718])"
      ]
     },
     "execution_count": 127,
     "metadata": {},
     "output_type": "execute_result"
    }
   ],
   "source": [
    "predicted = np.array(ls.predict(x_test))\n",
    "predicted"
   ]
  },
  {
   "cell_type": "code",
   "execution_count": 128,
   "metadata": {},
   "outputs": [],
   "source": [
    "df_com=pd.DataFrame({\"original\":a,\"predicted\":predicted}, index=range(len(a)))"
   ]
  },
  {
   "cell_type": "code",
   "execution_count": 129,
   "metadata": {},
   "outputs": [
    {
     "data": {
      "text/html": [
       "<div>\n",
       "<style scoped>\n",
       "    .dataframe tbody tr th:only-of-type {\n",
       "        vertical-align: middle;\n",
       "    }\n",
       "\n",
       "    .dataframe tbody tr th {\n",
       "        vertical-align: top;\n",
       "    }\n",
       "\n",
       "    .dataframe thead th {\n",
       "        text-align: right;\n",
       "    }\n",
       "</style>\n",
       "<table border=\"1\" class=\"dataframe\">\n",
       "  <thead>\n",
       "    <tr style=\"text-align: right;\">\n",
       "      <th></th>\n",
       "      <th>original</th>\n",
       "      <th>predicted</th>\n",
       "    </tr>\n",
       "  </thead>\n",
       "  <tbody>\n",
       "    <tr>\n",
       "      <th>0</th>\n",
       "      <td>13.4</td>\n",
       "      <td>12.809289</td>\n",
       "    </tr>\n",
       "    <tr>\n",
       "      <th>1</th>\n",
       "      <td>15.0</td>\n",
       "      <td>17.810909</td>\n",
       "    </tr>\n",
       "    <tr>\n",
       "      <th>2</th>\n",
       "      <td>13.3</td>\n",
       "      <td>13.827647</td>\n",
       "    </tr>\n",
       "    <tr>\n",
       "      <th>3</th>\n",
       "      <td>20.7</td>\n",
       "      <td>20.226206</td>\n",
       "    </tr>\n",
       "    <tr>\n",
       "      <th>4</th>\n",
       "      <td>15.5</td>\n",
       "      <td>15.086002</td>\n",
       "    </tr>\n",
       "    <tr>\n",
       "      <th>5</th>\n",
       "      <td>8.8</td>\n",
       "      <td>5.830400</td>\n",
       "    </tr>\n",
       "    <tr>\n",
       "      <th>6</th>\n",
       "      <td>17.6</td>\n",
       "      <td>18.764993</td>\n",
       "    </tr>\n",
       "    <tr>\n",
       "      <th>7</th>\n",
       "      <td>15.5</td>\n",
       "      <td>15.981122</td>\n",
       "    </tr>\n",
       "    <tr>\n",
       "      <th>8</th>\n",
       "      <td>11.4</td>\n",
       "      <td>12.525037</td>\n",
       "    </tr>\n",
       "    <tr>\n",
       "      <th>9</th>\n",
       "      <td>20.1</td>\n",
       "      <td>19.372267</td>\n",
       "    </tr>\n",
       "    <tr>\n",
       "      <th>10</th>\n",
       "      <td>12.3</td>\n",
       "      <td>14.433618</td>\n",
       "    </tr>\n",
       "    <tr>\n",
       "      <th>11</th>\n",
       "      <td>6.6</td>\n",
       "      <td>6.691883</td>\n",
       "    </tr>\n",
       "    <tr>\n",
       "      <th>12</th>\n",
       "      <td>24.4</td>\n",
       "      <td>22.614260</td>\n",
       "    </tr>\n",
       "    <tr>\n",
       "      <th>13</th>\n",
       "      <td>12.4</td>\n",
       "      <td>11.416136</td>\n",
       "    </tr>\n",
       "    <tr>\n",
       "      <th>14</th>\n",
       "      <td>10.4</td>\n",
       "      <td>9.157126</td>\n",
       "    </tr>\n",
       "    <tr>\n",
       "      <th>15</th>\n",
       "      <td>11.6</td>\n",
       "      <td>13.245299</td>\n",
       "    </tr>\n",
       "    <tr>\n",
       "      <th>16</th>\n",
       "      <td>8.6</td>\n",
       "      <td>7.235266</td>\n",
       "    </tr>\n",
       "    <tr>\n",
       "      <th>17</th>\n",
       "      <td>20.8</td>\n",
       "      <td>20.765045</td>\n",
       "    </tr>\n",
       "    <tr>\n",
       "      <th>18</th>\n",
       "      <td>15.6</td>\n",
       "      <td>16.118402</td>\n",
       "    </tr>\n",
       "    <tr>\n",
       "      <th>19</th>\n",
       "      <td>22.3</td>\n",
       "      <td>20.718195</td>\n",
       "    </tr>\n",
       "    <tr>\n",
       "      <th>20</th>\n",
       "      <td>17.2</td>\n",
       "      <td>16.993981</td>\n",
       "    </tr>\n",
       "    <tr>\n",
       "      <th>21</th>\n",
       "      <td>22.4</td>\n",
       "      <td>20.352406</td>\n",
       "    </tr>\n",
       "    <tr>\n",
       "      <th>22</th>\n",
       "      <td>9.5</td>\n",
       "      <td>9.059120</td>\n",
       "    </tr>\n",
       "    <tr>\n",
       "      <th>23</th>\n",
       "      <td>18.0</td>\n",
       "      <td>17.554117</td>\n",
       "    </tr>\n",
       "    <tr>\n",
       "      <th>24</th>\n",
       "      <td>14.7</td>\n",
       "      <td>15.413728</td>\n",
       "    </tr>\n",
       "    <tr>\n",
       "      <th>25</th>\n",
       "      <td>23.8</td>\n",
       "      <td>21.216329</td>\n",
       "    </tr>\n",
       "    <tr>\n",
       "      <th>26</th>\n",
       "      <td>6.6</td>\n",
       "      <td>9.441550</td>\n",
       "    </tr>\n",
       "    <tr>\n",
       "      <th>27</th>\n",
       "      <td>7.6</td>\n",
       "      <td>7.468508</td>\n",
       "    </tr>\n",
       "    <tr>\n",
       "      <th>28</th>\n",
       "      <td>17.0</td>\n",
       "      <td>17.750864</td>\n",
       "    </tr>\n",
       "    <tr>\n",
       "      <th>29</th>\n",
       "      <td>5.3</td>\n",
       "      <td>1.962054</td>\n",
       "    </tr>\n",
       "    <tr>\n",
       "      <th>30</th>\n",
       "      <td>14.0</td>\n",
       "      <td>13.744850</td>\n",
       "    </tr>\n",
       "    <tr>\n",
       "      <th>31</th>\n",
       "      <td>15.9</td>\n",
       "      <td>15.900093</td>\n",
       "    </tr>\n",
       "    <tr>\n",
       "      <th>32</th>\n",
       "      <td>13.4</td>\n",
       "      <td>15.015890</td>\n",
       "    </tr>\n",
       "    <tr>\n",
       "      <th>33</th>\n",
       "      <td>10.1</td>\n",
       "      <td>10.125369</td>\n",
       "    </tr>\n",
       "    <tr>\n",
       "      <th>34</th>\n",
       "      <td>21.5</td>\n",
       "      <td>20.314829</td>\n",
       "    </tr>\n",
       "    <tr>\n",
       "      <th>35</th>\n",
       "      <td>10.5</td>\n",
       "      <td>9.796157</td>\n",
       "    </tr>\n",
       "    <tr>\n",
       "      <th>36</th>\n",
       "      <td>16.6</td>\n",
       "      <td>16.897621</td>\n",
       "    </tr>\n",
       "    <tr>\n",
       "      <th>37</th>\n",
       "      <td>9.5</td>\n",
       "      <td>7.291527</td>\n",
       "    </tr>\n",
       "    <tr>\n",
       "      <th>38</th>\n",
       "      <td>16.6</td>\n",
       "      <td>16.926213</td>\n",
       "    </tr>\n",
       "    <tr>\n",
       "      <th>39</th>\n",
       "      <td>12.9</td>\n",
       "      <td>13.218817</td>\n",
       "    </tr>\n",
       "  </tbody>\n",
       "</table>\n",
       "</div>"
      ],
      "text/plain": [
       "    original  predicted\n",
       "0       13.4  12.809289\n",
       "1       15.0  17.810909\n",
       "2       13.3  13.827647\n",
       "3       20.7  20.226206\n",
       "4       15.5  15.086002\n",
       "5        8.8   5.830400\n",
       "6       17.6  18.764993\n",
       "7       15.5  15.981122\n",
       "8       11.4  12.525037\n",
       "9       20.1  19.372267\n",
       "10      12.3  14.433618\n",
       "11       6.6   6.691883\n",
       "12      24.4  22.614260\n",
       "13      12.4  11.416136\n",
       "14      10.4   9.157126\n",
       "15      11.6  13.245299\n",
       "16       8.6   7.235266\n",
       "17      20.8  20.765045\n",
       "18      15.6  16.118402\n",
       "19      22.3  20.718195\n",
       "20      17.2  16.993981\n",
       "21      22.4  20.352406\n",
       "22       9.5   9.059120\n",
       "23      18.0  17.554117\n",
       "24      14.7  15.413728\n",
       "25      23.8  21.216329\n",
       "26       6.6   9.441550\n",
       "27       7.6   7.468508\n",
       "28      17.0  17.750864\n",
       "29       5.3   1.962054\n",
       "30      14.0  13.744850\n",
       "31      15.9  15.900093\n",
       "32      13.4  15.015890\n",
       "33      10.1  10.125369\n",
       "34      21.5  20.314829\n",
       "35      10.5   9.796157\n",
       "36      16.6  16.897621\n",
       "37       9.5   7.291527\n",
       "38      16.6  16.926213\n",
       "39      12.9  13.218817"
      ]
     },
     "execution_count": 129,
     "metadata": {},
     "output_type": "execute_result"
    }
   ],
   "source": [
    "df_com"
   ]
  },
  {
   "cell_type": "markdown",
   "metadata": {},
   "source": [
    "# From the above table the model is predicted the value with 87-97 percent accuracy."
   ]
  },
  {
   "cell_type": "code",
   "execution_count": null,
   "metadata": {},
   "outputs": [],
   "source": []
  }
 ],
 "metadata": {
  "kernelspec": {
   "display_name": "Python 3",
   "language": "python",
   "name": "python3"
  },
  "language_info": {
   "codemirror_mode": {
    "name": "ipython",
    "version": 3
   },
   "file_extension": ".py",
   "mimetype": "text/x-python",
   "name": "python",
   "nbconvert_exporter": "python",
   "pygments_lexer": "ipython3",
   "version": "3.8.5"
  }
 },
 "nbformat": 4,
 "nbformat_minor": 4
}
